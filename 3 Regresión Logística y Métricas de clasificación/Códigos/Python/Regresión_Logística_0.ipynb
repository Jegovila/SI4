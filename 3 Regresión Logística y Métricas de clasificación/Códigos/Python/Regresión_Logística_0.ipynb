{
  "cells": [
    {
      "cell_type": "markdown",
      "metadata": {
        "id": "view-in-github",
        "colab_type": "text"
      },
      "source": [
        "<a href=\"https://colab.research.google.com/github/Jegovila/SI4/blob/main/3%20Regresi%C3%B3n%20Log%C3%ADstica%20y%20M%C3%A9tricas%20de%20clasificaci%C3%B3n/C%C3%B3digos/Python/Regresi%C3%B3n_Log%C3%ADstica_0.ipynb\" target=\"_parent\"><img src=\"https://colab.research.google.com/assets/colab-badge.svg\" alt=\"Open In Colab\"/></a>"
      ]
    },
    {
      "cell_type": "code",
      "source": [
        "!wget -nc \"https://raw.githubusercontent.com/Jegovila/SI4/main/3%20Regresi%C3%B3n%20Log%C3%ADstica%20y%20M%C3%A9tricas%20de%20clasificaci%C3%B3n/C%C3%B3digos/Python/diabetes.csv\""
      ],
      "metadata": {
        "id": "QXk2VNedNoU4"
      },
      "execution_count": null,
      "outputs": []
    },
    {
      "cell_type": "code",
      "execution_count": 1,
      "metadata": {
        "id": "9-Jent42GtGn"
      },
      "outputs": [],
      "source": [
        "import numpy as np\n",
        "import matplotlib.pyplot as plt"
      ]
    },
    {
      "cell_type": "code",
      "execution_count": null,
      "metadata": {
        "scrolled": true,
        "id": "TTLoT4oSGtGo"
      },
      "outputs": [],
      "source": [
        "x = np.linspace(-10, 10, 100)\n",
        "sig = 1 / (1 + np.exp(-x))\n",
        "plt.plot([-10, 10], [0, 0], \"k-\")\n",
        "plt.plot([-10, 10], [0.5, 0.5], \"k:\")\n",
        "plt.plot([-10, 10], [1, 1], \"k:\")\n",
        "plt.plot([0, 0], [-1.1, 1.1], \"k-\")\n",
        "plt.plot(x, sig, \"b-\", linewidth=2, label=r\"$\\sigma(x) = \\frac{1}{1 + e^{-x}}$\")\n",
        "plt.xlabel(\"x\")\n",
        "plt.legend(loc=\"upper left\", fontsize=10)\n",
        "plt.axis([-10, 10, -0.1, 1.1])\n",
        "plt.show()"
      ]
    },
    {
      "cell_type": "code",
      "execution_count": 3,
      "metadata": {
        "id": "a8pBB1XJGtGp"
      },
      "outputs": [],
      "source": [
        "# Importar paquetes\n",
        "import matplotlib.pyplot as plt\n",
        "import numpy as np\n",
        "import pandas as pd\n",
        "from sklearn.linear_model import LogisticRegression\n",
        "from sklearn.model_selection import train_test_split"
      ]
    },
    {
      "cell_type": "code",
      "execution_count": null,
      "metadata": {
        "id": "LyJDUu-AGtGp"
      },
      "outputs": [],
      "source": [
        "# Leer datos\n",
        "data = pd.read_csv('diabetes.csv')\n",
        "print(data.info())"
      ]
    },
    {
      "cell_type": "code",
      "execution_count": null,
      "metadata": {
        "id": "i5DIRms2GtGp"
      },
      "outputs": [],
      "source": [
        "no_show = pd.plotting.scatter_matrix(data)"
      ]
    },
    {
      "cell_type": "code",
      "execution_count": null,
      "metadata": {
        "id": "eM5wvr2uGtGp"
      },
      "outputs": [],
      "source": [
        "corr = data.corr()\n",
        "print(corr)\n",
        "import seaborn as sns\n",
        "sns.heatmap(corr,\n",
        "         xticklabels=corr.columns,\n",
        "         yticklabels=corr.columns)"
      ]
    },
    {
      "cell_type": "code",
      "execution_count": null,
      "metadata": {
        "id": "SyDNZ4NhGtGq"
      },
      "outputs": [],
      "source": [
        "## Primer método\n",
        "\n",
        "# Eleguir variables\n",
        "x = np.asanyarray(data[['Glucose']])\n",
        "y = np.asanyarray(data[['Outcome']]).ravel()\n",
        "\n",
        "# Dividir Train/Test\n",
        "xtrain, xtest, ytrain, ytest = train_test_split(x,y)\n",
        "\n",
        "# Crear modelo y entrenar\n",
        "logit=LogisticRegression(solver='lbfgs')\n",
        "logit.fit(xtrain,ytrain)\n",
        "\n",
        "# Calcular Score\n",
        "print('Train: ', logit.score(xtrain,ytrain))\n",
        "print('Test: ', logit.score(xtest,ytest))\n",
        "\n",
        "g = np.linspace(0,200,50).reshape(-1,1)\n",
        "prediction = logit.predict_proba(g)\n",
        "plt.plot(xtrain,ytrain,'.b')\n",
        "plt.plot(xtest,ytest,'.r')\n",
        "plt.xlabel('Glucose')\n",
        "plt.ylabel('Outcome')\n",
        "plt.plot(g, prediction)"
      ]
    },
    {
      "cell_type": "code",
      "execution_count": null,
      "metadata": {
        "id": "JnOHCzhnGtGq"
      },
      "outputs": [],
      "source": [
        "## Segundo método\n",
        "\n",
        "# Eleguir variables\n",
        "x = np.asanyarray(data.drop(columns=['Outcome']))\n",
        "y = np.asanyarray(data[['Outcome']]).ravel()\n",
        "\n",
        "# Dividir Train/Test\n",
        "xtrain, xtest, ytrain, ytest = train_test_split(x,y)\n",
        "\n",
        "# Importar nuevos paquetes\n",
        "from sklearn.preprocessing import StandardScaler\n",
        "from sklearn.pipeline import Pipeline\n",
        "\n",
        "# Crear modelo y entrenar\n",
        "model = Pipeline([\n",
        "    ('scaler', StandardScaler()),\n",
        "    ('logit', LogisticRegression(solver='lbfgs')) ])\n",
        "\n",
        "# Crear modelo y entrenar\n",
        "model.fit(xtrain,ytrain)\n",
        "\n",
        "# Calcular Score\n",
        "print('Train: ', model.score(xtrain,ytrain))\n",
        "print('Test: ', model.score(xtest,ytest))"
      ]
    },
    {
      "cell_type": "code",
      "execution_count": null,
      "metadata": {
        "id": "BhvxSoXbGtGq"
      },
      "outputs": [],
      "source": [
        "coeff = np.abs(model.named_steps['logit'].coef_[0])\n",
        "labels = data.drop(columns=['Outcome']).columns\n",
        "features = pd.DataFrame()\n",
        "features['Features'] = labels\n",
        "features['importance'] = coeff / np.sum(coeff)\n",
        "features.sort_values(by=['importance'], ascending=True, inplace=True)\n",
        "features.set_index('Features', inplace=True)\n",
        "features.importance.plot(kind='barh')\n",
        "plt.xlabel('Importance')\n",
        "print(features)"
      ]
    },
    {
      "cell_type": "code",
      "execution_count": null,
      "metadata": {
        "id": "Q6yyzFfMGtGq"
      },
      "outputs": [],
      "source": [
        "## Tercer método\n",
        "\n",
        "# Eleguir variables\n",
        "x = np.asanyarray(data.drop(columns=['Outcome']))\n",
        "y = np.asanyarray(data[['Outcome']]).ravel()\n",
        "\n",
        "# Dividir Train/Test\n",
        "xtrain, xtest, ytrain, ytest = train_test_split(x,y)\n",
        "\n",
        "# Importar nuevos paquetes\n",
        "from sklearn.preprocessing import StandardScaler\n",
        "from sklearn.preprocessing import PolynomialFeatures\n",
        "from sklearn.pipeline import Pipeline\n",
        "\n",
        "# Crear modelo y entrenar\n",
        "model = Pipeline([\n",
        "    ('poly', PolynomialFeatures(degree=10, include_bias=False)),\n",
        "    ('scaler', StandardScaler()),\n",
        "    ('logit', LogisticRegression(solver='lbfgs'))\n",
        "                ])\n",
        "\n",
        "\n",
        "model.fit(xtrain,ytrain)\n",
        "\n",
        "# Calcular Score\n",
        "print('Train: ', model.score(xtrain,ytrain))\n",
        "print('Test: ', model.score(xtest,ytest))"
      ]
    },
    {
      "cell_type": "code",
      "execution_count": null,
      "metadata": {
        "id": "wgH_fXNPGtGq"
      },
      "outputs": [],
      "source": [
        "from sklearn import datasets\n",
        "iris = datasets.load_iris()\n",
        "list(iris.keys())"
      ]
    },
    {
      "cell_type": "code",
      "execution_count": null,
      "metadata": {
        "id": "ggv6VugxGtGr"
      },
      "outputs": [],
      "source": [
        "print(iris.DESCR)"
      ]
    },
    {
      "cell_type": "code",
      "execution_count": null,
      "metadata": {
        "id": "UDYtWtClGtGr"
      },
      "outputs": [],
      "source": [
        "x = iris[\"data\"][:, (2, 3)]  # petal length, petal width\n",
        "y = iris[\"target\"]\n",
        "\n",
        "plt.plot(x[y==2, 0], x[y==2, 1], \"g^\", label=\"Iris-Virginica\")\n",
        "plt.plot(x[y==1, 0], x[y==1, 1], \"bs\", label=\"Iris-Versicolor\")\n",
        "plt.plot(x[y==0, 0], x[y==0, 1], \"yo\", label=\"Iris-Setosa\")\n",
        "\n",
        "# Dividir Train/Test\n",
        "xtrain, xtest, ytrain, ytest = train_test_split(x,y)\n",
        "\n",
        "softmax_reg = LogisticRegression(multi_class=\"multinomial\", solver=\"lbfgs\", C=10)\n",
        "softmax_reg.fit(xtrain, ytrain)\n",
        "\n",
        "# Calcular Score\n",
        "print('Train: ', softmax_reg.score(xtrain,ytrain))\n",
        "print('Test: ', softmax_reg.score(xtest,ytest))"
      ]
    }
  ],
  "metadata": {
    "kernelspec": {
      "display_name": "Python 3",
      "language": "python",
      "name": "python3"
    },
    "language_info": {
      "codemirror_mode": {
        "name": "ipython",
        "version": 3
      },
      "file_extension": ".py",
      "mimetype": "text/x-python",
      "name": "python",
      "nbconvert_exporter": "python",
      "pygments_lexer": "ipython3",
      "version": "3.7.1"
    },
    "colab": {
      "provenance": [],
      "include_colab_link": true
    }
  },
  "nbformat": 4,
  "nbformat_minor": 0
}