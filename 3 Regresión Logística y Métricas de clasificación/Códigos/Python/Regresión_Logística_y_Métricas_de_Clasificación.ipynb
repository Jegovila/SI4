{
  "nbformat": 4,
  "nbformat_minor": 0,
  "metadata": {
    "colab": {
      "provenance": [],
      "authorship_tag": "ABX9TyOdMbHuxGeegUx8QmJmkGzN",
      "include_colab_link": true
    },
    "kernelspec": {
      "name": "python3",
      "display_name": "Python 3"
    },
    "language_info": {
      "name": "python"
    }
  },
  "cells": [
    {
      "cell_type": "markdown",
      "metadata": {
        "id": "view-in-github",
        "colab_type": "text"
      },
      "source": [
        "<a href=\"https://colab.research.google.com/github/Jegovila/SI4/blob/main/3%20Regresi%C3%B3n%20Log%C3%ADstica%20y%20M%C3%A9tricas%20de%20clasificaci%C3%B3n/C%C3%B3digos/Python/Regresi%C3%B3n_Log%C3%ADstica_y_M%C3%A9tricas_de_Clasificaci%C3%B3n.ipynb\" target=\"_parent\"><img src=\"https://colab.research.google.com/assets/colab-badge.svg\" alt=\"Open In Colab\"/></a>"
      ]
    },
    {
      "cell_type": "code",
      "execution_count": null,
      "metadata": {
        "id": "HMukxc-ZLYSf"
      },
      "outputs": [],
      "source": [
        "!wget -nc \"https://raw.githubusercontent.com/Jegovila/SI4/main/3%20Regresi%C3%B3n%20Log%C3%ADstica%20y%20M%C3%A9tricas%20de%20clasificaci%C3%B3n/C%C3%B3digos/Python/df_clasificacion_1.csv\"\n",
        "!wget -nc \"https://raw.githubusercontent.com/Jegovila/SI4/main/3%20Regresi%C3%B3n%20Log%C3%ADstica%20y%20M%C3%A9tricas%20de%20clasificaci%C3%B3n/C%C3%B3digos/Python/df_clasificacion_2.csv\"\n",
        "!wget -nc \"https://raw.githubusercontent.com/Jegovila/SI4/main/3%20Regresi%C3%B3n%20Log%C3%ADstica%20y%20M%C3%A9tricas%20de%20clasificaci%C3%B3n/C%C3%B3digos/Python/df_clasificacion_3.csv\""
      ]
    },
    {
      "cell_type": "code",
      "source": [
        "import pandas as pd\n",
        "import numpy as np\n",
        "import matplotlib.pyplot as plt"
      ],
      "metadata": {
        "id": "vIJGPgtZLsRc"
      },
      "execution_count": null,
      "outputs": []
    },
    {
      "cell_type": "code",
      "source": [
        "from sklearn.preprocessing import PolynomialFeatures\n",
        "from sklearn.model_selection import train_test_split\n",
        "from sklearn.preprocessing import StandardScaler\n",
        "from sklearn.pipeline import Pipeline\n",
        "from sklearn import metrics"
      ],
      "metadata": {
        "id": "pXQ6sFh8LuWr"
      },
      "execution_count": null,
      "outputs": []
    },
    {
      "cell_type": "code",
      "source": [
        "from sklearn.linear_model import LogisticRegression\n",
        "from sklearn.inspection import DecisionBoundaryDisplay"
      ],
      "metadata": {
        "id": "fhbwTP8uLwXA"
      },
      "execution_count": null,
      "outputs": []
    },
    {
      "cell_type": "code",
      "source": [
        "df = pd.read_csv('df_clasificacion_1.csv') # 1, 2, 3\n",
        "\n",
        "x = np.asanyarray(df.drop(columns=['y']))\n",
        "y = np.asanyarray(df['y'])\n",
        "\n",
        "x_train, x_test, y_train, y_test = train_test_split(x, y,train_size=0.9)"
      ],
      "metadata": {
        "id": "sSlbq-YJLx2K"
      },
      "execution_count": null,
      "outputs": []
    },
    {
      "cell_type": "markdown",
      "source": [
        "Logistic Regression"
      ],
      "metadata": {
        "id": "jcPvs7wSL5kC"
      }
    },
    {
      "cell_type": "code",
      "source": [
        "model = Pipeline([('scaler',StandardScaler()),('cla',LogisticRegression(max_iter=2000,C=200))])\n",
        "model.fit(x_train,y_train)"
      ],
      "metadata": {
        "id": "ODUIOIhNL0YP"
      },
      "execution_count": null,
      "outputs": []
    },
    {
      "cell_type": "markdown",
      "source": [
        "Polinomial"
      ],
      "metadata": {
        "id": "wsx-j4TKL9Bu"
      }
    },
    {
      "cell_type": "code",
      "source": [
        "model = Pipeline([('poly',PolynomialFeatures(degree=4)),('scaler',StandardScaler()),('cla',LogisticRegression(max_iter=2000,C=200))])\n",
        "model.fit(x_train,y_train)"
      ],
      "metadata": {
        "id": "S1dKmPW5MAAS"
      },
      "execution_count": null,
      "outputs": []
    },
    {
      "cell_type": "code",
      "source": [
        "print('Train score:',model.score(x_train,y_train))\n",
        "print('Test score:',model.score(x_test,y_test))"
      ],
      "metadata": {
        "id": "-R0UAXrpMBF5"
      },
      "execution_count": null,
      "outputs": []
    },
    {
      "cell_type": "code",
      "source": [
        "disp = DecisionBoundaryDisplay.from_estimator(model,x,response_method=\"predict\",alpha=0.5,eps=0.2,cmap=plt.cm.RdBu,xlabel='x1',ylabel='x2')\n",
        "disp.ax_.scatter(x[y==0,0],x[y==0,1],color='r',edgecolor='k')\n",
        "disp.ax_.scatter(x[y==1,0],x[y==1,1],color='b',edgecolor='k')\n",
        "\n",
        "yp = model.predict(x)"
      ],
      "metadata": {
        "id": "AYVvXWt5MDVy"
      },
      "execution_count": null,
      "outputs": []
    },
    {
      "cell_type": "markdown",
      "source": [
        "Métricas"
      ],
      "metadata": {
        "id": "VfkD3leLMItF"
      }
    },
    {
      "cell_type": "code",
      "source": [
        "print('Metricas: \\n', metrics.classification_report(y,yp))"
      ],
      "metadata": {
        "id": "VxUJ38IBMKMM"
      },
      "execution_count": null,
      "outputs": []
    },
    {
      "cell_type": "markdown",
      "source": [
        "Matriz de Confusión"
      ],
      "metadata": {
        "id": "fYhN1hjBMLW2"
      }
    },
    {
      "cell_type": "code",
      "source": [
        "print('Confusion matrix: \\n', metrics.confusion_matrix(y,yp))"
      ],
      "metadata": {
        "id": "uGTxvO-vMNUQ"
      },
      "execution_count": null,
      "outputs": []
    },
    {
      "cell_type": "markdown",
      "source": [
        "Curvas ROC"
      ],
      "metadata": {
        "id": "usxd5ecWMQAg"
      }
    },
    {
      "cell_type": "code",
      "source": [
        "g = model.predict_proba(x)\n",
        "fpr, tpr, _ = metrics.roc_curve(y,g[:,1])\n",
        "display = metrics.RocCurveDisplay(fpr=fpr,tpr=tpr,estimator_name=\"ROC\")\n",
        "display.plot()\n",
        "plt.show()"
      ],
      "metadata": {
        "id": "g2wGwro9MQ-Z"
      },
      "execution_count": null,
      "outputs": []
    }
  ]
}