{
  "nbformat": 4,
  "nbformat_minor": 0,
  "metadata": {
    "colab": {
      "provenance": [],
      "authorship_tag": "ABX9TyPlMo8ARWfEZYBX/qnX3obI",
      "include_colab_link": true
    },
    "kernelspec": {
      "name": "python3",
      "display_name": "Python 3"
    },
    "language_info": {
      "name": "python"
    }
  },
  "cells": [
    {
      "cell_type": "markdown",
      "metadata": {
        "id": "view-in-github",
        "colab_type": "text"
      },
      "source": [
        "<a href=\"https://colab.research.google.com/github/Jegovila/SI4/blob/main/0%20Introducci%C3%B3n/C%C3%B3digos/Python/Introducci%C3%B3n_a_python.ipynb\" target=\"_parent\"><img src=\"https://colab.research.google.com/assets/colab-badge.svg\" alt=\"Open In Colab\"/></a>"
      ]
    },
    {
      "cell_type": "markdown",
      "source": [
        "# Tipos de datos"
      ],
      "metadata": {
        "id": "80KrhsGlvGr0"
      }
    },
    {
      "cell_type": "code",
      "execution_count": null,
      "metadata": {
        "id": "oTnK1QfOt7ad"
      },
      "outputs": [],
      "source": [
        "type(3)"
      ]
    },
    {
      "cell_type": "code",
      "source": [
        "type(3.0)"
      ],
      "metadata": {
        "id": "ihMQgON4utBn"
      },
      "execution_count": null,
      "outputs": []
    },
    {
      "cell_type": "code",
      "source": [
        "type(3 + 4j)"
      ],
      "metadata": {
        "id": "20HKCtDTu2p4"
      },
      "execution_count": null,
      "outputs": []
    },
    {
      "cell_type": "code",
      "source": [
        "type(0j)"
      ],
      "metadata": {
        "id": "2QGr442Vu-mY"
      },
      "execution_count": null,
      "outputs": []
    },
    {
      "cell_type": "code",
      "source": [
        "type(True)"
      ],
      "metadata": {
        "id": "nSfxq91HvBdN"
      },
      "execution_count": null,
      "outputs": []
    },
    {
      "cell_type": "code",
      "source": [
        "type('Javier')"
      ],
      "metadata": {
        "id": "PjxHB0QEvDwn"
      },
      "execution_count": null,
      "outputs": []
    },
    {
      "cell_type": "markdown",
      "source": [
        "# Operaciones aritméticas"
      ],
      "metadata": {
        "id": "UPyePFEUvM7U"
      }
    },
    {
      "cell_type": "code",
      "source": [
        "5 + 2"
      ],
      "metadata": {
        "id": "Kcd-6VzkvP-J"
      },
      "execution_count": null,
      "outputs": []
    },
    {
      "cell_type": "code",
      "source": [
        "5 - 2"
      ],
      "metadata": {
        "id": "gUNGOrjqvV5D"
      },
      "execution_count": null,
      "outputs": []
    },
    {
      "cell_type": "code",
      "source": [
        "5 * 2"
      ],
      "metadata": {
        "id": "2d8ZsGNkvW8L"
      },
      "execution_count": null,
      "outputs": []
    },
    {
      "cell_type": "code",
      "source": [
        "5 / 2"
      ],
      "metadata": {
        "id": "JuMVJ8eYvYJw"
      },
      "execution_count": null,
      "outputs": []
    },
    {
      "cell_type": "code",
      "source": [
        "5 // 2"
      ],
      "metadata": {
        "id": "jKJpcLdivgLR"
      },
      "execution_count": null,
      "outputs": []
    },
    {
      "cell_type": "code",
      "source": [
        "5 % 2"
      ],
      "metadata": {
        "id": "V4eWjRVlvlQI"
      },
      "execution_count": null,
      "outputs": []
    },
    {
      "cell_type": "code",
      "source": [
        "5 ** 2"
      ],
      "metadata": {
        "id": "3CPGKMPyvnXR"
      },
      "execution_count": null,
      "outputs": []
    },
    {
      "cell_type": "markdown",
      "source": [
        "# Operadores de asignación"
      ],
      "metadata": {
        "id": "Me2oRKIevwWz"
      }
    },
    {
      "cell_type": "code",
      "source": [
        "a = 25.0\n",
        "type(a)"
      ],
      "metadata": {
        "id": "oR_5Oil7vzub"
      },
      "execution_count": null,
      "outputs": []
    },
    {
      "cell_type": "code",
      "source": [
        "b = 252\n",
        "b -= 2\n",
        "b"
      ],
      "metadata": {
        "id": "0r6NA7jSv7sw"
      },
      "execution_count": null,
      "outputs": []
    },
    {
      "cell_type": "code",
      "source": [
        "b = 5\n",
        "b **= 2\n",
        "b"
      ],
      "metadata": {
        "id": "SU9_dKJHwI3f"
      },
      "execution_count": null,
      "outputs": []
    },
    {
      "cell_type": "markdown",
      "source": [
        "# Operadores de comparación"
      ],
      "metadata": {
        "id": "gRDZx-VCwQ6E"
      }
    },
    {
      "cell_type": "code",
      "source": [
        "5 > 2"
      ],
      "metadata": {
        "id": "WvrLeLNgwTGO"
      },
      "execution_count": null,
      "outputs": []
    },
    {
      "cell_type": "code",
      "source": [
        "5 <= 4.9"
      ],
      "metadata": {
        "id": "9-El3SGrwWqv"
      },
      "execution_count": null,
      "outputs": []
    },
    {
      "cell_type": "code",
      "source": [
        "5 == 5"
      ],
      "metadata": {
        "id": "6fV2arbPwZp5"
      },
      "execution_count": null,
      "outputs": []
    },
    {
      "cell_type": "code",
      "source": [
        "5 != 5"
      ],
      "metadata": {
        "id": "VwF_GhLywbCW"
      },
      "execution_count": null,
      "outputs": []
    },
    {
      "cell_type": "code",
      "source": [
        "a = 2\n",
        "b = 2\n",
        "\n",
        "a == b"
      ],
      "metadata": {
        "id": "qvz5GwOhwnqZ"
      },
      "execution_count": null,
      "outputs": []
    },
    {
      "cell_type": "markdown",
      "source": [
        "El operador \"is\" no solo comprueba que el valor sea el mismo sino que ambos sean lo mismo en memoria. ¿Cuál será la salida del siguiente bloque?"
      ],
      "metadata": {
        "id": "64kvxyb5w1g2"
      }
    },
    {
      "cell_type": "code",
      "source": [
        "a = 2\n",
        "b = 2\n",
        "a is b"
      ],
      "metadata": {
        "id": "MGF2xvrFwvzM"
      },
      "execution_count": null,
      "outputs": []
    },
    {
      "cell_type": "code",
      "source": [
        "id(a)"
      ],
      "metadata": {
        "id": "vDyfbnVryck-"
      },
      "execution_count": null,
      "outputs": []
    },
    {
      "cell_type": "code",
      "source": [
        "id(b)"
      ],
      "metadata": {
        "id": "DopR2JZZypWJ"
      },
      "execution_count": null,
      "outputs": []
    },
    {
      "cell_type": "markdown",
      "source": [
        "# Operaciones son Strings"
      ],
      "metadata": {
        "id": "9LHq55ICy3or"
      }
    },
    {
      "cell_type": "code",
      "source": [
        "a = 'Javier'\n",
        "b = \"Enrique\"\n",
        "c = 'Javier es el \"profe\"'"
      ],
      "metadata": {
        "id": "Av_u_5_ty5hJ"
      },
      "execution_count": 42,
      "outputs": []
    },
    {
      "cell_type": "code",
      "source": [
        "a + ' ' + b"
      ],
      "metadata": {
        "id": "VQPR99tZz3zA"
      },
      "execution_count": null,
      "outputs": []
    },
    {
      "cell_type": "code",
      "source": [
        "a * 3"
      ],
      "metadata": {
        "id": "Giu50eEBz_gu"
      },
      "execution_count": null,
      "outputs": []
    },
    {
      "cell_type": "code",
      "source": [
        "a[1]"
      ],
      "metadata": {
        "id": "yMtiUFpP0HLd"
      },
      "execution_count": null,
      "outputs": []
    },
    {
      "cell_type": "markdown",
      "source": [
        "# Listas"
      ],
      "metadata": {
        "id": "Tacobl5z6g7I"
      }
    },
    {
      "cell_type": "code",
      "source": [
        "lista = [2, 3, 4, 1, 2, True, 'Javier', [1, 7, 3, 1]]"
      ],
      "metadata": {
        "id": "Ot5nDO1-0J6Q"
      },
      "execution_count": 47,
      "outputs": []
    },
    {
      "cell_type": "markdown",
      "source": [
        "Índices\n",
        "\n",
        "lista [0 | 1 | ... | n-2 | n-1]"
      ],
      "metadata": {
        "id": "VgSsOuZY0oNN"
      }
    },
    {
      "cell_type": "code",
      "source": [
        "lista[6]"
      ],
      "metadata": {
        "id": "qr7OsbgF0ypY"
      },
      "execution_count": null,
      "outputs": []
    },
    {
      "cell_type": "markdown",
      "source": [
        "¿Cuál será la salida del siguietne bloque?"
      ],
      "metadata": {
        "id": "5eSUlU9p1Fey"
      }
    },
    {
      "cell_type": "code",
      "source": [
        "lista[7][1]"
      ],
      "metadata": {
        "id": "oGbmHQYC09JX"
      },
      "execution_count": null,
      "outputs": []
    },
    {
      "cell_type": "markdown",
      "source": [
        "Índices negativos:\n",
        "\n",
        "lista [-n | ... | -3 | -2 | -1]"
      ],
      "metadata": {
        "id": "z33pzh191LTO"
      }
    },
    {
      "cell_type": "code",
      "source": [
        "lista[-1]"
      ],
      "metadata": {
        "id": "6axn5uxC1WEV"
      },
      "execution_count": null,
      "outputs": []
    },
    {
      "cell_type": "code",
      "source": [
        "lista[-2][-3]"
      ],
      "metadata": {
        "id": "Ks6ewknS1i4r"
      },
      "execution_count": null,
      "outputs": []
    },
    {
      "cell_type": "markdown",
      "source": [
        "Los rangos de los índices No son inclusivos por la derecha"
      ],
      "metadata": {
        "id": "bc-Cy-r811iG"
      }
    },
    {
      "cell_type": "code",
      "source": [
        "lista[1:6]"
      ],
      "metadata": {
        "id": "2ppC14A21smc"
      },
      "execution_count": null,
      "outputs": []
    },
    {
      "cell_type": "markdown",
      "source": [
        "Para modificar el paso\n",
        "\n",
        "[inicio : fin-1 : paso]"
      ],
      "metadata": {
        "id": "SOY3G1LI2F0W"
      }
    },
    {
      "cell_type": "code",
      "source": [
        "lista[1:6:2]"
      ],
      "metadata": {
        "id": "0VEEc3cS2Cqt"
      },
      "execution_count": null,
      "outputs": []
    },
    {
      "cell_type": "code",
      "source": [
        "lista[2:]"
      ],
      "metadata": {
        "id": "Lvn2Fc9D2loN"
      },
      "execution_count": null,
      "outputs": []
    },
    {
      "cell_type": "code",
      "source": [
        "lista[:3]"
      ],
      "metadata": {
        "id": "dXu-0BgT2r4U"
      },
      "execution_count": null,
      "outputs": []
    },
    {
      "cell_type": "code",
      "source": [
        "lista[:-1]"
      ],
      "metadata": {
        "id": "rB1shhap2uRA"
      },
      "execution_count": null,
      "outputs": []
    },
    {
      "cell_type": "code",
      "source": [
        "lista[::-1]"
      ],
      "metadata": {
        "id": "fxqWmuuw2yAE"
      },
      "execution_count": null,
      "outputs": []
    },
    {
      "cell_type": "markdown",
      "source": [
        "Las listas son objetos mutables"
      ],
      "metadata": {
        "id": "b4vqwX7t3lY5"
      }
    },
    {
      "cell_type": "code",
      "source": [
        "lista[2] = 25\n",
        "lista"
      ],
      "metadata": {
        "id": "Kjif36xc3cHF"
      },
      "execution_count": null,
      "outputs": []
    },
    {
      "cell_type": "code",
      "source": [
        "lista[-1][-1] = 454\n",
        "lista"
      ],
      "metadata": {
        "id": "FIgDlHiw3qKR"
      },
      "execution_count": null,
      "outputs": []
    },
    {
      "cell_type": "code",
      "source": [
        "lista.append(3 + 4j)\n",
        "lista"
      ],
      "metadata": {
        "id": "T1PImniH39ti"
      },
      "execution_count": null,
      "outputs": []
    },
    {
      "cell_type": "markdown",
      "source": [
        "La tupla es la versión inmutable de la lista"
      ],
      "metadata": {
        "id": "_s5Nx_Qa4JPO"
      }
    },
    {
      "cell_type": "code",
      "source": [
        "tupla = (2,1,3,1,2,3,True,lista)\n",
        "tupla"
      ],
      "metadata": {
        "id": "RG2eHHN74LTh"
      },
      "execution_count": null,
      "outputs": []
    },
    {
      "cell_type": "code",
      "source": [
        "tupla[-1]"
      ],
      "metadata": {
        "id": "3xEylgFy4erU"
      },
      "execution_count": null,
      "outputs": []
    },
    {
      "cell_type": "code",
      "source": [
        "tupla[-1][-2][-1]"
      ],
      "metadata": {
        "id": "6Yju8uPF4ixU"
      },
      "execution_count": null,
      "outputs": []
    },
    {
      "cell_type": "code",
      "source": [
        "# no es mutable!\n",
        "tupla[2] = 52"
      ],
      "metadata": {
        "id": "_U2WmGvd4r7g"
      },
      "execution_count": null,
      "outputs": []
    },
    {
      "cell_type": "code",
      "source": [
        "lista2 = list(tupla)\n",
        "lista2"
      ],
      "metadata": {
        "id": "5_8u7Aro46MT"
      },
      "execution_count": null,
      "outputs": []
    },
    {
      "cell_type": "markdown",
      "source": [
        "Notar que la lista la despliega entre corchetes y la tupla entre paréntesis"
      ],
      "metadata": {
        "id": "KCfCWQmf5E1i"
      }
    },
    {
      "cell_type": "code",
      "source": [
        "lista[2] = 52\n",
        "lista2"
      ],
      "metadata": {
        "id": "cutOWLFr5J5j"
      },
      "execution_count": null,
      "outputs": []
    },
    {
      "cell_type": "markdown",
      "source": [
        "Los paréntesis son opcionales. La salida del siguiente bloque será por defecto una tupla"
      ],
      "metadata": {
        "id": "PHV0RizX5UwX"
      }
    },
    {
      "cell_type": "code",
      "source": [
        "a = 3,2\n",
        "a"
      ],
      "metadata": {
        "id": "fxW1-7cL5ZQU"
      },
      "execution_count": null,
      "outputs": []
    },
    {
      "cell_type": "markdown",
      "source": [
        "Asignación múltiple (Descompresión de una tupla)"
      ],
      "metadata": {
        "id": "LPc3Sx9n5cGi"
      }
    },
    {
      "cell_type": "code",
      "source": [
        "# tupla = tupla\n",
        "a, b = 3, 2\n",
        "print(a)\n",
        "print(b)"
      ],
      "metadata": {
        "id": "zKL9hamH5d_A"
      },
      "execution_count": null,
      "outputs": []
    },
    {
      "cell_type": "code",
      "source": [
        "a = [0,2,3,1,2,3,2,1]\n",
        "b = [256,123,1256,123,154,153,156,143]\n",
        "\n",
        "#si miden lo mismo\n",
        "A = zip(a,b)\n",
        "list(A)"
      ],
      "metadata": {
        "id": "1euHdcXG51N8"
      },
      "execution_count": null,
      "outputs": []
    },
    {
      "cell_type": "code",
      "source": [
        "B = enumerate(b)\n",
        "list(B)"
      ],
      "metadata": {
        "id": "bPFIgb5q6Drf"
      },
      "execution_count": null,
      "outputs": []
    },
    {
      "cell_type": "markdown",
      "source": [
        "Conjuntos"
      ],
      "metadata": {
        "id": "QZcUJOgK6tVz"
      }
    },
    {
      "cell_type": "code",
      "source": [
        "a = {3,2,1,1,2,3,1}\n",
        "a"
      ],
      "metadata": {
        "id": "TKvy0iG36miy"
      },
      "execution_count": null,
      "outputs": []
    },
    {
      "cell_type": "markdown",
      "source": [
        "En un conjunto no tenemos elementos duplicados y no están ordenados. Sería un error, por ejemplo, pedir el elemento 0"
      ],
      "metadata": {
        "id": "ikVJN2HO6u4l"
      }
    },
    {
      "cell_type": "code",
      "source": [
        "a[0]"
      ],
      "metadata": {
        "id": "iz1T-ykE7EY3"
      },
      "execution_count": null,
      "outputs": []
    },
    {
      "cell_type": "code",
      "source": [
        "a.add('Javier')\n",
        "a"
      ],
      "metadata": {
        "id": "FV-NLESZ7I-N"
      },
      "execution_count": null,
      "outputs": []
    },
    {
      "cell_type": "code",
      "source": [
        "a.remove(\"Javier\")\n",
        "a"
      ],
      "metadata": {
        "id": "rtVQmC3S7OxO"
      },
      "execution_count": null,
      "outputs": []
    },
    {
      "cell_type": "markdown",
      "source": [
        "Diccionarios"
      ],
      "metadata": {
        "id": "43OdFNEW7YhK"
      }
    },
    {
      "cell_type": "code",
      "source": [
        "mundo = {'Mexico':'Ciudad de Mexico','Canada':'ottawa', 'Colombia':'Bogota'}\n",
        "mundo"
      ],
      "metadata": {
        "id": "Km4qV__77ZyN"
      },
      "execution_count": null,
      "outputs": []
    },
    {
      "cell_type": "markdown",
      "source": [
        "Estructura de datos heterogénea y mutable. A diferencia de las listas, la indexación es asociativa."
      ],
      "metadata": {
        "id": "S-46Vw0L7-bO"
      }
    },
    {
      "cell_type": "code",
      "source": [
        "mundo['Mexico']"
      ],
      "metadata": {
        "id": "eiOnLeqB75fO"
      },
      "execution_count": null,
      "outputs": []
    },
    {
      "cell_type": "code",
      "source": [
        "mundo['Canada'] = 'Ottawa'\n",
        "mundo"
      ],
      "metadata": {
        "id": "aWvTNj7F8A8B"
      },
      "execution_count": null,
      "outputs": []
    },
    {
      "cell_type": "markdown",
      "source": [
        "# Ejemplos"
      ],
      "metadata": {
        "id": "qjlxmeJo8L6U"
      }
    },
    {
      "cell_type": "markdown",
      "source": [
        "## 1"
      ],
      "metadata": {
        "id": "Z3yb6cjO8bGM"
      }
    },
    {
      "cell_type": "code",
      "source": [
        "a = 5\n",
        "b = 4\n",
        "print(a+b)"
      ],
      "metadata": {
        "id": "r5hJmn-a8Rxd"
      },
      "execution_count": null,
      "outputs": []
    },
    {
      "cell_type": "markdown",
      "source": [
        "## 2"
      ],
      "metadata": {
        "id": "c9wbJ6r28fUp"
      }
    },
    {
      "cell_type": "code",
      "source": [
        "asistencias = 65\n",
        "if asistencias >= 80:\n",
        "  print('Ordinario')\n",
        "elif asistencias >= 60:\n",
        "  print('Extraordinario')\n",
        "else:\n",
        "  print('Sin Derecho')"
      ],
      "metadata": {
        "id": "be_i7EOD8hMc"
      },
      "execution_count": null,
      "outputs": []
    },
    {
      "cell_type": "markdown",
      "source": [
        "## 3"
      ],
      "metadata": {
        "id": "JK_jw3eF9DJL"
      }
    },
    {
      "cell_type": "code",
      "source": [
        "x = 10\n",
        "while x > 1:\n",
        "  print(x)\n",
        "  x -= 1"
      ],
      "metadata": {
        "id": "9NDQoUzf9EMR"
      },
      "execution_count": null,
      "outputs": []
    },
    {
      "cell_type": "markdown",
      "source": [
        "## 4"
      ],
      "metadata": {
        "id": "K2rYE-bS9QIt"
      }
    },
    {
      "cell_type": "code",
      "source": [
        "for element in [3,5,4]:\n",
        "  print(element)"
      ],
      "metadata": {
        "id": "obuYLTcT9RGO"
      },
      "execution_count": null,
      "outputs": []
    }
  ]
}