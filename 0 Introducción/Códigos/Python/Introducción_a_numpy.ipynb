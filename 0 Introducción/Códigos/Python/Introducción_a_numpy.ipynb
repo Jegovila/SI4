{
  "nbformat": 4,
  "nbformat_minor": 0,
  "metadata": {
    "colab": {
      "provenance": [],
      "authorship_tag": "ABX9TyMC97UVjRvBJcYCubPvDnDa",
      "include_colab_link": true
    },
    "kernelspec": {
      "name": "python3",
      "display_name": "Python 3"
    },
    "language_info": {
      "name": "python"
    }
  },
  "cells": [
    {
      "cell_type": "markdown",
      "metadata": {
        "id": "view-in-github",
        "colab_type": "text"
      },
      "source": [
        "<a href=\"https://colab.research.google.com/github/Jegovila/SI4/blob/main/0%20Introducci%C3%B3n/C%C3%B3digos/Python/Introducci%C3%B3n_a_numpy.ipynb\" target=\"_parent\"><img src=\"https://colab.research.google.com/assets/colab-badge.svg\" alt=\"Open In Colab\"/></a>"
      ]
    },
    {
      "cell_type": "markdown",
      "source": [
        "El término NumPy es la abreviatura de «Numerical Python». Es una biblioteca de código abierto en lenguaje Python. Se utiliza para la programación científica en Python, y, en particular, para la programación en Data Science, la ingeniería, las matemáticas o la ciencia. La sintaxis es muy parecida a la de Matlab."
      ],
      "metadata": {
        "id": "gY_LlqTiDT0O"
      }
    },
    {
      "cell_type": "code",
      "execution_count": 1,
      "metadata": {
        "id": "rCPUBNqBDQjR"
      },
      "outputs": [],
      "source": [
        "import numpy as np"
      ]
    },
    {
      "cell_type": "markdown",
      "source": [
        "Sumar un  millón de elementos"
      ],
      "metadata": {
        "id": "gSB33PTDEzFx"
      }
    },
    {
      "cell_type": "code",
      "source": [
        "g = list(range(1000000))"
      ],
      "metadata": {
        "id": "ItuOst4KDW4C"
      },
      "execution_count": 9,
      "outputs": []
    },
    {
      "cell_type": "code",
      "source": [
        "%timeit sum(g)"
      ],
      "metadata": {
        "id": "gH--_ZM9DodM"
      },
      "execution_count": null,
      "outputs": []
    },
    {
      "cell_type": "markdown",
      "source": [
        "Ahora con numpy"
      ],
      "metadata": {
        "id": "cz-7N8zpE4Sz"
      }
    },
    {
      "cell_type": "code",
      "source": [
        "g2 = np.array(g)\n",
        "print(g2.shape)\n",
        "\n",
        "%timeit np.sum(g2)"
      ],
      "metadata": {
        "id": "yBzJPRIXE5UF"
      },
      "execution_count": null,
      "outputs": []
    },
    {
      "cell_type": "markdown",
      "source": [
        "# Vectores"
      ],
      "metadata": {
        "id": "4koPHf7BZ2UX"
      }
    },
    {
      "cell_type": "markdown",
      "source": [
        "Cuando se hace un arreglo de python, este es heterogéneo y doblemente enlazada y hacer operaciones sobre esta es más costoso. Cuando hacemos el casteo a arreglo de numpy, este hace un arreglo de manera secuencial con espacios de tamaño entero."
      ],
      "metadata": {
        "id": "vdwBAfk3FOZi"
      }
    },
    {
      "cell_type": "code",
      "source": [
        "a = np.array([1,2,3,4])\n",
        "b = np.array([10,11,12,13])"
      ],
      "metadata": {
        "id": "Aw-ScNZBGQdJ"
      },
      "execution_count": null,
      "outputs": []
    },
    {
      "cell_type": "markdown",
      "source": [
        "Operaciones elemento a elemento"
      ],
      "metadata": {
        "id": "6_67MpRfX457"
      }
    },
    {
      "cell_type": "code",
      "source": [
        "a + b"
      ],
      "metadata": {
        "id": "BeSmEr5nGj5f"
      },
      "execution_count": null,
      "outputs": []
    },
    {
      "cell_type": "code",
      "source": [
        "a * b"
      ],
      "metadata": {
        "id": "S4ZDcSdZGmTr"
      },
      "execution_count": null,
      "outputs": []
    },
    {
      "cell_type": "code",
      "source": [
        "a ** b"
      ],
      "metadata": {
        "id": "NUYlqEMfGpfX"
      },
      "execution_count": null,
      "outputs": []
    },
    {
      "cell_type": "code",
      "source": [
        "print(type(a))\n",
        "print(a.ndim)\n",
        "print(a.dtype)\n",
        "print(a.shape)\n",
        "print(a.size)"
      ],
      "metadata": {
        "id": "n-HHpmubYAIv"
      },
      "execution_count": null,
      "outputs": []
    },
    {
      "cell_type": "code",
      "source": [
        "100 * a"
      ],
      "metadata": {
        "id": "4QxghBo0Ymmo"
      },
      "execution_count": null,
      "outputs": []
    },
    {
      "cell_type": "code",
      "source": [
        "np.sin(a)"
      ],
      "metadata": {
        "id": "kmgcdkWYYo2x"
      },
      "execution_count": null,
      "outputs": []
    },
    {
      "cell_type": "code",
      "source": [
        "a[0]"
      ],
      "metadata": {
        "id": "YR1VdBK5YynS"
      },
      "execution_count": null,
      "outputs": []
    },
    {
      "cell_type": "code",
      "source": [
        "a = np.array([1,2,3,4.]) # Con un float que agreguemos al arreglo, cambiará el tipo\n",
        "a.dtype"
      ],
      "metadata": {
        "colab": {
          "base_uri": "https://localhost:8080/"
        },
        "id": "j-9M8S3ZY735",
        "outputId": "c30a45cc-6d31-4cea-d661-6d5618e851a1"
      },
      "execution_count": 47,
      "outputs": [
        {
          "output_type": "execute_result",
          "data": {
            "text/plain": [
              "dtype('float64')"
            ]
          },
          "metadata": {},
          "execution_count": 47
        }
      ]
    },
    {
      "cell_type": "markdown",
      "source": [
        "O también podemos forzarlo"
      ],
      "metadata": {
        "id": "mwLKt4swZbBU"
      }
    },
    {
      "cell_type": "code",
      "source": [
        "a = np.array([1,2,3,4], dtype=np.float64)\n",
        "a.dtype"
      ],
      "metadata": {
        "id": "MS3YwnQjZaSz"
      },
      "execution_count": null,
      "outputs": []
    },
    {
      "cell_type": "markdown",
      "source": [
        "# Matrices"
      ],
      "metadata": {
        "id": "lygHaAZyZwl9"
      }
    },
    {
      "cell_type": "code",
      "source": [
        "c = np.array([[1,2,3],[4,5,6],[7,8,9]])\n",
        "\n",
        "print(c.ndim)\n",
        "print(c.shape)"
      ],
      "metadata": {
        "id": "34Lit12IZ5zS"
      },
      "execution_count": null,
      "outputs": []
    },
    {
      "cell_type": "code",
      "source": [
        "c.ravel() # aplanar la matriz hasta tener una dimensión"
      ],
      "metadata": {
        "id": "j1Sm7qeaaLMG"
      },
      "execution_count": null,
      "outputs": []
    },
    {
      "cell_type": "code",
      "source": [
        "c[0,0]"
      ],
      "metadata": {
        "id": "L1A57XssaW-7"
      },
      "execution_count": null,
      "outputs": []
    },
    {
      "cell_type": "code",
      "source": [
        "c[0,0] = 25\n",
        "c"
      ],
      "metadata": {
        "id": "AFfI2UPUaZFu"
      },
      "execution_count": null,
      "outputs": []
    },
    {
      "cell_type": "code",
      "source": [
        "c[0]"
      ],
      "metadata": {
        "id": "7zoYmnAgaccR"
      },
      "execution_count": null,
      "outputs": []
    },
    {
      "cell_type": "markdown",
      "source": [
        "Creación de matriz con números aleatorios"
      ],
      "metadata": {
        "id": "_oRrhlZQanY0"
      }
    },
    {
      "cell_type": "code",
      "source": [
        "c = np.random.random((5,5))\n",
        "c"
      ],
      "metadata": {
        "id": "wCCL4HMSapti"
      },
      "execution_count": null,
      "outputs": []
    },
    {
      "cell_type": "markdown",
      "source": [
        "Extraer filas"
      ],
      "metadata": {
        "id": "ribDu0dUa-kv"
      }
    },
    {
      "cell_type": "code",
      "source": [
        "c[1:3]"
      ],
      "metadata": {
        "id": "yRF9g107awEc"
      },
      "execution_count": null,
      "outputs": []
    },
    {
      "cell_type": "markdown",
      "source": [
        "Extraer columnas"
      ],
      "metadata": {
        "id": "ILGUNQO6a9sz"
      }
    },
    {
      "cell_type": "code",
      "source": [
        "c[:,1:3]"
      ],
      "metadata": {
        "id": "MXS-YN7_bBXa"
      },
      "execution_count": null,
      "outputs": []
    },
    {
      "cell_type": "markdown",
      "source": [
        "Reshape"
      ],
      "metadata": {
        "id": "qNZKY_7Wbfe7"
      }
    },
    {
      "cell_type": "code",
      "source": [
        "print(c[:,1])\n",
        "print(c[:,1].shape)\n",
        "\n",
        "print(c[:,1].reshape(5,1))\n",
        "print(c[:,1].reshape(5,1).shape)"
      ],
      "metadata": {
        "id": "K-3x8InQbJfv"
      },
      "execution_count": null,
      "outputs": []
    },
    {
      "cell_type": "code",
      "source": [
        "np.arange(1,20,2)"
      ],
      "metadata": {
        "id": "GcT7wJpDbhCj"
      },
      "execution_count": null,
      "outputs": []
    },
    {
      "cell_type": "code",
      "source": [
        "np.linspace(1,20,10) # del 1 al 20, 10 elementos (interpolación)"
      ],
      "metadata": {
        "id": "BpIq1HV9bmI0"
      },
      "execution_count": null,
      "outputs": []
    },
    {
      "cell_type": "code",
      "source": [
        "np.full((4,5),7) # el 7 es entero, creará la matriz de enteros"
      ],
      "metadata": {
        "id": "7gTGECTLcrSx"
      },
      "execution_count": null,
      "outputs": []
    },
    {
      "cell_type": "code",
      "source": [
        "np.zeros((2,2)) # float por default"
      ],
      "metadata": {
        "id": "wKhf_-Joczy1"
      },
      "execution_count": null,
      "outputs": []
    },
    {
      "cell_type": "code",
      "source": [
        "np.eye(4)"
      ],
      "metadata": {
        "id": "HBp09c68dA8v"
      },
      "execution_count": null,
      "outputs": []
    },
    {
      "cell_type": "markdown",
      "source": [
        "Guardar y cargar arreglos de numpy"
      ],
      "metadata": {
        "id": "sV645dpFdNpN"
      }
    },
    {
      "cell_type": "code",
      "source": [
        "np.save('miArreglo',c)"
      ],
      "metadata": {
        "id": "Sm6A6E00dExT"
      },
      "execution_count": 77,
      "outputs": []
    },
    {
      "cell_type": "code",
      "source": [
        "c1 = np.load('miArreglo.npy')\n",
        "c1"
      ],
      "metadata": {
        "id": "8a95_SRidMr7"
      },
      "execution_count": null,
      "outputs": []
    },
    {
      "cell_type": "markdown",
      "source": [
        "algunas operaciones. Diferenciar cuando son funciones miembro del objeto array y cuales son funciones que podemos aplicar sobre un array"
      ],
      "metadata": {
        "id": "8Vhi6e83dWCR"
      }
    },
    {
      "cell_type": "code",
      "source": [
        "print(c.sum)\n",
        "print(c.min)\n",
        "print(c.max)\n",
        "print(c.mean)\n",
        "print(np.std(c))"
      ],
      "metadata": {
        "id": "xybfmPU2dYPu"
      },
      "execution_count": null,
      "outputs": []
    },
    {
      "cell_type": "code",
      "source": [
        "a = c"
      ],
      "metadata": {
        "id": "nLARvC6HdpYR"
      },
      "execution_count": 80,
      "outputs": []
    },
    {
      "cell_type": "markdown",
      "source": [
        "Cuando hago un \"=\", solo estoy dando otro nombre para ese mismo dato. No es una copia profunda."
      ],
      "metadata": {
        "id": "VLnIbUEddwUk"
      }
    },
    {
      "cell_type": "code",
      "source": [
        "c[0,0] = 1\n",
        "a"
      ],
      "metadata": {
        "id": "7iEn8BVXdsZp"
      },
      "execution_count": null,
      "outputs": []
    },
    {
      "cell_type": "markdown",
      "source": [
        "Para copiar"
      ],
      "metadata": {
        "id": "uLLO37vBd7aZ"
      }
    },
    {
      "cell_type": "code",
      "source": [
        "a = c.copy()\n",
        "c[0,0] = 16\n",
        "a"
      ],
      "metadata": {
        "id": "vjJmZvOad9W8"
      },
      "execution_count": null,
      "outputs": []
    },
    {
      "cell_type": "markdown",
      "source": [
        "Más funciones"
      ],
      "metadata": {
        "id": "ml6tIBrDedBY"
      }
    },
    {
      "cell_type": "code",
      "source": [
        "a.sort()\n",
        "a"
      ],
      "metadata": {
        "id": "VOMIaBAHefpG"
      },
      "execution_count": null,
      "outputs": []
    },
    {
      "cell_type": "code",
      "source": [
        "a.sort(axis=0) # axis 0, ordenar la primer dimensión\n",
        "a"
      ],
      "metadata": {
        "id": "gVPTCop1eqPY"
      },
      "execution_count": null,
      "outputs": []
    },
    {
      "cell_type": "code",
      "source": [
        "a > 0.2"
      ],
      "metadata": {
        "id": "9NYK0G2VfYCN"
      },
      "execution_count": null,
      "outputs": []
    },
    {
      "cell_type": "code",
      "source": [
        "a.T # Transpuesta"
      ],
      "metadata": {
        "id": "h5XqSCM1ffc0"
      },
      "execution_count": null,
      "outputs": []
    },
    {
      "cell_type": "code",
      "source": [
        "a.ravel() # una sola dimensión (aunque al imprimirlo siga pareciendo matriz)"
      ],
      "metadata": {
        "id": "I-NeY98JflaR"
      },
      "execution_count": null,
      "outputs": []
    },
    {
      "cell_type": "markdown",
      "source": [
        "Multiplicar matrices"
      ],
      "metadata": {
        "id": "qycq7C7kg-Up"
      }
    },
    {
      "cell_type": "code",
      "source": [
        "F = np.array([[1,1],[1,0]])\n",
        "\n",
        "R1 = np.dot(F,F)\n",
        "R2 = F @ F\n",
        "\n",
        "print(R1)\n",
        "print(R2)"
      ],
      "metadata": {
        "id": "tn2Uvm6Jg_5O"
      },
      "execution_count": null,
      "outputs": []
    }
  ]
}