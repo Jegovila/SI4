{
  "nbformat": 4,
  "nbformat_minor": 0,
  "metadata": {
    "colab": {
      "provenance": [],
      "authorship_tag": "ABX9TyOMuU66zx5r8EioqVwsvXus",
      "include_colab_link": true
    },
    "kernelspec": {
      "name": "python3",
      "display_name": "Python 3"
    },
    "language_info": {
      "name": "python"
    }
  },
  "cells": [
    {
      "cell_type": "markdown",
      "metadata": {
        "id": "view-in-github",
        "colab_type": "text"
      },
      "source": [
        "<a href=\"https://colab.research.google.com/github/Jegovila/SI4/blob/main/0%20Introducci%C3%B3n/C%C3%B3digos/Python/Introducci%C3%B3n_a_Pandas.ipynb\" target=\"_parent\"><img src=\"https://colab.research.google.com/assets/colab-badge.svg\" alt=\"Open In Colab\"/></a>"
      ]
    },
    {
      "cell_type": "code",
      "execution_count": 2,
      "metadata": {
        "id": "vxydNTJf9zBW"
      },
      "outputs": [],
      "source": [
        "import pandas as pd\n",
        "import numpy as np"
      ]
    },
    {
      "cell_type": "markdown",
      "source": [
        "# Series"
      ],
      "metadata": {
        "id": "SiGuJeO_BEqA"
      }
    },
    {
      "cell_type": "code",
      "source": [
        "s = pd.Series([3,-5,7,4], index=['a','b','c','d'])\n",
        "s # s es una serie, un arreglo de números indexados"
      ],
      "metadata": {
        "id": "VWJSEVN5-MIE"
      },
      "execution_count": null,
      "outputs": []
    },
    {
      "cell_type": "markdown",
      "source": [
        "Podemos acceder a los elementos de la serie como lo haríamos con un diccionario"
      ],
      "metadata": {
        "id": "gulPZkTW-p1o"
      }
    },
    {
      "cell_type": "code",
      "source": [
        "s['a']"
      ],
      "metadata": {
        "id": "2hGUmW3n-nNO"
      },
      "execution_count": null,
      "outputs": []
    },
    {
      "cell_type": "markdown",
      "source": [
        "Asignaciones:"
      ],
      "metadata": {
        "id": "2pcb2L6-AyIT"
      }
    },
    {
      "cell_type": "code",
      "source": [
        "s['b'] = -7\n",
        "s"
      ],
      "metadata": {
        "id": "TxvggDn5Az5a"
      },
      "execution_count": null,
      "outputs": []
    },
    {
      "cell_type": "markdown",
      "source": [
        "soltar elemento"
      ],
      "metadata": {
        "id": "EWJ7cv5oBJgF"
      }
    },
    {
      "cell_type": "code",
      "source": [
        "s.drop(['a'])\n"
      ],
      "metadata": {
        "id": "uGqY3W2PBKsS"
      },
      "execution_count": null,
      "outputs": []
    },
    {
      "cell_type": "markdown",
      "source": [
        "# Dataframe"
      ],
      "metadata": {
        "id": "3QxTj7aOBGcu"
      }
    },
    {
      "cell_type": "markdown",
      "source": [
        "Otra estructura de pandas es el \"dataframe\""
      ],
      "metadata": {
        "id": "qb_9exq1-6kP"
      }
    },
    {
      "cell_type": "code",
      "source": [],
      "metadata": {
        "id": "os343DB2BHru"
      },
      "execution_count": null,
      "outputs": []
    },
    {
      "cell_type": "code",
      "source": [
        "data = {'Nombre' : ['Javier','Carlos','José','Fabiola'],\n",
        "        'Edad' : [28,25,56,21],\n",
        "        'Calificación' : [100,89,48,75]}"
      ],
      "metadata": {
        "id": "C3Rn_f-5--N7"
      },
      "execution_count": 6,
      "outputs": []
    },
    {
      "cell_type": "code",
      "source": [
        "df = pd.DataFrame(data)\n",
        "print(type(df))\n",
        "print(df)"
      ],
      "metadata": {
        "id": "Y5s3qFYB_fza"
      },
      "execution_count": null,
      "outputs": []
    },
    {
      "cell_type": "code",
      "source": [
        "df"
      ],
      "metadata": {
        "id": "Zyz_mov9_3nZ"
      },
      "execution_count": null,
      "outputs": []
    },
    {
      "cell_type": "code",
      "source": [
        "df.iat[0,0]"
      ],
      "metadata": {
        "id": "dplwHczMAHOy"
      },
      "execution_count": null,
      "outputs": []
    },
    {
      "cell_type": "code",
      "source": [
        "df.iat[1,2]"
      ],
      "metadata": {
        "id": "3DA3GUSJAPYC"
      },
      "execution_count": null,
      "outputs": []
    },
    {
      "cell_type": "code",
      "source": [
        "print(df.at[1, 'Nombre'])\n",
        "print(df.at[2, 'Calificación'])"
      ],
      "metadata": {
        "id": "ndItLDOxAcHm"
      },
      "execution_count": null,
      "outputs": []
    },
    {
      "cell_type": "markdown",
      "source": [
        "Asignaciones"
      ],
      "metadata": {
        "id": "ze-cwzasA5LV"
      }
    },
    {
      "cell_type": "code",
      "source": [
        "df.at[0, 'Nombre'] = 'Enrique'\n",
        "df"
      ],
      "metadata": {
        "id": "uoMusKV5A6MK"
      },
      "execution_count": null,
      "outputs": []
    },
    {
      "cell_type": "markdown",
      "source": [
        "soltar elemento"
      ],
      "metadata": {
        "id": "JcYt1bciBYsV"
      }
    },
    {
      "cell_type": "code",
      "source": [
        "df.drop('Calificación', axis = 1) # 0 -> registro   1 -> columna"
      ],
      "metadata": {
        "id": "nRATGQDjBbrU"
      },
      "execution_count": null,
      "outputs": []
    },
    {
      "cell_type": "markdown",
      "source": [
        "Esto NO modifica el dataframe, es decir, no estamos eliminando los elementos del dataframe"
      ],
      "metadata": {
        "id": "xqMIcaYGBqkW"
      }
    },
    {
      "cell_type": "code",
      "source": [
        "df"
      ],
      "metadata": {
        "id": "qzuBNoiEBuhq"
      },
      "execution_count": null,
      "outputs": []
    },
    {
      "cell_type": "markdown",
      "source": [
        "Si queremos hacer modificaciones, haríamos algo como"
      ],
      "metadata": {
        "id": "-hKKQ6ALB0SA"
      }
    },
    {
      "cell_type": "code",
      "source": [
        "df2 = df.drop('Edad', axis=1)\n",
        "df2"
      ],
      "metadata": {
        "id": "BxBa2GEEB21f"
      },
      "execution_count": null,
      "outputs": []
    },
    {
      "cell_type": "markdown",
      "source": [
        "# Leer archivos"
      ],
      "metadata": {
        "id": "kLLmbfQDCFsP"
      }
    },
    {
      "cell_type": "code",
      "source": [
        "!wget -nc \"https://raw.githubusercontent.com/Jegovila/SI4/main/0%20Introducci%C3%B3n/C%C3%B3digos/Python/countries.csv\""
      ],
      "metadata": {
        "id": "JZG1vZ8IDOjz"
      },
      "execution_count": null,
      "outputs": []
    },
    {
      "cell_type": "code",
      "source": [
        "df = pd.read_csv('countries.csv')\n",
        "df"
      ],
      "metadata": {
        "id": "VhRNZt-bCJug"
      },
      "execution_count": null,
      "outputs": []
    },
    {
      "cell_type": "code",
      "source": [
        "df.head()"
      ],
      "metadata": {
        "id": "2lgCQz_eDjPQ"
      },
      "execution_count": null,
      "outputs": []
    },
    {
      "cell_type": "code",
      "source": [
        "df.head(10)"
      ],
      "metadata": {
        "id": "vNwaRsQADk8U"
      },
      "execution_count": null,
      "outputs": []
    },
    {
      "cell_type": "code",
      "source": [
        "df.tail()"
      ],
      "metadata": {
        "id": "gpMTjChYDnjP"
      },
      "execution_count": null,
      "outputs": []
    },
    {
      "cell_type": "code",
      "source": [
        "df.tail(10)"
      ],
      "metadata": {
        "id": "kf_NP3gGDp9c"
      },
      "execution_count": null,
      "outputs": []
    },
    {
      "cell_type": "code",
      "source": [
        "df.shape"
      ],
      "metadata": {
        "id": "El1r9kpgEPAg"
      },
      "execution_count": null,
      "outputs": []
    },
    {
      "cell_type": "code",
      "source": [
        "df.columns"
      ],
      "metadata": {
        "id": "GS9r9T7IEQlM"
      },
      "execution_count": null,
      "outputs": []
    },
    {
      "cell_type": "markdown",
      "source": [
        "Recomendable siempre revisar los tipos de datos en las columnas con:"
      ],
      "metadata": {
        "id": "8948VjIzFMAm"
      }
    },
    {
      "cell_type": "code",
      "source": [
        "df.info()"
      ],
      "metadata": {
        "id": "udQcxkbgEYT5"
      },
      "execution_count": null,
      "outputs": []
    },
    {
      "cell_type": "markdown",
      "source": [
        "Importante: tener en cuenta que si una columna debe tener números (como la columna de años) y el Dtype fuera de tipo object (NO int64 NI float64, etc), es probable que haya algún dato incorrecto (corrupto)"
      ],
      "metadata": {
        "id": "hTs8flmYE0oM"
      }
    },
    {
      "cell_type": "markdown",
      "source": [
        "Con \"describe\" obtendremos las estadísticas básicas de todas las variables que sean numéricas."
      ],
      "metadata": {
        "id": "qrDf6yJvFTAB"
      }
    },
    {
      "cell_type": "code",
      "source": [
        "df.describe()"
      ],
      "metadata": {
        "id": "OtOtfpnmFPIN"
      },
      "execution_count": null,
      "outputs": []
    },
    {
      "cell_type": "markdown",
      "source": [
        "Es posbile manejar el dataFrame como arreglo de numpy con:"
      ],
      "metadata": {
        "id": "nvCmgifmF5ep"
      }
    },
    {
      "cell_type": "code",
      "source": [
        "df.values"
      ],
      "metadata": {
        "colab": {
          "base_uri": "https://localhost:8080/"
        },
        "id": "dXcFiQN_Fv8s",
        "outputId": "b0129f9f-06c4-4500-f6aa-1013fa68b7f3"
      },
      "execution_count": 60,
      "outputs": [
        {
          "output_type": "execute_result",
          "data": {
            "text/plain": [
              "array([['Afghanistan', 1952, 8425333.0, 'Asia', 28.801, 779.4453145],\n",
              "       ['Afghanistan', 1957, 9240934.0, 'Asia', 30.332, 820.8530296],\n",
              "       ['Afghanistan', 1962, 10267083.0, 'Asia', 31.997, 853.10071],\n",
              "       ...,\n",
              "       ['Zimbabwe', 1997, 11404948.0, 'Africa', 46.809, 792.4499603],\n",
              "       ['Zimbabwe', 2002, 11926563.0, 'Africa', 39.989, 672.0386227],\n",
              "       ['Zimbabwe', 2007, 12311143.0, 'Africa', 43.487, 469.7092981]],\n",
              "      dtype=object)"
            ]
          },
          "metadata": {},
          "execution_count": 60
        }
      ]
    },
    {
      "cell_type": "markdown",
      "source": [
        "Será de tipo objecto a menos que solo contenga números."
      ],
      "metadata": {
        "id": "bwHuePdjGAsu"
      }
    },
    {
      "cell_type": "code",
      "source": [
        "df.mean()"
      ],
      "metadata": {
        "id": "N_aYLxxSGDmd"
      },
      "execution_count": null,
      "outputs": []
    },
    {
      "cell_type": "code",
      "source": [
        "df.max()"
      ],
      "metadata": {
        "id": "etpGuVViGGAY"
      },
      "execution_count": null,
      "outputs": []
    },
    {
      "cell_type": "code",
      "source": [
        "df = df.rename(columns={'gdpPercap':'PIB'})\n",
        "df"
      ],
      "metadata": {
        "id": "KJVp-yZ0INTp"
      },
      "execution_count": null,
      "outputs": []
    },
    {
      "cell_type": "code",
      "source": [
        "df['country'] # esto es una serie (notar que no imprime el encabezado)"
      ],
      "metadata": {
        "id": "LszgOAPzIevo"
      },
      "execution_count": null,
      "outputs": []
    },
    {
      "cell_type": "code",
      "source": [
        "#o bien\n",
        "df.country"
      ],
      "metadata": {
        "id": "9mXDwWaDIo4R"
      },
      "execution_count": null,
      "outputs": []
    },
    {
      "cell_type": "markdown",
      "source": [
        "los nombres de las columnas se vuelven atributos de esta clase, cuidar que el nombre de la columna no sea igual que una función dentro de los métodos del dataframe, por eso se recomienda usar la primera opción (df['country'])."
      ],
      "metadata": {
        "id": "DTgbGyZxIv-y"
      }
    },
    {
      "cell_type": "markdown",
      "source": [
        "Si ponemos doble corchete ya no será una serie, sino que será un dataframe"
      ],
      "metadata": {
        "id": "B2i6bOjUJRjP"
      }
    },
    {
      "cell_type": "code",
      "source": [
        "df2 = df[['country', 'PIB']]\n",
        "df2"
      ],
      "metadata": {
        "id": "udIx67V2JOeb"
      },
      "execution_count": null,
      "outputs": []
    },
    {
      "cell_type": "code",
      "source": [
        "df.replace(1952,'one')"
      ],
      "metadata": {
        "id": "Viw4JdkzJqgC"
      },
      "execution_count": null,
      "outputs": []
    },
    {
      "cell_type": "markdown",
      "source": [
        "De nuevo, esto no reemplaza el df"
      ],
      "metadata": {
        "id": "pmLGN2CIJzu6"
      }
    },
    {
      "cell_type": "code",
      "source": [
        "df"
      ],
      "metadata": {
        "id": "6BoQzB70J1kU"
      },
      "execution_count": null,
      "outputs": []
    },
    {
      "cell_type": "markdown",
      "source": [
        "si queremos modificar el df será con df = df.replace(1952,'one')"
      ],
      "metadata": {
        "id": "T4L5JZZ_J2o-"
      }
    },
    {
      "cell_type": "markdown",
      "source": [
        "# Filtros"
      ],
      "metadata": {
        "id": "o6iNvg_4KFGF"
      }
    },
    {
      "cell_type": "markdown",
      "source": [
        "Primero con una serie"
      ],
      "metadata": {
        "id": "-1cvmcSWKUPo"
      }
    },
    {
      "cell_type": "code",
      "source": [
        "s"
      ],
      "metadata": {
        "id": "wEqVUhz5KVaQ"
      },
      "execution_count": null,
      "outputs": []
    },
    {
      "cell_type": "code",
      "source": [
        "s > 5"
      ],
      "metadata": {
        "id": "eQaOhOkUKXRM"
      },
      "execution_count": null,
      "outputs": []
    },
    {
      "cell_type": "markdown",
      "source": [
        "Ahora con el dataframe. Comparamos la serie df.country, con la cadena 'Mexico'"
      ],
      "metadata": {
        "id": "VFvMUAklKcNn"
      }
    },
    {
      "cell_type": "code",
      "source": [
        "df[df.country == 'Mexico']"
      ],
      "metadata": {
        "id": "_TMtqd-fKIuu"
      },
      "execution_count": null,
      "outputs": []
    },
    {
      "cell_type": "code",
      "source": [
        "dfmex = df[df.country == 'Mexico']\n",
        "dfmex"
      ],
      "metadata": {
        "id": "SwZLEFjSKsC3"
      },
      "execution_count": null,
      "outputs": []
    },
    {
      "cell_type": "markdown",
      "source": [
        "dos filtros a la vez"
      ],
      "metadata": {
        "id": "uudFx02PLBV_"
      }
    },
    {
      "cell_type": "code",
      "source": [
        "df[(df.country == 'Mexico') & (df.year >= 1977)]"
      ],
      "metadata": {
        "id": "lXgD5OblK2B5"
      },
      "execution_count": null,
      "outputs": []
    },
    {
      "cell_type": "markdown",
      "source": [
        "O bien"
      ],
      "metadata": {
        "id": "v4_Epj_ILR_0"
      }
    },
    {
      "cell_type": "code",
      "source": [
        "df[df.country == 'Mexico'][df.year >= 1977] #primero recortamos con Mexico y el resultado con >=1977"
      ],
      "metadata": {
        "id": "h7frDEo7LKHr"
      },
      "execution_count": null,
      "outputs": []
    },
    {
      "cell_type": "code",
      "source": [
        "df2 = df[df.country == 'Mexico'][df.year >= 1977]\n",
        "df2"
      ],
      "metadata": {
        "id": "LzXr_y_9MICW"
      },
      "execution_count": null,
      "outputs": []
    },
    {
      "cell_type": "code",
      "source": [
        "df2 = df2.reset_index()\n",
        "df2"
      ],
      "metadata": {
        "id": "NJM1f3RzMO6C"
      },
      "execution_count": null,
      "outputs": []
    },
    {
      "cell_type": "code",
      "source": [
        "df2 = df2.drop('index',axis=1)\n",
        "df2"
      ],
      "metadata": {
        "id": "JZYYr7CaMZm4"
      },
      "execution_count": null,
      "outputs": []
    },
    {
      "cell_type": "code",
      "source": [
        "df2.sort_values('PIB')"
      ],
      "metadata": {
        "id": "GPh_qMWjMire"
      },
      "execution_count": null,
      "outputs": []
    },
    {
      "cell_type": "code",
      "source": [
        "df.hist()"
      ],
      "metadata": {
        "id": "a-2KbxHuMpEH"
      },
      "execution_count": null,
      "outputs": []
    },
    {
      "cell_type": "code",
      "source": [
        "df[df.country == 'Mexico'].plot(x='year', y='PIB')"
      ],
      "metadata": {
        "id": "mq16lBy6NBFw"
      },
      "execution_count": null,
      "outputs": []
    },
    {
      "cell_type": "code",
      "source": [
        "pd.plotting.scatter_matrix(df)"
      ],
      "metadata": {
        "id": "INCqXkZXNV6W"
      },
      "execution_count": null,
      "outputs": []
    },
    {
      "cell_type": "markdown",
      "source": [
        "Notar que graficar una variable consigo misma no tendría sentido (nos daría una línea) y por eso mejor nos despliega el histograma"
      ],
      "metadata": {
        "id": "5ciUW_dZNv-b"
      }
    },
    {
      "cell_type": "code",
      "source": [
        "pd.plotting.scatter_matrix(df[df.country=='Mexico'])"
      ],
      "metadata": {
        "id": "UXCw2E_aOWkv"
      },
      "execution_count": null,
      "outputs": []
    },
    {
      "cell_type": "markdown",
      "source": [
        "# Práctica"
      ],
      "metadata": {
        "id": "H-x6ywPfO9kO"
      }
    },
    {
      "cell_type": "markdown",
      "source": [
        "1. ¿Cuántos y cuales países tienen una esperanza de vida mayor o igual a 80 en el 2002?"
      ],
      "metadata": {
        "id": "vErM1emWO-_A"
      }
    },
    {
      "cell_type": "code",
      "source": [],
      "metadata": {
        "id": "OxakpaaXPvFp"
      },
      "execution_count": null,
      "outputs": []
    },
    {
      "cell_type": "markdown",
      "source": [
        "2. ¿Pais con el mayor Producto Interno Bruto?"
      ],
      "metadata": {
        "id": "0C-RkK9sPrC1"
      }
    },
    {
      "cell_type": "code",
      "source": [],
      "metadata": {
        "id": "564cy5fhPvuI"
      },
      "execution_count": null,
      "outputs": []
    },
    {
      "cell_type": "markdown",
      "source": [
        "3. ¿En qué año México sobrepaso los 70 millones de habitantes?"
      ],
      "metadata": {
        "id": "nz9OAyIXPsO5"
      }
    },
    {
      "cell_type": "code",
      "source": [],
      "metadata": {
        "id": "GyzVwwE5PweQ"
      },
      "execution_count": null,
      "outputs": []
    }
  ]
}