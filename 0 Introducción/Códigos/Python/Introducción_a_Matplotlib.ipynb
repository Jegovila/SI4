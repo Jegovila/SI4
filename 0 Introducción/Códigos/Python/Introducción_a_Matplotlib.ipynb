{
  "nbformat": 4,
  "nbformat_minor": 0,
  "metadata": {
    "colab": {
      "provenance": [],
      "authorship_tag": "ABX9TyPy184cLphQC8LQkpRmIQuk",
      "include_colab_link": true
    },
    "kernelspec": {
      "name": "python3",
      "display_name": "Python 3"
    },
    "language_info": {
      "name": "python"
    }
  },
  "cells": [
    {
      "cell_type": "markdown",
      "metadata": {
        "id": "view-in-github",
        "colab_type": "text"
      },
      "source": [
        "<a href=\"https://colab.research.google.com/github/Jegovila/SI4/blob/main/0%20Introducci%C3%B3n/C%C3%B3digos/Python/Introducci%C3%B3n_a_Matplotlib.ipynb\" target=\"_parent\"><img src=\"https://colab.research.google.com/assets/colab-badge.svg\" alt=\"Open In Colab\"/></a>"
      ]
    },
    {
      "cell_type": "code",
      "execution_count": 1,
      "metadata": {
        "id": "znH-gh5PhwkI"
      },
      "outputs": [],
      "source": [
        "import matplotlib.pyplot as plt"
      ]
    },
    {
      "cell_type": "code",
      "source": [
        "plt.plot([4,3,2,5,6,4,2,3,4])\n",
        "plt.ylabel('Numbers')\n",
        "plt.show()"
      ],
      "metadata": {
        "id": "K9a350hej1DK"
      },
      "execution_count": null,
      "outputs": []
    },
    {
      "cell_type": "code",
      "source": [
        "plt.plot([3,2,1,4],[1,4,9,16]) # Coordenadas\n",
        "plt.ylabel('Y')\n",
        "plt.xlabel('X')\n",
        "plt.show()"
      ],
      "metadata": {
        "id": "PjgAekRUlY_Z"
      },
      "execution_count": null,
      "outputs": []
    },
    {
      "cell_type": "code",
      "source": [
        "plt.plot([3,2,1,4],[1,4,9,16], '--ro') # dibujar con círculos rojos y línea punteada\n",
        "plt.ylabel('Y')\n",
        "plt.xlabel('X')\n",
        "plt.show()"
      ],
      "metadata": {
        "id": "rZTRC5TKl_kB"
      },
      "execution_count": null,
      "outputs": []
    },
    {
      "cell_type": "code",
      "source": [
        "plt.plot([3,2,1,4],[1,4,9,16], 'ro') # dibujar con círculos rojos sin trazar línea\n",
        "plt.ylabel('Y')\n",
        "plt.xlabel('X')\n",
        "plt.show()"
      ],
      "metadata": {
        "id": "hcBR9Boalt9O"
      },
      "execution_count": null,
      "outputs": []
    },
    {
      "cell_type": "markdown",
      "source": [
        "Determinar los ejes"
      ],
      "metadata": {
        "id": "fyY0wshimKdm"
      }
    },
    {
      "cell_type": "code",
      "source": [
        "plt.plot([3,2,1,4],[1,4,9,16], 'bo')\n",
        "plt.axis([0,15,0,20])\n",
        "plt.ylabel('Y')\n",
        "plt.xlabel('X')\n",
        "plt.show()"
      ],
      "metadata": {
        "id": "l5zxRi7PmNIQ"
      },
      "execution_count": null,
      "outputs": []
    },
    {
      "cell_type": "markdown",
      "source": [
        "Agregar rejilla"
      ],
      "metadata": {
        "id": "GpFp0zqQmfeC"
      }
    },
    {
      "cell_type": "code",
      "source": [
        "plt.plot([3,2,1,4],[1,4,9,16], 'bo')\n",
        "plt.axis([0,20,0,20])\n",
        "\n",
        "plt.grid()\n",
        "plt.ylabel('Y')\n",
        "plt.xlabel('X')\n",
        "plt.show()"
      ],
      "metadata": {
        "colab": {
          "base_uri": "https://localhost:8080/",
          "height": 455
        },
        "id": "xTCHtJBNmhLW",
        "outputId": "7d5a4681-5548-45b8-8a30-91a44eae6113"
      },
      "execution_count": 5,
      "outputs": [
        {
          "output_type": "display_data",
          "data": {
            "text/plain": [
              "<Figure size 640x480 with 1 Axes>"
            ],
            "image/png": "[encoded data removed]"
          },
          "metadata": {}
        }
      ]
    },
    {
      "cell_type": "markdown",
      "source": [
        "Con numpy"
      ],
      "metadata": {
        "id": "4_F5axLeqpiC"
      }
    },
    {
      "cell_type": "code",
      "source": [
        "import numpy as np"
      ],
      "metadata": {
        "id": "czpHnaofqnfZ"
      },
      "execution_count": 7,
      "outputs": []
    },
    {
      "cell_type": "code",
      "source": [
        "t = np.arange(0,5,0.2)\n",
        "plt.plot(t,t,'--r')\n",
        "#plt.plot(t,t**2,'bs')\n",
        "#plt.plot(t, t**3, 'g^')\n",
        "\n",
        "plt.ylabel('y')\n",
        "plt.xlabel('t')\n",
        "plt.show()"
      ],
      "metadata": {
        "id": "VG2vgQ4yqpDA"
      },
      "execution_count": null,
      "outputs": []
    },
    {
      "cell_type": "markdown",
      "source": [
        "## Ejemplo 1"
      ],
      "metadata": {
        "id": "zOuU50a4zO5C"
      }
    },
    {
      "cell_type": "code",
      "source": [
        "data = {'a' : np.arange(50),\n",
        "        'c' : np.random.randint(0,50,50),\n",
        "        'd' : np.random.randn(50)}\n",
        "\n",
        "data['b'] = data['a'] + 10 * np.random.randn(50)\n",
        "data['d'] = np.abs(data['d']) * 100\n",
        "\n",
        "plt.scatter('a', 'b', c='c', s='d', data=data) # data = nuestro Diccionario\n",
        "plt.xlabel('entry a')\n",
        "plt.ylabel('entry b')\n",
        "\n",
        "plt.grid()\n",
        "plt.show()"
      ],
      "metadata": {
        "id": "ZwgbcBU0rSYN"
      },
      "execution_count": null,
      "outputs": []
    },
    {
      "cell_type": "markdown",
      "source": [
        "## Ejemplo 2"
      ],
      "metadata": {
        "id": "ou34wUaFzRYN"
      }
    },
    {
      "cell_type": "code",
      "source": [
        "names = ['group_a', 'group_b', 'group_c']\n",
        "values = [1, 10, 100]\n",
        "\n",
        "plt.figure(figsize=(9, 3))\n",
        "\n",
        "plt.subplot(1,3,1)\n",
        "plt.bar(names, values)\n",
        "\n",
        "plt.subplot(1,3,2)\n",
        "plt.scatter(names, values)\n",
        "\n",
        "plt.subplot(1,3,3)\n",
        "plt.plot(names, values)\n",
        "\n",
        "plt.suptitle('Categorical Plotting')\n",
        "plt.show()"
      ],
      "metadata": {
        "id": "JFmS7dOszSiW"
      },
      "execution_count": null,
      "outputs": []
    },
    {
      "cell_type": "markdown",
      "source": [
        "## Ejemplo 3"
      ],
      "metadata": {
        "id": "GH9teoFw1CF2"
      }
    },
    {
      "cell_type": "code",
      "source": [
        "def f(t):\n",
        "  return np.exp(-t) * np.cos(2 * np.pi * t)\n",
        "\n",
        "t1 =  np.arange(0.0, 5.0, 0.2)\n",
        "t2 =  np.arange(0.0, 5.0, 0.02)\n",
        "\n",
        "plt.figure()\n",
        "plt.plot(t1, f(t1), 'bo', t2, f(t2), 'k')\n",
        "\n",
        "plt.title(r'$e^t \\cos (2 \\pi t)$')\n",
        "plt.xlabel(r'$t$')\n",
        "plt.ylabel(r'$f(t)$')\n",
        "\n",
        "plt.show()"
      ],
      "metadata": {
        "id": "PSDhIblM1Dfd"
      },
      "execution_count": null,
      "outputs": []
    },
    {
      "cell_type": "markdown",
      "source": [
        "## Ejemplo 4"
      ],
      "metadata": {
        "id": "ZF-NDDVm2iSf"
      }
    },
    {
      "cell_type": "code",
      "source": [
        "import matplotlib.image as mpimg\n",
        "!wget -nc \"https://raw.githubusercontent.com/Jegovila/Taller-Vision/main/dataset/lena.png\""
      ],
      "metadata": {
        "id": "o4xmKLnD3QGu"
      },
      "execution_count": null,
      "outputs": []
    },
    {
      "cell_type": "code",
      "source": [
        "# subplots\n",
        "f, axes = plt.subplots(2,2)\n",
        "\n",
        "# Leer imagen\n",
        "img = mpimg.imread('lena.png')\n",
        "\n",
        "# Obtener dimensiones\n",
        "height, width, layer = img.shape\n",
        "\n",
        "# Escala de grises\n",
        "imgGray = np.zeros((height, width))\n",
        "\n",
        "for i in range(height):\n",
        "  for j in range(width):\n",
        "    imgGray[i,j] = ((img[i,j,0]) + (img[i,j,1]) + (img[i,j,2]))/3\n",
        "\n",
        "# Crear filtro\n",
        "Sobel1 = np.array([[1,0,-1],[2,0,-2],[1,0,-1]])\n",
        "imgSobel = np.zeros((height-2, width-2))\n",
        "imgFinal = np.zeros((height-2, width-2))\n",
        "\n",
        "for i in range(1, height-1):\n",
        "  for j in range(1, width-1):\n",
        "    imTemp = imgGray[i-1:i+2,j-1:j+2]\n",
        "    temp = np.abs((Sobel1*imTemp).sum())\n",
        "    imgSobel[i-1,j-1] = temp\n",
        "    if temp > 0.5:\n",
        "      imgFinal[i-1, j-1] = True\n",
        "    else:\n",
        "      imgFinal[i-1, j-1] = False\n",
        "\n",
        "\n",
        "axes[0,0].imshow(img)\n",
        "axes[0,0].set_title('Imagen original')\n",
        "axes[0,1].imshow(imgGray, cmap=plt.cm.gray)\n",
        "axes[0,1].set_title('Escala de grises')\n",
        "axes[1,0].imshow(imgSobel, cmap=plt.cm.gray)\n",
        "axes[1,0].set_title('Imagen Filtrada')\n",
        "axes[1,1].imshow(imgFinal, cmap=plt.cm.binary)\n",
        "axes[1,1].set_title('Bordes')\n",
        "\n",
        "f.subplots_adjust(hspace = 0.5)\n",
        "plt.show()"
      ],
      "metadata": {
        "id": "WsqsAQDo3e0U"
      },
      "execution_count": null,
      "outputs": []
    }
  ]
}