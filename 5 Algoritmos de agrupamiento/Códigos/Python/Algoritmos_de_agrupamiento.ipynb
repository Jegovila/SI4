{
  "nbformat": 4,
  "nbformat_minor": 0,
  "metadata": {
    "colab": {
      "provenance": [],
      "authorship_tag": "ABX9TyMNtwNbFb0Rjf5rfS5J8Z5f",
      "include_colab_link": true
    },
    "kernelspec": {
      "name": "python3",
      "display_name": "Python 3"
    },
    "language_info": {
      "name": "python"
    }
  },
  "cells": [
    {
      "cell_type": "markdown",
      "metadata": {
        "id": "view-in-github",
        "colab_type": "text"
      },
      "source": [
        "<a href=\"https://colab.research.google.com/github/Jegovila/SI4/blob/main/5%20Algoritmos%20de%20agrupamiento/C%C3%B3digos/Python/Algoritmos_de_agrupamiento.ipynb\" target=\"_parent\"><img src=\"https://colab.research.google.com/assets/colab-badge.svg\" alt=\"Open In Colab\"/></a>"
      ]
    },
    {
      "cell_type": "code",
      "execution_count": null,
      "metadata": {
        "id": "_K2Yb38blpVq"
      },
      "outputs": [],
      "source": [
        "!wget -nc \"https://raw.githubusercontent.com/Jegovila/SI4/main/5%20Algoritmos%20de%20agrupamiento/C%C3%B3digos/Python/df_agrupacion_1.csv\"\n",
        "!wget -nc \"https://raw.githubusercontent.com/Jegovila/SI4/main/5%20Algoritmos%20de%20agrupamiento/C%C3%B3digos/Python/df_agrupacion_2.csv\"\n",
        "!wget -nc \"https://raw.githubusercontent.com/Jegovila/SI4/main/5%20Algoritmos%20de%20agrupamiento/C%C3%B3digos/Python/df_agrupacion_3.csv\"\n",
        "!wget -nc \"https://raw.githubusercontent.com/Jegovila/SI4/main/5%20Algoritmos%20de%20agrupamiento/C%C3%B3digos/Python/df_agrupacion_4.csv\"\n",
        "!wget -nc \"https://raw.githubusercontent.com/Jegovila/SI4/main/5%20Algoritmos%20de%20agrupamiento/C%C3%B3digos/Python/df_agrupacion_5.csv\"\n",
        "!wget -nc \"https://raw.githubusercontent.com/Jegovila/SI4/main/5%20Algoritmos%20de%20agrupamiento/C%C3%B3digos/Python/df_agrupacion_6.csv\""
      ]
    },
    {
      "cell_type": "code",
      "source": [
        "import pandas as pd\n",
        "import numpy as np\n",
        "import matplotlib.pyplot as plt"
      ],
      "metadata": {
        "id": "Z7ynCcnAlxJJ"
      },
      "execution_count": 2,
      "outputs": []
    },
    {
      "cell_type": "code",
      "source": [
        "from sklearn.cluster import KMeans\n",
        "from sklearn.cluster import DBSCAN"
      ],
      "metadata": {
        "id": "AJHyLmlfmH6K"
      },
      "execution_count": 3,
      "outputs": []
    },
    {
      "cell_type": "code",
      "source": [
        "df = pd.read_csv('df_agrupacion_3.csv') # 1-6\n",
        "print(df)\n",
        "\n",
        "x = np.asanyarray(df)"
      ],
      "metadata": {
        "id": "QwE7iAH3mKKb"
      },
      "execution_count": null,
      "outputs": []
    },
    {
      "cell_type": "markdown",
      "source": [
        "Kmeans"
      ],
      "metadata": {
        "id": "mZmMpy9omN-x"
      }
    },
    {
      "cell_type": "code",
      "source": [
        "algoritmo = \"K-means\"\n",
        "n = 3;\n",
        "model = KMeans(n_clusters=n)\n",
        "model.fit(x)\n",
        "\n",
        "y = model.predict(x)"
      ],
      "metadata": {
        "id": "IYT3K7OTmPbA"
      },
      "execution_count": null,
      "outputs": []
    },
    {
      "cell_type": "markdown",
      "source": [
        "DBSCAN"
      ],
      "metadata": {
        "id": "bYxrtKhbmRe1"
      }
    },
    {
      "cell_type": "code",
      "source": [
        "algoritmo = \"DBSCAN\"\n",
        "model = DBSCAN(eps=0.2,min_samples=5)\n",
        "model.fit(x)\n",
        "\n",
        "y = model.labels_\n",
        "n = np.max(model.labels_)+1"
      ],
      "metadata": {
        "id": "tsp2YaPTmTB3"
      },
      "execution_count": 27,
      "outputs": []
    },
    {
      "cell_type": "markdown",
      "source": [
        "Gráfico"
      ],
      "metadata": {
        "id": "_L4CQWedoKr_"
      }
    },
    {
      "cell_type": "code",
      "source": [
        "plt.figure()\n",
        "plt.grid()\n",
        "plt.xlabel('x1')\n",
        "plt.ylabel('x2')\n",
        "plt.title(algoritmo)\n",
        "\n",
        "for i in range(n):\n",
        "    plt.plot(x[y==i,0],x[y==i,1],'o')\n",
        "plt.plot(x[y==-1,0],x[y==-1,1],'rx')\n",
        "plt.show()\n"
      ],
      "metadata": {
        "id": "UX6dJTOcn8th"
      },
      "execution_count": null,
      "outputs": []
    }
  ]
}
