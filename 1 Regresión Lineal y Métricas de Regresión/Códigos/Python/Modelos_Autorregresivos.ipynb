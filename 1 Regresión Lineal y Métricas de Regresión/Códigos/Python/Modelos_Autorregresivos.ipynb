{
  "nbformat": 4,
  "nbformat_minor": 0,
  "metadata": {
    "colab": {
      "provenance": [],
      "authorship_tag": "ABX9TyMVCR8PabS0ggCeHgJ9pCK2",
      "include_colab_link": true
    },
    "kernelspec": {
      "name": "python3",
      "display_name": "Python 3"
    },
    "language_info": {
      "name": "python"
    }
  },
  "cells": [
    {
      "cell_type": "markdown",
      "metadata": {
        "id": "view-in-github",
        "colab_type": "text"
      },
      "source": [
        "<a href=\"https://colab.research.google.com/github/Jegovila/SI4/blob/main/1%20Regresi%C3%B3n%20Lineal%20y%20M%C3%A9tricas%20de%20Regresi%C3%B3n/C%C3%B3digos/Python/Modelos_Autorregresivos.ipynb\" target=\"_parent\"><img src=\"https://colab.research.google.com/assets/colab-badge.svg\" alt=\"Open In Colab\"/></a>"
      ]
    },
    {
      "cell_type": "code",
      "source": [
        "!wget -nc \"https://raw.githubusercontent.com/Jegovila/SI4/main/1%20Regresi%C3%B3n%20Lineal%20y%20M%C3%A9tricas%20de%20Regresi%C3%B3n/C%C3%B3digos/Python/daily-min-temperatures.csv\""
      ],
      "metadata": {
        "id": "U3gPgQSpo2iw"
      },
      "execution_count": null,
      "outputs": []
    },
    {
      "cell_type": "code",
      "execution_count": 1,
      "metadata": {
        "id": "Z-9iW2HlQkyJ"
      },
      "outputs": [],
      "source": [
        "import numpy as np\n",
        "import pandas as pd\n",
        "import matplotlib.pyplot as plt"
      ]
    },
    {
      "cell_type": "code",
      "source": [
        "data = pd.read_csv(\"daily-min-temperatures.csv\")"
      ],
      "metadata": {
        "id": "CAfXUHnDS5Hx"
      },
      "execution_count": 3,
      "outputs": []
    },
    {
      "cell_type": "code",
      "source": [
        "data.head()"
      ],
      "metadata": {
        "id": "XpGJuRQLTDYR"
      },
      "execution_count": null,
      "outputs": []
    },
    {
      "cell_type": "code",
      "source": [
        "x = np.asanyarray(data[[\"Temp\"]])\n",
        "plt.plot(x)"
      ],
      "metadata": {
        "id": "2dNrdWKwTFmx"
      },
      "execution_count": null,
      "outputs": []
    },
    {
      "cell_type": "code",
      "source": [
        "plt.scatter(x[1:], x[:-1])"
      ],
      "metadata": {
        "id": "arhguW9xTM0-"
      },
      "execution_count": null,
      "outputs": []
    },
    {
      "cell_type": "code",
      "source": [
        "np.corrcoef(x[1:].transpose(), x[:-1].transpose())"
      ],
      "metadata": {
        "id": "zYlR6UbJVKp6"
      },
      "execution_count": null,
      "outputs": []
    },
    {
      "cell_type": "markdown",
      "source": [
        "Correlación con retardo"
      ],
      "metadata": {
        "id": "gk0gJOC4Wart"
      }
    },
    {
      "cell_type": "code",
      "source": [
        "p = 6 # retardo (que tan correlacionado con 6 dias anteriores)\n",
        "plt.scatter(x[p:], x[:-p])"
      ],
      "metadata": {
        "id": "jR2tDd1LWSAd"
      },
      "execution_count": null,
      "outputs": []
    },
    {
      "cell_type": "code",
      "source": [
        "np.corrcoef(x[p:].transpose(), x[:-p].transpose())"
      ],
      "metadata": {
        "id": "DmLi-ngoWaI4"
      },
      "execution_count": null,
      "outputs": []
    },
    {
      "cell_type": "code",
      "source": [
        "from pandas.plotting import autocorrelation_plot\n",
        "autocorrelation_plot(data[\"Temp\"])"
      ],
      "metadata": {
        "id": "TADiKpp8WyQg"
      },
      "execution_count": null,
      "outputs": []
    },
    {
      "cell_type": "code",
      "source": [
        "data2 = pd.DataFrame(data.Temp)\n",
        "\n",
        "p = 3\n",
        "for i in range(1, p+1):\n",
        "  data2 = pd.concat([data2, data.Temp.shift(-i)], axis=1)\n",
        "data2 = data2[:-p]\n",
        "\n",
        "data2.head()"
      ],
      "metadata": {
        "id": "4l7jQQpZZWKr"
      },
      "execution_count": null,
      "outputs": []
    },
    {
      "cell_type": "code",
      "source": [
        "x = np.asanyarray(data2.iloc[:,1:])\n",
        "y = np.asanyarray(data2.iloc[:,0])\n",
        "\n",
        "from sklearn.model_selection import train_test_split\n",
        "xtrain, xtest, ytrain, ytest = train_test_split(x, y)\n",
        "\n",
        "from sklearn.linear_model import LinearRegression\n",
        "\n",
        "model = LinearRegression()\n",
        "model.fit(xtrain, ytrain)\n",
        "\n",
        "print(\"Train: \", model.score(xtrain, ytrain))\n",
        "print(\"Test: \", model.score(xtest, ytest))"
      ],
      "metadata": {
        "id": "3C9ISfeRaBN0"
      },
      "execution_count": null,
      "outputs": []
    }
  ]
}