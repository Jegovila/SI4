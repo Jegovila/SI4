{
  "nbformat": 4,
  "nbformat_minor": 0,
  "metadata": {
    "colab": {
      "provenance": [],
      "authorship_tag": "ABX9TyM536Po8Vhy2bS1e2IUVoxW",
      "include_colab_link": true
    },
    "kernelspec": {
      "name": "python3",
      "display_name": "Python 3"
    },
    "language_info": {
      "name": "python"
    }
  },
  "cells": [
    {
      "cell_type": "markdown",
      "metadata": {
        "id": "view-in-github",
        "colab_type": "text"
      },
      "source": [
        "<a href=\"https://colab.research.google.com/github/Jegovila/SI4/blob/main/1%20Regresi%C3%B3n%20Lineal%20y%20M%C3%A9tricas%20de%20Regresi%C3%B3n/C%C3%B3digos/Python/Actividad1_Regresion.ipynb\" target=\"_parent\"><img src=\"https://colab.research.google.com/assets/colab-badge.svg\" alt=\"Open In Colab\"/></a>"
      ]
    },
    {
      "cell_type": "code",
      "execution_count": null,
      "metadata": {
        "id": "epjFBkxUcEBm"
      },
      "outputs": [],
      "source": [
        "!wget -nc \"https://raw.githubusercontent.com/Jegovila/SI4/main/0%20Introducci%C3%B3n/C%C3%B3digos/Python/countries.csv\""
      ]
    },
    {
      "cell_type": "code",
      "source": [
        "import pandas as pd\n",
        "import numpy as np\n",
        "import matplotlib.pyplot as plt\n",
        "from sklearn import linear_model"
      ],
      "metadata": {
        "id": "L0Xsb5p8cLFA"
      },
      "execution_count": 2,
      "outputs": []
    },
    {
      "cell_type": "markdown",
      "source": [
        "Importamos el dataset"
      ],
      "metadata": {
        "id": "15N4zx59dwl6"
      }
    },
    {
      "cell_type": "code",
      "source": [
        "data = pd.read_csv('countries.csv')\n",
        "data"
      ],
      "metadata": {
        "id": "e1iTS-a-ce2o"
      },
      "execution_count": null,
      "outputs": []
    },
    {
      "cell_type": "markdown",
      "source": [
        "Filtramos para México"
      ],
      "metadata": {
        "id": "974-VnNcdyBT"
      }
    },
    {
      "cell_type": "code",
      "source": [
        "data_mex = data[data.country == 'Mexico']\n",
        "data_mex"
      ],
      "metadata": {
        "id": "pHrcXEjlcp-G"
      },
      "execution_count": null,
      "outputs": []
    },
    {
      "cell_type": "markdown",
      "source": [
        "Graficamos año contra esperanza de vida"
      ],
      "metadata": {
        "id": "a4VXEVOXd0k5"
      }
    },
    {
      "cell_type": "code",
      "source": [
        "data_mex.plot.scatter(x='year', y='lifeExp')"
      ],
      "metadata": {
        "id": "9_8Ff3sicxMT"
      },
      "execution_count": null,
      "outputs": []
    },
    {
      "cell_type": "markdown",
      "source": [
        "Separar los datos de entrada y salida"
      ],
      "metadata": {
        "id": "Gi6vS8kidv7L"
      }
    },
    {
      "cell_type": "code",
      "source": [
        "x = np.asanyarray(data_mex[['year']])\n",
        "y = np.asanyarray(data_mex[['lifeExp']])\n",
        "print(x)\n",
        "print(y)"
      ],
      "metadata": {
        "id": "O2glEiQMdUrH"
      },
      "execution_count": null,
      "outputs": []
    },
    {
      "cell_type": "markdown",
      "source": [
        "Queremos ahora predecir la esperanza de vida de algún año del cual no tenemos información"
      ],
      "metadata": {
        "id": "WuYbnURKd92s"
      }
    },
    {
      "cell_type": "code",
      "source": [
        "model = linear_model.LinearRegression()   # crear el objeto modelop\n",
        "model.fit(x, y)                           # Entrenar el modelo\n",
        "\n",
        "ypred = model.predict(x)\n",
        "\n",
        "plt.scatter(x, y)\n",
        "plt.plot(x, ypred, '--r')"
      ],
      "metadata": {
        "id": "syIypqlEeB6b"
      },
      "execution_count": null,
      "outputs": []
    },
    {
      "cell_type": "code",
      "source": [
        "x.shape"
      ],
      "metadata": {
        "id": "5GGro28CfgIG"
      },
      "execution_count": null,
      "outputs": []
    },
    {
      "cell_type": "markdown",
      "source": [
        "Si quiero hacer una predicción, requiero que la entrada tenga esa misma estructura de los datos de entrada con los que entrenamos. Dependiendo de la versión, podría ser un error mandarle, por ejemplo, model.predict(1955)"
      ],
      "metadata": {
        "id": "lX0_LRPVfzrW"
      }
    },
    {
      "cell_type": "code",
      "source": [
        "model.predict([[1955]])"
      ],
      "metadata": {
        "id": "Tn0honZcgAVF"
      },
      "execution_count": null,
      "outputs": []
    },
    {
      "cell_type": "markdown",
      "source": [
        "O si quisieramos mandar varios datos"
      ],
      "metadata": {
        "id": "8pXAC7p5gMVU"
      }
    },
    {
      "cell_type": "code",
      "source": [
        "model.predict([[1952],[2005]])"
      ],
      "metadata": {
        "id": "FdL7VMWsgNww"
      },
      "execution_count": null,
      "outputs": []
    },
    {
      "cell_type": "code",
      "source": [
        "print(abs(y - ypred))\n",
        "print(np.mean(abs(y-ypred)))"
      ],
      "metadata": {
        "id": "Is2F1EjOg3Ps"
      },
      "execution_count": null,
      "outputs": []
    },
    {
      "cell_type": "markdown",
      "source": [
        "Métricas del error"
      ],
      "metadata": {
        "id": "m-GVEVwHhX8U"
      }
    },
    {
      "cell_type": "code",
      "source": [
        "from sklearn.metrics import mean_absolute_error\n",
        "print(mean_absolute_error(y, ypred))"
      ],
      "metadata": {
        "id": "vrNY0tGNhZLT"
      },
      "execution_count": null,
      "outputs": []
    },
    {
      "cell_type": "code",
      "source": [
        "from sklearn.metrics import mean_squared_error\n",
        "print(mean_squared_error(y, ypred))"
      ],
      "metadata": {
        "id": "CReLosYxhyKC"
      },
      "execution_count": null,
      "outputs": []
    },
    {
      "cell_type": "markdown",
      "source": [
        "La siguiente será la métrica que utilizaremos ante problemas de regresión."
      ],
      "metadata": {
        "id": "YNUy1mdoi8F1"
      }
    },
    {
      "cell_type": "code",
      "source": [
        "from sklearn.metrics import r2_score\n",
        "print(r2_score(y, ypred))"
      ],
      "metadata": {
        "id": "-_zztMHqiwKQ"
      },
      "execution_count": null,
      "outputs": []
    },
    {
      "cell_type": "markdown",
      "source": [
        "Mientras más cercano a 1, mejor es nuestra predicción."
      ],
      "metadata": {
        "id": "1GOK497bjIaQ"
      }
    },
    {
      "cell_type": "code",
      "source": [
        "model.predict([[2024]])"
      ],
      "metadata": {
        "id": "cH-7RSHDjbrh"
      },
      "execution_count": null,
      "outputs": []
    },
    {
      "cell_type": "code",
      "source": [
        "model.predict([[2050]])"
      ],
      "metadata": {
        "id": "73Il27_qjiIj"
      },
      "execution_count": null,
      "outputs": []
    },
    {
      "cell_type": "code",
      "source": [
        "model.predict([[3050]])"
      ],
      "metadata": {
        "id": "87Azi_bmjlh4"
      },
      "execution_count": null,
      "outputs": []
    }
  ]
}