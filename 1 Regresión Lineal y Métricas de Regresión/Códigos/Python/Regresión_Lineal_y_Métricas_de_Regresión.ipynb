{
  "nbformat": 4,
  "nbformat_minor": 0,
  "metadata": {
    "colab": {
      "provenance": [],
      "authorship_tag": "ABX9TyOS4UOL+jh37KonKdYr9Gii",
      "include_colab_link": true
    },
    "kernelspec": {
      "name": "python3",
      "display_name": "Python 3"
    },
    "language_info": {
      "name": "python"
    }
  },
  "cells": [
    {
      "cell_type": "markdown",
      "metadata": {
        "id": "view-in-github",
        "colab_type": "text"
      },
      "source": [
        "<a href=\"https://colab.research.google.com/github/Jegovila/SI4/blob/main/1%20Regresi%C3%B3n%20Lineal%20y%20M%C3%A9tricas%20de%20Regresi%C3%B3n/C%C3%B3digos/Python/Regresi%C3%B3n_Lineal_y_M%C3%A9tricas_de_Regresi%C3%B3n.ipynb\" target=\"_parent\"><img src=\"https://colab.research.google.com/assets/colab-badge.svg\" alt=\"Open In Colab\"/></a>"
      ]
    },
    {
      "cell_type": "code",
      "execution_count": null,
      "metadata": {
        "id": "JcuhO7OX1RtR"
      },
      "outputs": [],
      "source": [
        "!wget -nc 'https://raw.githubusercontent.com/Jegovila/SI4/main/1%20Regresi%C3%B3n%20Lineal%20y%20M%C3%A9tricas%20de%20Regresi%C3%B3n/C%C3%B3digos/Python/fish.csv'\n",
        "!wget -nc 'https://raw.githubusercontent.com/Jegovila/SI4/main/1%20Regresi%C3%B3n%20Lineal%20y%20M%C3%A9tricas%20de%20Regresi%C3%B3n/C%C3%B3digos/Python/house.csv'\n",
        "!wget -nc 'https://raw.githubusercontent.com/Jegovila/SI4/main/1%20Regresi%C3%B3n%20Lineal%20y%20M%C3%A9tricas%20de%20Regresi%C3%B3n/C%C3%B3digos/Python/pop.csv'\n",
        "!wget -nc 'https://raw.githubusercontent.com/Jegovila/SI4/main/1%20Regresi%C3%B3n%20Lineal%20y%20M%C3%A9tricas%20de%20Regresi%C3%B3n/C%C3%B3digos/Python/salary.csv'\n",
        "!wget -nc 'https://raw.githubusercontent.com/Jegovila/SI4/main/1%20Regresi%C3%B3n%20Lineal%20y%20M%C3%A9tricas%20de%20Regresi%C3%B3n/C%C3%B3digos/Python/df_regresion_lineal_1.csv'\n",
        "!wget -nc 'https://raw.githubusercontent.com/Jegovila/SI4/main/1%20Regresi%C3%B3n%20Lineal%20y%20M%C3%A9tricas%20de%20Regresi%C3%B3n/C%C3%B3digos/Python/df_regresion_lineal_2.csv'\n",
        "!wget -nc 'https://raw.githubusercontent.com/Jegovila/SI4/main/1%20Regresi%C3%B3n%20Lineal%20y%20M%C3%A9tricas%20de%20Regresi%C3%B3n/C%C3%B3digos/Python/df_regresion_lineal_3.csv'"
      ]
    },
    {
      "cell_type": "code",
      "source": [
        "import pandas as pd\n",
        "import numpy as np\n",
        "import matplotlib.pyplot as plt"
      ],
      "metadata": {
        "id": "mCgn_X1u3Eh7"
      },
      "execution_count": 2,
      "outputs": []
    },
    {
      "cell_type": "code",
      "source": [
        "from sklearn import linear_model\n",
        "from sklearn.metrics import mean_absolute_error, mean_squared_error, r2_score"
      ],
      "metadata": {
        "id": "Sd2hvvyF3XuV"
      },
      "execution_count": 3,
      "outputs": []
    },
    {
      "cell_type": "code",
      "source": [
        "df = pd.read_csv('df_regresion_lineal_1.csv') # 1,2,3\n",
        "print(df)"
      ],
      "metadata": {
        "id": "Qs2UY7yR3ZWx"
      },
      "execution_count": null,
      "outputs": []
    },
    {
      "cell_type": "code",
      "source": [
        "x = np.asanyarray(df[['x']])\n",
        "y = np.asanyarray(df[['y']])"
      ],
      "metadata": {
        "id": "kZUDn6Xa7lOg"
      },
      "execution_count": 19,
      "outputs": []
    },
    {
      "cell_type": "code",
      "source": [
        "plt.figure()\n",
        "plt.grid()\n",
        "plt.title('Regresion lineal')\n",
        "plt.xlabel('x')\n",
        "plt.ylabel('y')\n",
        "\n",
        "plt.plot(x,y,'bo')\n",
        "\n",
        "plt.show()"
      ],
      "metadata": {
        "id": "VnAJYng6l8-Z"
      },
      "execution_count": null,
      "outputs": []
    },
    {
      "cell_type": "code",
      "source": [
        "model = linear_model.LinearRegression()\n",
        "model.fit(x,y)\n",
        "\n",
        "print('Coeficientes(',model.intercept_,',',model.coef_,')')"
      ],
      "metadata": {
        "id": "j9GZZeeu3gA9"
      },
      "execution_count": null,
      "outputs": []
    },
    {
      "cell_type": "code",
      "source": [
        "yp = model.predict(x)\n",
        "\n",
        "xp_1 = np.array([[1]]);\n",
        "yp_1 = model.predict(xp_1)"
      ],
      "metadata": {
        "id": "ttJfeBmk3h0O"
      },
      "execution_count": 23,
      "outputs": []
    },
    {
      "cell_type": "code",
      "source": [
        "plt.figure()\n",
        "plt.grid()\n",
        "plt.title('Regresion lineal')\n",
        "plt.xlabel('x')\n",
        "plt.ylabel('y')\n",
        "\n",
        "plt.plot(x,y,'bo')\n",
        "plt.plot(x,yp,'r-',lw=2)\n",
        "plt.plot(xp_1,yp_1,'gs',lw=2)\n",
        "\n",
        "plt.legend(['muestras','prediccion','(xp,yp)'])\n",
        "plt.show()"
      ],
      "metadata": {
        "id": "51gKxc_i3j2-"
      },
      "execution_count": null,
      "outputs": []
    },
    {
      "cell_type": "markdown",
      "source": [
        "Métricas de Regresión"
      ],
      "metadata": {
        "id": "vJHax-Yh3l53"
      }
    },
    {
      "cell_type": "code",
      "source": [
        "e1 = mean_absolute_error(y,yp)\n",
        "print('MAE =',e1)\n",
        "\n",
        "e2 = mean_squared_error(y,yp)\n",
        "print('MSE =',e2)\n"
      ],
      "metadata": {
        "id": "DWiHjW663lqO"
      },
      "execution_count": null,
      "outputs": []
    }
  ]
}