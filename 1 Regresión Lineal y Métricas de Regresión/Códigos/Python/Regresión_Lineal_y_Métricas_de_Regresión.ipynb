{
  "nbformat": 4,
  "nbformat_minor": 0,
  "metadata": {
    "colab": {
      "provenance": [],
      "authorship_tag": "ABX9TyMOhg9ht7AopCbz2kmTWhBa",
      "include_colab_link": true
    },
    "kernelspec": {
      "name": "python3",
      "display_name": "Python 3"
    },
    "language_info": {
      "name": "python"
    }
  },
  "cells": [
    {
      "cell_type": "markdown",
      "metadata": {
        "id": "view-in-github",
        "colab_type": "text"
      },
      "source": [
        "<a href=\"https://colab.research.google.com/github/Jegovila/SI4/blob/main/1%20Regresi%C3%B3n%20Lineal%20y%20M%C3%A9tricas%20de%20Regresi%C3%B3n/C%C3%B3digos/Python/Regresi%C3%B3n_Lineal_y_M%C3%A9tricas_de_Regresi%C3%B3n.ipynb\" target=\"_parent\"><img src=\"https://colab.research.google.com/assets/colab-badge.svg\" alt=\"Open In Colab\"/></a>"
      ]
    },
    {
      "cell_type": "code",
      "execution_count": null,
      "metadata": {
        "id": "JcuhO7OX1RtR"
      },
      "outputs": [],
      "source": [
        "!wget -nc 'https://raw.githubusercontent.com/Jegovila/SI4/main/13%20Algoritmo%20de%20Luci%C3%A9rnaga/C%C3%B3digos/Plot_Surf.py'\n"
      ]
    }
  ]
}