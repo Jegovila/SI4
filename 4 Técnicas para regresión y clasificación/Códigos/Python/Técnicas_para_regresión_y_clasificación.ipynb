{
  "nbformat": 4,
  "nbformat_minor": 0,
  "metadata": {
    "colab": {
      "provenance": [],
      "authorship_tag": "ABX9TyM7kaWQGVwuhGIGkCkQtq4N",
      "include_colab_link": true
    },
    "kernelspec": {
      "name": "python3",
      "display_name": "Python 3"
    },
    "language_info": {
      "name": "python"
    }
  },
  "cells": [
    {
      "cell_type": "markdown",
      "metadata": {
        "id": "view-in-github",
        "colab_type": "text"
      },
      "source": [
        "<a href=\"https://colab.research.google.com/github/Jegovila/SI4/blob/main/4%20T%C3%A9cnicas%20para%20regresi%C3%B3n%20y%20clasificaci%C3%B3n/C%C3%B3digos/Python/T%C3%A9cnicas_para_regresi%C3%B3n_y_clasificaci%C3%B3n.ipynb\" target=\"_parent\"><img src=\"https://colab.research.google.com/assets/colab-badge.svg\" alt=\"Open In Colab\"/></a>"
      ]
    },
    {
      "cell_type": "code",
      "execution_count": null,
      "metadata": {
        "id": "dNFAnl4lSKN2"
      },
      "outputs": [],
      "source": [
        "!wget -nc \"https://raw.githubusercontent.com/Jegovila/SI4/main/4%20T%C3%A9cnicas%20para%20regresi%C3%B3n%20y%20clasificaci%C3%B3n/C%C3%B3digos/Python/df_clasificacion_1.csv\"\n",
        "!wget -nc \"https://raw.githubusercontent.com/Jegovila/SI4/main/4%20T%C3%A9cnicas%20para%20regresi%C3%B3n%20y%20clasificaci%C3%B3n/C%C3%B3digos/Python/df_clasificacion_2.csv\"\n",
        "!wget -nc \"https://raw.githubusercontent.com/Jegovila/SI4/main/4%20T%C3%A9cnicas%20para%20regresi%C3%B3n%20y%20clasificaci%C3%B3n/C%C3%B3digos/Python/df_clasificacion_3.csv\"\n",
        "\n",
        "!wget -nc \"https://raw.githubusercontent.com/Jegovila/SI4/main/4%20T%C3%A9cnicas%20para%20regresi%C3%B3n%20y%20clasificaci%C3%B3n/C%C3%B3digos/Python/df_regresion_nolineal_1.csv\"\n",
        "!wget -nc \"https://raw.githubusercontent.com/Jegovila/SI4/main/4%20T%C3%A9cnicas%20para%20regresi%C3%B3n%20y%20clasificaci%C3%B3n/C%C3%B3digos/Python/df_regresion_nolineal_2.csv\"\n",
        "!wget -nc \"https://raw.githubusercontent.com/Jegovila/SI4/main/4%20T%C3%A9cnicas%20para%20regresi%C3%B3n%20y%20clasificaci%C3%B3n/C%C3%B3digos/Python/df_regresion_nolineal_3.csv\"\n",
        "\n",
        "!wget -nc \"https://raw.githubusercontent.com/Jegovila/SI4/main/4%20T%C3%A9cnicas%20para%20regresi%C3%B3n%20y%20clasificaci%C3%B3n/C%C3%B3digos/Python/purchase_decision_car.csv\"\n",
        "!wget -nc \"https://raw.githubusercontent.com/Jegovila/SI4/main/4%20T%C3%A9cnicas%20para%20regresi%C3%B3n%20y%20clasificaci%C3%B3n/C%C3%B3digos/Python/temp.csv\""
      ]
    },
    {
      "cell_type": "code",
      "source": [
        "import pandas as pd\n",
        "import numpy as np\n",
        "import matplotlib.pyplot as plt"
      ],
      "metadata": {
        "id": "cZRB6FLrSP5c"
      },
      "execution_count": 2,
      "outputs": []
    },
    {
      "cell_type": "code",
      "source": [
        "from sklearn.model_selection import train_test_split\n",
        "from sklearn.preprocessing import StandardScaler\n",
        "from sklearn.pipeline import Pipeline\n",
        "from sklearn import metrics\n",
        "from sklearn.inspection import DecisionBoundaryDisplay"
      ],
      "metadata": {
        "id": "mw5fnMM8SawW"
      },
      "execution_count": 3,
      "outputs": []
    },
    {
      "cell_type": "markdown",
      "source": [
        "# Clasificación"
      ],
      "metadata": {
        "id": "9vulu_d-VJ5z"
      }
    },
    {
      "cell_type": "code",
      "source": [
        "from sklearn.tree import DecisionTreeClassifier\n",
        "from sklearn.neighbors import KNeighborsClassifier\n",
        "from sklearn.neural_network import MLPClassifier\n",
        "from sklearn.svm import SVC"
      ],
      "metadata": {
        "id": "CLVSnYHXfGp8"
      },
      "execution_count": null,
      "outputs": []
    },
    {
      "cell_type": "code",
      "source": [
        "df = pd.read_csv('df_clasificacion_3.csv') # 1, 2, 3\n",
        "\n",
        "x = np.asanyarray(df.drop(columns=['y']))\n",
        "y = np.asanyarray(df['y'])\n",
        "\n",
        "x_train, x_test, y_train, y_test = train_test_split(x, y)"
      ],
      "metadata": {
        "id": "mLGa3Z-gSm81"
      },
      "execution_count": 7,
      "outputs": []
    },
    {
      "cell_type": "markdown",
      "source": [
        "Decision Tree Classifier"
      ],
      "metadata": {
        "id": "IuGEUkgzSvc1"
      }
    },
    {
      "cell_type": "code",
      "source": [
        "model = Pipeline([('scaler',StandardScaler()),('cla',DecisionTreeClassifier(max_depth=5))])"
      ],
      "metadata": {
        "id": "mlNQ8aBTSse-"
      },
      "execution_count": 8,
      "outputs": []
    },
    {
      "cell_type": "markdown",
      "source": [
        "KNeighbors Classifier"
      ],
      "metadata": {
        "id": "W42LtKuuUJGB"
      }
    },
    {
      "cell_type": "code",
      "source": [
        "model = Pipeline([('scaler',StandardScaler()),('cla',KNeighborsClassifier(n_neighbors=5))])"
      ],
      "metadata": {
        "id": "wR2JbgaAULtq"
      },
      "execution_count": 16,
      "outputs": []
    },
    {
      "cell_type": "markdown",
      "source": [
        "MLP Classifier"
      ],
      "metadata": {
        "id": "MQXbxsLwUh1G"
      }
    },
    {
      "cell_type": "code",
      "source": [
        "model = Pipeline([('scaler',StandardScaler()),('cla',MLPClassifier(hidden_layer_sizes=(20,20),solver='adam',\n",
        "                    activation='tanh',batch_size=5,max_iter=500,alpha=0.001))])"
      ],
      "metadata": {
        "id": "WTNCmZ1vUi-k"
      },
      "execution_count": 19,
      "outputs": []
    },
    {
      "cell_type": "markdown",
      "source": [
        "SVC"
      ],
      "metadata": {
        "id": "5CKTVj2kdmK2"
      }
    },
    {
      "cell_type": "code",
      "source": [
        "model = Pipeline([('scaler',StandardScaler()),('cla',SVC(C=100, kernel='rbf'))])"
      ],
      "metadata": {
        "id": "QqoB8iXNdnDs"
      },
      "execution_count": 22,
      "outputs": []
    },
    {
      "cell_type": "markdown",
      "source": [
        "Entrenamiento"
      ],
      "metadata": {
        "id": "Uj84m4tvWSEB"
      }
    },
    {
      "cell_type": "code",
      "source": [
        "model.fit(x_train, y_train)\n",
        "\n",
        "print('Train score:',model.score(x_train,y_train)) # f1 macro avarage\n",
        "print('Test score:',model.score(x_test,y_test))"
      ],
      "metadata": {
        "id": "HXdlJGBCS3wS"
      },
      "execution_count": null,
      "outputs": []
    },
    {
      "cell_type": "code",
      "source": [
        "yp = model.predict(x)\n",
        "\n",
        "disp = DecisionBoundaryDisplay.from_estimator(model,x,response_method=\"predict\",alpha=0.5,eps=0.2,cmap=plt.cm.RdBu,xlabel='x1',ylabel='x2')\n",
        "disp.ax_.scatter(x[y==0,0],x[y==0,1],color='r',edgecolor='k')\n",
        "disp.ax_.scatter(x[y==1,0],x[y==1,1],color='b',edgecolor='k')"
      ],
      "metadata": {
        "id": "rxkmSwN5S5jB"
      },
      "execution_count": null,
      "outputs": []
    },
    {
      "cell_type": "markdown",
      "source": [
        "Métricas"
      ],
      "metadata": {
        "id": "Hfx2XOQYS8IK"
      }
    },
    {
      "cell_type": "code",
      "source": [
        "print('Metricas: \\n', metrics.classification_report(y,yp))"
      ],
      "metadata": {
        "id": "MZb2jWoGS92_"
      },
      "execution_count": null,
      "outputs": []
    },
    {
      "cell_type": "markdown",
      "source": [
        "Matriz de Confusión"
      ],
      "metadata": {
        "id": "DuwqW2dpS_G0"
      }
    },
    {
      "cell_type": "code",
      "source": [
        "print('Confusion matrix: \\n', metrics.confusion_matrix(y,yp))"
      ],
      "metadata": {
        "id": "OPEQ47fDTCfn"
      },
      "execution_count": null,
      "outputs": []
    },
    {
      "cell_type": "markdown",
      "source": [
        "# Regresión"
      ],
      "metadata": {
        "id": "pRMIP58FdR9r"
      }
    },
    {
      "cell_type": "code",
      "source": [
        "from sklearn.tree import DecisionTreeRegressor\n",
        "from sklearn.neighbors import KNeighborsRegressor\n",
        "from sklearn.neural_network import MLPRegressor\n",
        "from sklearn.svm import SVR"
      ],
      "metadata": {
        "id": "pcQQ4jSufLhr"
      },
      "execution_count": null,
      "outputs": []
    },
    {
      "cell_type": "code",
      "source": [
        "df = pd.read_csv('df_regresion_nolineal_3.csv') # 1, 2, 3\n",
        "\n",
        "x = np.asanyarray(df.drop(columns=['x']))\n",
        "y = np.asanyarray(df['y'])\n",
        "\n",
        "x_train, x_test, y_train, y_test = train_test_split(x, y)"
      ],
      "metadata": {
        "id": "rV6VfxseeeeU"
      },
      "execution_count": 35,
      "outputs": []
    },
    {
      "cell_type": "markdown",
      "source": [
        "Decision Tree Regressor"
      ],
      "metadata": {
        "id": "d6k2zpM0T8qY"
      }
    },
    {
      "cell_type": "code",
      "source": [
        "model = Pipeline([('scaler',StandardScaler()),('reg',DecisionTreeRegressor(max_depth=5))])\n",
        "#model = Pipeline([('scaler',StandardScaler()),('reg',DecisionTreeRegressor(min_samples_split=10))])"
      ],
      "metadata": {
        "id": "3fKC7JaXT-HG"
      },
      "execution_count": 36,
      "outputs": []
    },
    {
      "cell_type": "markdown",
      "source": [
        "KNeighbors Regressor"
      ],
      "metadata": {
        "id": "eayw1cpGUUU7"
      }
    },
    {
      "cell_type": "code",
      "source": [
        "model = Pipeline([('scaler',StandardScaler()),('reg',KNeighborsRegressor(n_neighbors=5))])"
      ],
      "metadata": {
        "id": "4GQgjB3HUaid"
      },
      "execution_count": 39,
      "outputs": []
    },
    {
      "cell_type": "markdown",
      "source": [
        "MLP Regressor"
      ],
      "metadata": {
        "id": "J_ocx_GuUmxL"
      }
    },
    {
      "cell_type": "code",
      "source": [
        "model = Pipeline([('scaler',StandardScaler()),\n",
        "                  ('reg',MLPRegressor(hidden_layer_sizes=(20,20),solver='adam',\n",
        "                                      activation='tanh',batch_size=10,max_iter=1000,alpha=0.001))])"
      ],
      "metadata": {
        "id": "ZvtbfnW3UvC3"
      },
      "execution_count": 42,
      "outputs": []
    },
    {
      "cell_type": "markdown",
      "source": [
        "SVR"
      ],
      "metadata": {
        "id": "cK9yPZs7drQc"
      }
    },
    {
      "cell_type": "code",
      "source": [
        "model = Pipeline([('scaler',StandardScaler()),\n",
        "                  ('reg',SVR(epsilon=0.1, C=50, kernel='rbf'))])"
      ],
      "metadata": {
        "id": "Z97pr5RHdsKp"
      },
      "execution_count": 46,
      "outputs": []
    },
    {
      "cell_type": "markdown",
      "source": [
        "Entrenamiento"
      ],
      "metadata": {
        "id": "hKN0Oqnddgpx"
      }
    },
    {
      "cell_type": "code",
      "source": [
        "model.fit(x_train,y_train)\n",
        "\n",
        "print('Train score: ',model.score(x_train,y_train))\n",
        "print('Test score: ',model.score(x_test,y_test))"
      ],
      "metadata": {
        "id": "aBDVcWiQda_4"
      },
      "execution_count": null,
      "outputs": []
    },
    {
      "cell_type": "code",
      "source": [
        "x_plot = np.linspace(x.min(),x.max(),50).reshape(-1,1)\n",
        "y_plot = model.predict(x_plot)\n",
        "\n",
        "plt.figure()\n",
        "plt.grid()\n",
        "plt.title('Regresion no lineal')\n",
        "plt.xlabel('x')\n",
        "plt.ylabel('y')\n",
        "\n",
        "plt.plot(x_train,y_train,'bo')\n",
        "plt.plot(x_test,y_test,'ro')\n",
        "plt.plot(x_plot,y_plot,'k-',lw=2)\n",
        "\n",
        "plt.legend(['entrenamiento','generalizacion','prediccion'])\n",
        "plt.show()"
      ],
      "metadata": {
        "id": "v5siD_5JdbyZ"
      },
      "execution_count": null,
      "outputs": []
    }
  ]
}