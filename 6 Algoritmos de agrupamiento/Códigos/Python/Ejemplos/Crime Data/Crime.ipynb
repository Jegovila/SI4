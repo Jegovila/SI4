{
  "nbformat": 4,
  "nbformat_minor": 0,
  "metadata": {
    "colab": {
      "provenance": [],
      "authorship_tag": "ABX9TyOM0mtxJ9UEPgrpMMHSpqZE",
      "include_colab_link": true
    },
    "kernelspec": {
      "name": "python3",
      "display_name": "Python 3"
    },
    "language_info": {
      "name": "python"
    }
  },
  "cells": [
    {
      "cell_type": "markdown",
      "metadata": {
        "id": "view-in-github",
        "colab_type": "text"
      },
      "source": [
        "<a href=\"https://colab.research.google.com/github/Jegovila/SI4/blob/main/6%20Algoritmos%20de%20agrupamiento/C%C3%B3digos/Python/Ejemplos/Crime%20Data/Crime.ipynb\" target=\"_parent\"><img src=\"https://colab.research.google.com/assets/colab-badge.svg\" alt=\"Open In Colab\"/></a>"
      ]
    },
    {
      "cell_type": "code",
      "execution_count": null,
      "metadata": {
        "id": "TcnOKqGZAFH9"
      },
      "outputs": [],
      "source": [
        "!wget -nc \"https://raw.githubusercontent.com/Jegovila/SI4/main/6%20Algoritmos%20de%20agrupamiento/C%C3%B3digos/Python/Ejemplos/Crime%20Data/crime_data.csv\""
      ]
    },
    {
      "cell_type": "code",
      "source": [
        "import pandas as pd\n",
        "import numpy as np\n",
        "\n",
        "from sklearn.cluster import KMeans"
      ],
      "metadata": {
        "id": "F9bzxTLAAI9h"
      },
      "execution_count": 2,
      "outputs": []
    },
    {
      "cell_type": "code",
      "source": [
        "df = pd.read_csv('crime_data.csv')\n",
        "print(df)"
      ],
      "metadata": {
        "id": "sNzjtl0RALm-"
      },
      "execution_count": null,
      "outputs": []
    },
    {
      "cell_type": "code",
      "source": [
        "target = np.asanyarray(df[['Target']])\n",
        "x = np.asanyarray(df.drop(columns=['Target']))"
      ],
      "metadata": {
        "id": "9HueYLWgAOBx"
      },
      "execution_count": 4,
      "outputs": []
    },
    {
      "cell_type": "code",
      "source": [
        "n = 3\n",
        "model = KMeans(n_clusters=n)\n",
        "model.fit(x)"
      ],
      "metadata": {
        "id": "IlZhAb2gAPT8"
      },
      "execution_count": null,
      "outputs": []
    },
    {
      "cell_type": "code",
      "source": [
        "y = model.predict(x)"
      ],
      "metadata": {
        "id": "qx5rHfs9ARVp"
      },
      "execution_count": 6,
      "outputs": []
    },
    {
      "cell_type": "code",
      "source": [
        "for i in range(0,n):\n",
        "    print('\\n Grupo ',i)\n",
        "    print(target[y==i].transpose())"
      ],
      "metadata": {
        "id": "nmiNSuQDASrc"
      },
      "execution_count": null,
      "outputs": []
    }
  ]
}