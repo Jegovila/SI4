{
  "nbformat": 4,
  "nbformat_minor": 0,
  "metadata": {
    "colab": {
      "provenance": [],
      "authorship_tag": "ABX9TyOoGRYbnFAxSHH+0Bod2b1b",
      "include_colab_link": true
    },
    "kernelspec": {
      "name": "python3",
      "display_name": "Python 3"
    },
    "language_info": {
      "name": "python"
    }
  },
  "cells": [
    {
      "cell_type": "markdown",
      "metadata": {
        "id": "view-in-github",
        "colab_type": "text"
      },
      "source": [
        "<a href=\"https://colab.research.google.com/github/Jegovila/SI4/blob/main/6%20Algoritmos%20de%20agrupamiento/C%C3%B3digos/Python/Ejemplos/Pokemon/Pokemon.ipynb\" target=\"_parent\"><img src=\"https://colab.research.google.com/assets/colab-badge.svg\" alt=\"Open In Colab\"/></a>"
      ]
    },
    {
      "cell_type": "code",
      "execution_count": null,
      "metadata": {
        "id": "-Md9LntR9Yl-"
      },
      "outputs": [],
      "source": [
        "!wget -nc \"https://raw.githubusercontent.com/Jegovila/SI4/main/6%20Algoritmos%20de%20agrupamiento/C%C3%B3digos/Python/Ejemplos/Pokemon/Pokemon.csv\""
      ]
    },
    {
      "cell_type": "code",
      "source": [
        "import pandas as pd\n",
        "import numpy as np\n",
        "\n",
        "from sklearn.preprocessing import LabelEncoder\n",
        "from sklearn.cluster import KMeans"
      ],
      "metadata": {
        "id": "tGcRDqNl9zCH"
      },
      "execution_count": null,
      "outputs": []
    },
    {
      "cell_type": "code",
      "source": [
        "df = pd.read_csv('Pokemon.csv') # 1-6\n",
        "print(df)"
      ],
      "metadata": {
        "id": "V_I9_h6M90Jm"
      },
      "execution_count": null,
      "outputs": []
    },
    {
      "cell_type": "code",
      "source": [
        "LE = LabelEncoder()\n",
        "df['Type_1'] = LE.fit_transform(df['Type_1'])\n",
        "df['Legendary'] = LE.fit_transform(df['Legendary'])\n",
        "print(df)"
      ],
      "metadata": {
        "id": "kX53Q90W94Ri"
      },
      "execution_count": null,
      "outputs": []
    },
    {
      "cell_type": "code",
      "source": [
        "target = np.asanyarray(df[['Name']])\n",
        "x = np.asanyarray(df.drop(columns=['Name']))"
      ],
      "metadata": {
        "id": "D1L1KD3A-ISm"
      },
      "execution_count": null,
      "outputs": []
    },
    {
      "cell_type": "code",
      "source": [
        "n = 4\n",
        "model = KMeans(n_clusters=n)\n",
        "model.fit(x)"
      ],
      "metadata": {
        "id": "VIaGKzAw-L_E"
      },
      "execution_count": null,
      "outputs": []
    },
    {
      "cell_type": "code",
      "source": [
        "y = model.predict(x)\n",
        "y"
      ],
      "metadata": {
        "id": "MroepUyh-SHU"
      },
      "execution_count": null,
      "outputs": []
    },
    {
      "cell_type": "code",
      "source": [
        "for i in range(n):\n",
        "    print('\\n Grupo ',i)\n",
        "    print(target[y==i].transpose())"
      ],
      "metadata": {
        "id": "mRs7dnot-anT"
      },
      "execution_count": null,
      "outputs": []
    }
  ]
}