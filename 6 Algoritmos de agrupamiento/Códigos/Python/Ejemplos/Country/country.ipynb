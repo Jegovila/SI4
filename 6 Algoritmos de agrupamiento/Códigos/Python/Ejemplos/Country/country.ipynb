{
  "nbformat": 4,
  "nbformat_minor": 0,
  "metadata": {
    "colab": {
      "provenance": [],
      "authorship_tag": "ABX9TyOLEX3+0Q4RaMGdUu5xbYcP",
      "include_colab_link": true
    },
    "kernelspec": {
      "name": "python3",
      "display_name": "Python 3"
    },
    "language_info": {
      "name": "python"
    }
  },
  "cells": [
    {
      "cell_type": "markdown",
      "metadata": {
        "id": "view-in-github",
        "colab_type": "text"
      },
      "source": [
        "<a href=\"https://colab.research.google.com/github/Jegovila/SI4/blob/main/6%20Algoritmos%20de%20agrupamiento/C%C3%B3digos/Python/Ejemplos/Country/country.ipynb\" target=\"_parent\"><img src=\"https://colab.research.google.com/assets/colab-badge.svg\" alt=\"Open In Colab\"/></a>"
      ]
    },
    {
      "cell_type": "code",
      "execution_count": null,
      "metadata": {
        "id": "p-EAaM7yAqDX"
      },
      "outputs": [],
      "source": [
        "!wget -nc \"https://raw.githubusercontent.com/Jegovila/SI4/main/6%20Algoritmos%20de%20agrupamiento/C%C3%B3digos/Python/Ejemplos/Country/country.csv\""
      ]
    },
    {
      "cell_type": "code",
      "source": [
        "import pandas as pd\n",
        "import numpy as np\n",
        "\n",
        "from sklearn.cluster import KMeans"
      ],
      "metadata": {
        "id": "mjGiha0SAwnu"
      },
      "execution_count": 2,
      "outputs": []
    },
    {
      "cell_type": "code",
      "source": [
        "df = pd.read_csv('country.csv')\n",
        "print(df)"
      ],
      "metadata": {
        "id": "HtSWnED3AxjB"
      },
      "execution_count": null,
      "outputs": []
    },
    {
      "cell_type": "code",
      "source": [
        "target = np.asanyarray(df[['country']])\n",
        "x = np.asanyarray(df.drop(columns=['country']))"
      ],
      "metadata": {
        "id": "hK3svG_DAzX_"
      },
      "execution_count": 4,
      "outputs": []
    },
    {
      "cell_type": "code",
      "source": [
        "n = 5\n",
        "model = KMeans(n_clusters=n)\n",
        "model.fit(x)"
      ],
      "metadata": {
        "id": "v7GJjpD6A4NX"
      },
      "execution_count": null,
      "outputs": []
    },
    {
      "cell_type": "code",
      "source": [
        "y_pred = model.predict(x)"
      ],
      "metadata": {
        "id": "I9oGQauQA5zq"
      },
      "execution_count": 6,
      "outputs": []
    },
    {
      "cell_type": "code",
      "source": [
        "for i in range(0,n):\n",
        "    print('\\n Grupo ',i)\n",
        "    print(target[y_pred==i].transpose())"
      ],
      "metadata": {
        "id": "mhG9cggeA8M9"
      },
      "execution_count": null,
      "outputs": []
    }
  ]
}