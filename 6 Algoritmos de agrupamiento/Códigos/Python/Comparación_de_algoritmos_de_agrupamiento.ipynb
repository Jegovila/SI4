{
  "cells": [
    {
      "cell_type": "markdown",
      "metadata": {
        "id": "view-in-github",
        "colab_type": "text"
      },
      "source": [
        "<a href=\"https://colab.research.google.com/github/Jegovila/SI4/blob/main/6%20Algoritmos%20de%20agrupamiento/C%C3%B3digos/Python/Comparaci%C3%B3n_de_algoritmos_de_agrupamiento.ipynb\" target=\"_parent\"><img src=\"https://colab.research.google.com/assets/colab-badge.svg\" alt=\"Open In Colab\"/></a>"
      ]
    },
    {
      "cell_type": "code",
      "execution_count": 13,
      "metadata": {
        "id": "nUgppBU_O7bZ"
      },
      "outputs": [],
      "source": [
        "# Importar paquetes\n",
        "import numpy as np\n",
        "import matplotlib.pyplot as plt\n",
        "from sklearn import cluster, datasets, mixture, metrics\n",
        "from sklearn.preprocessing import StandardScaler\n",
        "\n",
        "import warnings\n",
        "warnings.filterwarnings(\"ignore\")"
      ]
    },
    {
      "cell_type": "code",
      "execution_count": 3,
      "metadata": {
        "id": "awqKwwaLO7ba"
      },
      "outputs": [],
      "source": [
        "## Crear datos de prueba\n",
        "np.random.seed(0)\n",
        "n_samples = 1500\n",
        "X = 6*[None]\n",
        "\n",
        "# Circulos concentricos\n",
        "xtemp, _ = datasets.make_circles(n_samples=n_samples, factor=.5, noise=.05)\n",
        "X[0] = StandardScaler().fit_transform(xtemp)\n",
        "\n",
        "# Lunas\n",
        "xtemp, _ = datasets.make_moons(n_samples=n_samples, noise=.05)\n",
        "X[1] = StandardScaler().fit_transform(xtemp)\n",
        "\n",
        "# Blobs\n",
        "xtemp, _ = datasets.make_blobs(n_samples=n_samples, random_state=8)\n",
        "X[2] = StandardScaler().fit_transform(xtemp)\n",
        "\n",
        "# Plano sin agrupaciones\n",
        "xtemp = np.random.rand(n_samples, 2)\n",
        "X[3] = StandardScaler().fit_transform(xtemp)\n",
        "\n",
        "# Blobs con deformación anisotropica\n",
        "xtemp, _= datasets.make_blobs(n_samples=n_samples, random_state=170)\n",
        "xtemp = np.dot(xtemp, [[0.6, -0.6], [-0.4, 0.8]])\n",
        "X[4] = StandardScaler().fit_transform(xtemp)\n",
        "\n",
        "# Blobs con varias varianzas\n",
        "xtemp, _ = datasets.make_blobs(n_samples=n_samples, cluster_std=[1.0, 2.5, 0.5], random_state=142)\n",
        "X[5] = StandardScaler().fit_transform(xtemp)\n",
        "\n",
        "# number of clusters\n",
        "classes = [2,2,3,3,3,3]"
      ]
    },
    {
      "cell_type": "code",
      "execution_count": null,
      "metadata": {
        "id": "iznyjKLtO7ba"
      },
      "outputs": [],
      "source": [
        "## Dibujar\n",
        "plt.figure(figsize=(18,6))\n",
        "for i in range(6):\n",
        "    ax = plt.subplot(2, 3, i+1)\n",
        "    ax.scatter(X[i][:,0], X[i][:,1])"
      ]
    },
    {
      "cell_type": "code",
      "execution_count": null,
      "metadata": {
        "id": "HLTKFEuuO7bb"
      },
      "outputs": [],
      "source": [
        "y = []\n",
        "for c, x in zip(classes, X):\n",
        "    model = cluster.KMeans(n_clusters=c)\n",
        "    model.fit(x)\n",
        "    if hasattr(model, 'labels_'):\n",
        "        y.append(model.labels_.astype(int))\n",
        "    else:\n",
        "        y.append(model.predict(x))\n",
        "\n",
        "fig = plt.figure(figsize=(18,6))\n",
        "fig.suptitle('Kmeans', fontsize=48)\n",
        "for i in range(6):\n",
        "    ax = plt.subplot(2, 3, i+1)\n",
        "    ax.scatter(X[i][:,0], X[i][:,1], c=y[i])"
      ]
    },
    {
      "cell_type": "code",
      "execution_count": null,
      "metadata": {
        "id": "64JoBzstO7bb"
      },
      "outputs": [],
      "source": [
        "y = []\n",
        "for c, x in zip(classes, X):\n",
        "    model =  cluster.Birch(n_clusters=c)\n",
        "    model.fit(x)\n",
        "    if hasattr(model, 'labels_'):\n",
        "        y.append(model.labels_.astype(int))\n",
        "    else:\n",
        "        y.append(model.predict(x))\n",
        "\n",
        "fig = plt.figure(figsize=(18,6))\n",
        "fig.suptitle('Birch', fontsize=48)\n",
        "for i in range(6):\n",
        "    ax = plt.subplot(2, 3, i+1)\n",
        "    ax.scatter(X[i][:,0], X[i][:,1], c=y[i])"
      ]
    },
    {
      "cell_type": "code",
      "execution_count": null,
      "metadata": {
        "id": "Nqit0XybO7bb"
      },
      "outputs": [],
      "source": [
        "y = []\n",
        "for c, x in zip(classes, X):\n",
        "    model = cluster.SpectralClustering(n_clusters=c, affinity=\"nearest_neighbors\")\n",
        "    model.fit(x)\n",
        "    if hasattr(model, 'labels_'):\n",
        "        y.append(model.labels_.astype(int))\n",
        "    else:\n",
        "        y.append(model.predict(x))\n",
        "\n",
        "fig = plt.figure(figsize=(18,6))\n",
        "fig.suptitle('SpectralClustering', fontsize=48)\n",
        "for i in range(6):\n",
        "    ax = plt.subplot(2, 3, i+1)\n",
        "    ax.scatter(X[i][:,0], X[i][:,1], c=y[i])"
      ]
    },
    {
      "cell_type": "code",
      "execution_count": null,
      "metadata": {
        "id": "l1ra01PRO7bc"
      },
      "outputs": [],
      "source": [
        "y = []\n",
        "for c, x in zip(classes, X):\n",
        "    model =  mixture.GaussianMixture(n_components=c, covariance_type='full')\n",
        "    model.fit(x)\n",
        "    if hasattr(model, 'labels_'):\n",
        "        y.append(model.labels_.astype(np.int))\n",
        "    else:\n",
        "        y.append(model.predict(x))\n",
        "\n",
        "fig = plt.figure(figsize=(18,6))\n",
        "fig.suptitle('GaussianMixture', fontsize=48)\n",
        "for i in range(6):\n",
        "    ax = plt.subplot(2, 3, i+1)\n",
        "    ax.scatter(X[i][:,0], X[i][:,1], c=y[i])"
      ]
    },
    {
      "cell_type": "code",
      "execution_count": null,
      "metadata": {
        "id": "QMw35xkUO7bc"
      },
      "outputs": [],
      "source": [
        "y = []\n",
        "for c, x in zip(classes, X):\n",
        "    model =  cluster.OPTICS(min_samples=20, xi=0.05, min_cluster_size=0.1)\n",
        "    model.fit(x)\n",
        "    if hasattr(model, 'labels_'):\n",
        "        y.append(model.labels_.astype(int))\n",
        "    else:\n",
        "        y.append(model.predict(x))\n",
        "\n",
        "fig = plt.figure(figsize=(18,6))\n",
        "fig.suptitle('OPTICS', fontsize=48)\n",
        "for i in range(6):\n",
        "    ax = plt.subplot(2, 3, i+1)\n",
        "    ax.scatter(X[i][:,0], X[i][:,1], c=y[i])"
      ]
    },
    {
      "cell_type": "code",
      "execution_count": null,
      "metadata": {
        "id": "pqGJpwVVO7bc"
      },
      "outputs": [],
      "source": [
        "y = []\n",
        "eps = [0.3, 0.3, 0.3, 0.3, 0.15, 0.18]\n",
        "for c, x, e in zip(classes, X, eps):\n",
        "    model = cluster.DBSCAN(eps=e)\n",
        "    model.fit(x)\n",
        "    if hasattr(model, 'labels_'):\n",
        "        y.append(model.labels_.astype(int))\n",
        "    else:\n",
        "        y.append(model.predict(x))\n",
        "\n",
        "fig = plt.figure(figsize=(18,6))\n",
        "fig.suptitle('DBSCAN', fontsize=48)\n",
        "for i in range(6):\n",
        "    ax = plt.subplot(2, 3, i+1)\n",
        "    ax.scatter(X[i][:,0], X[i][:,1], c=y[i])"
      ]
    }
  ],
  "metadata": {
    "kernelspec": {
      "display_name": "Python 3",
      "language": "python",
      "name": "python3"
    },
    "language_info": {
      "codemirror_mode": {
        "name": "ipython",
        "version": 3
      },
      "file_extension": ".py",
      "mimetype": "text/x-python",
      "name": "python",
      "nbconvert_exporter": "python",
      "pygments_lexer": "ipython3",
      "version": "3.7.3"
    },
    "colab": {
      "provenance": [],
      "include_colab_link": true
    }
  },
  "nbformat": 4,
  "nbformat_minor": 0
}