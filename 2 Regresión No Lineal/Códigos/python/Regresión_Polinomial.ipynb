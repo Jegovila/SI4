{
  "nbformat": 4,
  "nbformat_minor": 0,
  "metadata": {
    "colab": {
      "provenance": [],
      "authorship_tag": "ABX9TyN67uvFnqkxji5sITzfJWG1",
      "include_colab_link": true
    },
    "kernelspec": {
      "name": "python3",
      "display_name": "Python 3"
    },
    "language_info": {
      "name": "python"
    }
  },
  "cells": [
    {
      "cell_type": "markdown",
      "metadata": {
        "id": "view-in-github",
        "colab_type": "text"
      },
      "source": [
        "<a href=\"https://colab.research.google.com/github/Jegovila/SI4/blob/main/2%20Regresi%C3%B3n%20No%20Lineal/C%C3%B3digos/python/Regresi%C3%B3n_Polinomial.ipynb\" target=\"_parent\"><img src=\"https://colab.research.google.com/assets/colab-badge.svg\" alt=\"Open In Colab\"/></a>"
      ]
    },
    {
      "cell_type": "code",
      "execution_count": 1,
      "metadata": {
        "id": "9JAifzCX3zik"
      },
      "outputs": [],
      "source": [
        "import numpy as np\n",
        "import numpy.random as rnd\n",
        "import matplotlib.pyplot as plt"
      ]
    },
    {
      "cell_type": "code",
      "source": [
        "np.random.seed(42)\n",
        "\n",
        "m = 100\n",
        "x = 6 * np.random.rand(m,1) -3\n",
        "y = 0.5 * x**2 + x + 2 + np.random.randn(m,1)\n",
        "\n",
        "plt.plot(x, y, \"b.\")\n",
        "plt.xlabel(\"$x_1$\", fontsize=18)\n",
        "plt.ylabel(\"$y$\", rotation=0, fontsize=18)\n",
        "plt.axis([-3, 3, 0, 10])"
      ],
      "metadata": {
        "id": "Rpm5kV7t4H01"
      },
      "execution_count": null,
      "outputs": []
    },
    {
      "cell_type": "code",
      "source": [
        "from sklearn.preprocessing import PolynomialFeatures\n",
        "poly_features = PolynomialFeatures(degree=2, include_bias=False)\n",
        "x_poly = poly_features.fit_transform(x)\n",
        "x_poly[0]"
      ],
      "metadata": {
        "id": "_sWwN7CK49EP"
      },
      "execution_count": null,
      "outputs": []
    },
    {
      "cell_type": "code",
      "source": [
        "from sklearn.linear_model import LinearRegression\n",
        "lin_reg = LinearRegression()\n",
        "lin_reg.fit(x_poly, y)\n",
        "print(lin_reg.intercept_, lin_reg.coef_)"
      ],
      "metadata": {
        "id": "EIDO4t2p5ZkE"
      },
      "execution_count": null,
      "outputs": []
    },
    {
      "cell_type": "code",
      "source": [
        "# Ordenar los puntos para poder visualizar la linea\n",
        "x_new = np.linspace(-3, 3, 100).reshape(100,1)\n",
        "x_new_poly = poly_features.transform(x_new)\n",
        "y_new = lin_reg.predict(x_new_poly)\n",
        "\n",
        "plt.plot(x, y, \"b.\")\n",
        "plt.plot(x_new, y_new, \"r-\", linewidth=2, label=\"Predictions\")\n",
        "plt.xlabel(\"$x_1$\", fontsize=18)\n",
        "plt.ylabel(\"$y$\", rotation=0, fontsize=18)\n",
        "plt.legend(loc=\"upper left\", fontsize=14)\n",
        "plt.axis([-3, 3, 0, 10])"
      ],
      "metadata": {
        "id": "n_jIHrSZ6AaP"
      },
      "execution_count": null,
      "outputs": []
    },
    {
      "cell_type": "markdown",
      "source": [
        "Pipeline"
      ],
      "metadata": {
        "id": "MbBJ8zHp8L3z"
      }
    },
    {
      "cell_type": "code",
      "source": [
        "from sklearn.preprocessing import StandardScaler\n",
        "from sklearn.pipeline import Pipeline\n",
        "\n",
        "model = Pipeline([\n",
        "    (\"poly\", PolynomialFeatures(degree=2, include_bias=False)),\n",
        "    (\"scaler\", StandardScaler()),\n",
        "    (\"reg\", LinearRegression())\n",
        "])\n",
        "\n",
        "model.fit(x, y)\n",
        "y_new = model.predict(x_new)\n",
        "\n",
        "plt.plot(x_new, y_new, \"r-\")\n",
        "\n",
        "plt.plot(x, y, \"b.\", linewidth=3)\n",
        "plt.xlabel(\"$x_1$\", fontsize=18)\n",
        "plt.ylabel(\"$y$\", rotation=0, fontsize=18)\n",
        "plt.axis([-3, 3, 0, 10])"
      ],
      "metadata": {
        "id": "sce9W4GG8Ntc"
      },
      "execution_count": null,
      "outputs": []
    },
    {
      "cell_type": "markdown",
      "source": [
        "Para probar con múltiples grados"
      ],
      "metadata": {
        "id": "5LOpJDfv_u8a"
      }
    },
    {
      "cell_type": "code",
      "source": [
        "from sklearn.preprocessing import StandardScaler\n",
        "from sklearn.pipeline import Pipeline\n",
        "\n",
        "for style, width, degree in ((\"g-\", 1, 300), (\"k--\", 2, 2), (\"r--\", 2, 1)):\n",
        "  polybig_features = PolynomialFeatures(degree=degree, include_bias=False)\n",
        "  std_scaler = StandardScaler()\n",
        "  lin_reg = LinearRegression()\n",
        "  polynomial_regression = Pipeline([\n",
        "      (\"poly_features\", polybig_features),\n",
        "      (\"std_scaler\", std_scaler),\n",
        "      (\"lin_reg\", lin_reg)\n",
        "  ])\n",
        "  polynomial_regression.fit(x,y)\n",
        "  y_newbig = polynomial_regression.predict(x_new)\n",
        "  plt.plot(x_new, y_newbig, style, label=str(degree), linewidth=width)\n",
        "\n",
        "plt.plot(x, y, \"b.\", linewidth=3)\n",
        "plt.xlabel(\"$x_1$\", fontsize=18)\n",
        "plt.ylabel(\"$y$\", rotation=0, fontsize=18)\n",
        "plt.legend(loc=\"upper left\", fontsize=14)\n",
        "plt.axis([-3, 3, 0, 10])"
      ],
      "metadata": {
        "id": "Wea9du08-ch0"
      },
      "execution_count": null,
      "outputs": []
    },
    {
      "cell_type": "markdown",
      "source": [
        "¿Cómo medir, cuál resultado es el mejor?"
      ],
      "metadata": {
        "id": "sDIjKTuK_3WE"
      }
    },
    {
      "cell_type": "code",
      "source": [
        "from sklearn.preprocessing import StandardScaler\n",
        "from sklearn.pipeline import Pipeline\n",
        "\n",
        "model = Pipeline([\n",
        "    (\"poly\", PolynomialFeatures(degree=100, include_bias=False)),\n",
        "    (\"scaler\", StandardScaler()),\n",
        "    (\"reg\", LinearRegression())\n",
        "])\n",
        "\n",
        "model.fit(x, y)\n",
        "print(\"Train: \", model.score(x, y))\n",
        "\n",
        "\n",
        "# Dibujar\n",
        "y_new = model.predict(x_new)\n",
        "plt.plot(x_new, y_new, \"r-\")\n",
        "plt.plot(x, y, \"b.\", linewidth=3)\n",
        "plt.xlabel(\"$x_1$\", fontsize=18)\n",
        "plt.ylabel(\"$y$\", rotation=0, fontsize=18)\n",
        "plt.axis([-3, 3, 0, 10])"
      ],
      "metadata": {
        "id": "vOyRd3_a_7V0"
      },
      "execution_count": null,
      "outputs": []
    },
    {
      "cell_type": "markdown",
      "source": [
        "Train y test"
      ],
      "metadata": {
        "id": "2a1RQBqaJCpf"
      }
    },
    {
      "cell_type": "code",
      "source": [
        "from sklearn.preprocessing import StandardScaler\n",
        "from sklearn.pipeline import Pipeline\n",
        "from sklearn.model_selection import train_test_split\n",
        "\n",
        "xtrain, xtest, ytrain, ytest = train_test_split(x,y) #  75% - 25%\n",
        "\n",
        "\n",
        "model = Pipeline([\n",
        "    (\"poly\", PolynomialFeatures(degree=2, include_bias=False)),\n",
        "    (\"scaler\", StandardScaler()),\n",
        "    (\"reg\", LinearRegression())\n",
        "])\n",
        "\n",
        "model.fit(xtrain, ytrain)\n",
        "print(\"Train: \", model.score(xtrain, ytrain))\n",
        "print(\"Test: \", model.score(xtest, ytest))\n",
        "\n",
        "\n",
        "# Dibujar\n",
        "y_new = model.predict(x_new)\n",
        "plt.plot(x_new, y_new, \"k-\")\n",
        "plt.plot(xtrain, ytrain, \"b.\", linewidth=3)\n",
        "plt.plot(xtest, ytest, \"r.\", linewidth=3)\n",
        "plt.xlabel(\"$x_1$\", fontsize=18)\n",
        "plt.ylabel(\"$y$\", rotation=0, fontsize=18)\n",
        "plt.axis([-3, 3, 0, 10])"
      ],
      "metadata": {
        "id": "ROST7c39EeIn"
      },
      "execution_count": null,
      "outputs": []
    },
    {
      "cell_type": "markdown",
      "source": [
        "Regularización"
      ],
      "metadata": {
        "id": "fRhhnbsfJkbj"
      }
    },
    {
      "cell_type": "code",
      "source": [
        "from sklearn.linear_model import Ridge\n",
        "\n",
        "np.random.seed(42)\n",
        "m = 20\n",
        "x = 3 * np.random.rand(m, 1)\n",
        "y = 1 + 0.5 * x * np.random.randn(m, 1) / 1.5\n",
        "x_new = np.linspace(0, 3, 100).reshape(100, 1)\n",
        "alpha = 1e-5\n",
        "\n",
        "model = Pipeline([\n",
        "    (\"poly\", PolynomialFeatures(degree=100, include_bias=False)),\n",
        "    (\"scaler\", StandardScaler()),\n",
        "    (\"reg\", Ridge(alpha))\n",
        "])\n",
        "\n",
        "model.fit(x, y)\n",
        "y_new_regul = model.predict(x_new)\n",
        "\n",
        "plt.plot(x_new, y_new_regul, \"--r\", linewidth=3, label=r\"$\\alpha = {}$\".format(alpha))\n",
        "plt.plot(x, y, \"ob\")\n",
        "plt.legend()\n",
        "plt.xlabel(\"$x_1$\")\n",
        "plt.ylabel(\"$y$\")\n",
        "plt.axis([0, 3, 0, 4])"
      ],
      "metadata": {
        "id": "zQE4QvygJgZk"
      },
      "execution_count": null,
      "outputs": []
    },
    {
      "cell_type": "code",
      "source": [
        "from sklearn.linear_model import Lasso\n",
        "\n",
        "alpha = 100\n",
        "\n",
        "model = Pipeline([\n",
        "    (\"poly\", PolynomialFeatures(degree=100, include_bias=False)),\n",
        "    (\"scaler\", StandardScaler()),\n",
        "    (\"reg\", Lasso(alpha))\n",
        "])\n",
        "\n",
        "model.fit(x, y)\n",
        "y_new_regul = model.predict(x_new)\n",
        "\n",
        "plt.plot(x_new, y_new_regul, \"--r\", linewidth=3, label=r\"$\\alpha = {}$\".format(alpha))\n",
        "plt.plot(x, y, \"ob\")\n",
        "plt.legend()\n",
        "plt.xlabel(\"$x_1$\")\n",
        "plt.ylabel(\"$y$\")\n",
        "plt.axis([0, 3, 0, 4])"
      ],
      "metadata": {
        "id": "dFKwh_tnN6mP"
      },
      "execution_count": null,
      "outputs": []
    },
    {
      "cell_type": "code",
      "source": [
        "from sklearn.linear_model import ElasticNet\n",
        "\n",
        "ElasticNet()\n",
        "\n",
        "model = Pipeline([\n",
        "    (\"poly\", PolynomialFeatures(degree=100, include_bias=False)),\n",
        "    (\"scaler\", StandardScaler()),\n",
        "    (\"reg\", ElasticNet(alpha=0.1, l1_ratio=0.1))\n",
        "])\n",
        "\n",
        "model.fit(x, y)\n",
        "y_new_regul = model.predict(x_new)\n",
        "\n",
        "plt.plot(x_new, y_new_regul, \"--r\", linewidth=3, label=r\"$\\alpha = {}$\".format(alpha))\n",
        "plt.plot(x, y, \"ob\")\n",
        "plt.legend()\n",
        "plt.xlabel(\"$x_1$\")\n",
        "plt.ylabel(\"$y$\")\n",
        "plt.axis([0, 3, 0, 4])"
      ],
      "metadata": {
        "id": "klhQvlC_OSSq"
      },
      "execution_count": null,
      "outputs": []
    }
  ]
}