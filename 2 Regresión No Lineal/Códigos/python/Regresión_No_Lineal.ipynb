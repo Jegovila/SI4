{
  "nbformat": 4,
  "nbformat_minor": 0,
  "metadata": {
    "colab": {
      "provenance": [],
      "authorship_tag": "ABX9TyPd8nYYpskUh5PbSyStoG3i",
      "include_colab_link": true
    },
    "kernelspec": {
      "name": "python3",
      "display_name": "Python 3"
    },
    "language_info": {
      "name": "python"
    }
  },
  "cells": [
    {
      "cell_type": "markdown",
      "metadata": {
        "id": "view-in-github",
        "colab_type": "text"
      },
      "source": [
        "<a href=\"https://colab.research.google.com/github/Jegovila/SI4/blob/main/2%20Regresi%C3%B3n%20No%20Lineal/C%C3%B3digos/python/Regresi%C3%B3n_No_Lineal.ipynb\" target=\"_parent\"><img src=\"https://colab.research.google.com/assets/colab-badge.svg\" alt=\"Open In Colab\"/></a>"
      ]
    },
    {
      "cell_type": "code",
      "execution_count": null,
      "metadata": {
        "id": "41WoojAYA3Kj"
      },
      "outputs": [],
      "source": [
        "!wget -nc \"https://raw.githubusercontent.com/Jegovila/SI4/main/2%20Regresi%C3%B3n%20No%20Lineal/C%C3%B3digos/python/df_regresion_nolineal_1.csv\"\n",
        "!wget -nc \"https://raw.githubusercontent.com/Jegovila/SI4/main/2%20Regresi%C3%B3n%20No%20Lineal/C%C3%B3digos/python/df_regresion_nolineal_2.csv\"\n",
        "!wget -nc \"https://raw.githubusercontent.com/Jegovila/SI4/main/2%20Regresi%C3%B3n%20No%20Lineal/C%C3%B3digos/python/df_regresion_nolineal_3.csv\"\n",
        "!wget -nc \"https://raw.githubusercontent.com/Jegovila/SI4/main/2%20Regresi%C3%B3n%20No%20Lineal/C%C3%B3digos/python/temp.csv\""
      ]
    },
    {
      "cell_type": "code",
      "source": [
        "import pandas as pd\n",
        "import numpy as np\n",
        "import matplotlib.pyplot as plt"
      ],
      "metadata": {
        "id": "UM8RhC3qJBK7"
      },
      "execution_count": 5,
      "outputs": []
    },
    {
      "cell_type": "code",
      "source": [
        "from sklearn.preprocessing import PolynomialFeatures\n",
        "from sklearn.preprocessing import StandardScaler\n",
        "from sklearn.pipeline import Pipeline\n",
        "from sklearn.model_selection import train_test_split"
      ],
      "metadata": {
        "id": "RbtAtyqzBSWS"
      },
      "execution_count": 2,
      "outputs": []
    },
    {
      "cell_type": "code",
      "source": [
        "from sklearn.linear_model import Ridge\n",
        "from sklearn.kernel_ridge import KernelRidge"
      ],
      "metadata": {
        "id": "Joy_OUl9Hf5J"
      },
      "execution_count": 3,
      "outputs": []
    },
    {
      "cell_type": "code",
      "source": [
        "df = pd.read_csv('df_regresion_nolineal_1.csv')\n",
        "\n",
        "x = np.asanyarray(df[['x']])\n",
        "y = np.asanyarray(df[['y']])\n",
        "\n",
        "x_train, x_test, y_train, y_test = train_test_split(x, y)"
      ],
      "metadata": {
        "id": "rZ_4qHmnHrXW"
      },
      "execution_count": 6,
      "outputs": []
    },
    {
      "cell_type": "markdown",
      "source": [
        "Ridge"
      ],
      "metadata": {
        "id": "Gum09qYGIdsr"
      }
    },
    {
      "cell_type": "code",
      "source": [
        "model = Pipeline([('poly',PolynomialFeatures(degree=25)),('scaler',StandardScaler()),('reg',Ridge(0.1))])\n",
        "model.fit(x_train,y_train)"
      ],
      "metadata": {
        "id": "OP1Vzo8KIf8x"
      },
      "execution_count": null,
      "outputs": []
    },
    {
      "cell_type": "markdown",
      "source": [
        "Kernel Ridge"
      ],
      "metadata": {
        "id": "CqYcW2FBIhzR"
      }
    },
    {
      "cell_type": "code",
      "source": [
        "model = Pipeline([('scaler',StandardScaler()),('reg',KernelRidge(alpha=0.01, kernel='rbf'))])\n",
        "model.fit(x_train,y_train)\n"
      ],
      "metadata": {
        "id": "36mfEp1YIheK"
      },
      "execution_count": null,
      "outputs": []
    },
    {
      "cell_type": "code",
      "source": [
        "print('Train score: ', model.score(x_train,y_train))\n",
        "print('Test score: ', model.score(x_test,y_test))"
      ],
      "metadata": {
        "id": "m0uUwShLIl_v"
      },
      "execution_count": null,
      "outputs": []
    },
    {
      "cell_type": "code",
      "source": [
        "x_plot = np.linspace(x.min(),x.max(),50).reshape(-1,1)\n",
        "y_plot = model.predict(x_plot)\n",
        "\n",
        "plt.figure()\n",
        "plt.grid()\n",
        "plt.title('Regresion polinomial')\n",
        "plt.xlabel('x')\n",
        "plt.ylabel('y')\n",
        "\n",
        "plt.plot(x_train,y_train,'bo')\n",
        "plt.plot(x_test,y_test,'ro')\n",
        "plt.plot(x_plot,y_plot,'k-',lw=2)\n",
        "\n",
        "plt.legend(['entrenamiento','generalizacion','prediccion'])\n",
        "\n",
        "plt.show()"
      ],
      "metadata": {
        "id": "z_w8kGNIIpRC"
      },
      "execution_count": null,
      "outputs": []
    }
  ]
}