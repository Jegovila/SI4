{
  "nbformat": 4,
  "nbformat_minor": 0,
  "metadata": {
    "colab": {
      "provenance": [],
      "authorship_tag": "ABX9TyP9hXc8JH9IMuYddL+D5ZL+",
      "include_colab_link": true
    },
    "kernelspec": {
      "name": "python3",
      "display_name": "Python 3"
    },
    "language_info": {
      "name": "python"
    }
  },
  "cells": [
    {
      "cell_type": "markdown",
      "metadata": {
        "id": "view-in-github",
        "colab_type": "text"
      },
      "source": [
        "<a href=\"https://colab.research.google.com/github/Jegovila/SI4/blob/main/2%20Regresi%C3%B3n%20No%20Lineal/C%C3%B3digos/python/Regresi%C3%B3n_No_Lineal.ipynb\" target=\"_parent\"><img src=\"https://colab.research.google.com/assets/colab-badge.svg\" alt=\"Open In Colab\"/></a>"
      ]
    },
    {
      "cell_type": "code",
      "source": [
        "import numpy as np\n",
        "import numpy.random as rnd\n",
        "import matplotlib.pyplot as plt"
      ],
      "metadata": {
        "id": "SHAQ2_VkHj3W"
      },
      "execution_count": null,
      "outputs": []
    },
    {
      "cell_type": "markdown",
      "source": [
        "Creamos dataset artificial"
      ],
      "metadata": {
        "id": "vZN_l-X7IFnp"
      }
    },
    {
      "cell_type": "code",
      "source": [
        "np.random.seed(42)\n",
        "m = 300\n",
        "r = 0.5\n",
        "ruido = r* np.random.randn(m, 1)\n",
        "x = 6 * np.random.rand(m, 1) - 3\n",
        "y = 0.5 * x**2 + x + 2 + ruido"
      ],
      "metadata": {
        "id": "cSwxzV8FHmb6"
      },
      "execution_count": null,
      "outputs": []
    },
    {
      "cell_type": "markdown",
      "source": [
        "Separamos en train y test"
      ],
      "metadata": {
        "id": "AxumE05tIIRF"
      }
    },
    {
      "cell_type": "code",
      "source": [
        "from sklearn.model_selection import train_test_split\n",
        "xtrain, xtest, ytrain, ytest = train_test_split(x,y)\n",
        "plt.plot(xtrain, ytrain, \"b.\")\n",
        "plt.plot(xtest, ytest, \"r.\")\n",
        "plt.xlabel(\"$x$\", fontsize=18)\n",
        "plt.ylabel(\"$y$\", fontsize=18)\n",
        "plt.axis([-3, 3, 0, 10])\n",
        "plt.show()"
      ],
      "metadata": {
        "id": "uwiuFPzrHn_6"
      },
      "execution_count": null,
      "outputs": []
    },
    {
      "cell_type": "markdown",
      "source": [
        "# Decision Tree"
      ],
      "metadata": {
        "id": "XLX1Nf_vIKyE"
      }
    },
    {
      "cell_type": "code",
      "source": [
        "from sklearn.tree import DecisionTreeRegressor\n",
        "model = DecisionTreeRegressor(max_depth=10, min_samples_leaf=0.05) #min_samples_leaf=0.05\n",
        "model.fit(xtrain, ytrain)\n",
        "\n",
        "print('Train: ', model.score(xtrain, ytrain))\n",
        "print('Test: ', model.score(xtest, ytest))\n",
        "\n",
        "x_new = np.linspace(-3, 3, 50).reshape(-1, 1)\n",
        "y_pred = model.predict(x_new)\n",
        "\n",
        "plt.plot(x_new, y_pred,'k-',  linewidth=3)\n",
        "plt.plot(xtrain, ytrain, \"b.\")\n",
        "plt.plot(xtest, ytest, \"r.\")\n",
        "plt.xlabel(\"$x$\", fontsize=18)\n",
        "plt.ylabel(\"$y$\", fontsize=18)\n",
        "plt.axis([-3, 3, 0, 10])\n",
        "plt.show()"
      ],
      "metadata": {
        "id": "pn580HGaH2p6"
      },
      "execution_count": null,
      "outputs": []
    },
    {
      "cell_type": "markdown",
      "source": [
        "# K Neighbors"
      ],
      "metadata": {
        "id": "n7VyAianINPr"
      }
    },
    {
      "cell_type": "code",
      "source": [
        "from sklearn.neighbors import KNeighborsRegressor\n",
        "model = KNeighborsRegressor(n_neighbors=1) #weights = 'uniform'\n",
        "model.fit(xtrain, ytrain)\n",
        "\n",
        "print('Train: ', model.score(xtrain, ytrain))\n",
        "print('Test: ', model.score(xtest, ytest))\n",
        "\n",
        "x_new = np.linspace(-3, 3, 100).reshape(-1, 1)\n",
        "y_pred = model.predict(x_new)\n",
        "\n",
        "plt.plot(x_new, y_pred,'k-',  linewidth=3)\n",
        "plt.plot(xtrain, ytrain, \"b.\")\n",
        "plt.plot(xtest, ytest, \"r.\")\n",
        "plt.xlabel(\"$x$\", fontsize=18)\n",
        "plt.ylabel(\"$y$\", fontsize=18)\n",
        "plt.axis([-3, 3, 0, 10])\n",
        "plt.show()"
      ],
      "metadata": {
        "id": "vUry31_8H4c6"
      },
      "execution_count": null,
      "outputs": []
    },
    {
      "cell_type": "markdown",
      "source": [
        "# SVR"
      ],
      "metadata": {
        "id": "kKKuXhleIQ7b"
      }
    },
    {
      "cell_type": "code",
      "source": [
        "from sklearn.svm import SVR\n",
        "model = SVR(kernel='rbf', C=1, epsilon=0.1)#gamma='scale', C=10, epsilon=0.1, kernel='rbf'\n",
        "model.fit(xtrain, ytrain.ravel())\n",
        "\n",
        "print('Train: ', model.score(xtrain, ytrain.ravel()))\n",
        "print('Test: ', model.score(xtest, ytest.ravel()))\n",
        "\n",
        "x_new = np.linspace(-3, 3, 100).reshape(-1, 1)\n",
        "y_pred = model.predict(x_new)\n",
        "\n",
        "plt.plot(x_new, y_pred,'k-',  linewidth=3)\n",
        "plt.plot(xtrain, ytrain, \"b.\")\n",
        "plt.plot(xtest, ytest, \"r.\")\n",
        "plt.xlabel(\"$x$\", fontsize=18)\n",
        "plt.ylabel(\"$y$\", fontsize=18)\n",
        "plt.axis([-3, 3, 0, 10])\n",
        "plt.show()\n"
      ],
      "metadata": {
        "id": "8sbN7YZxH6QQ"
      },
      "execution_count": null,
      "outputs": []
    },
    {
      "cell_type": "markdown",
      "source": [
        "# Kernel Ridge"
      ],
      "metadata": {
        "id": "Q9ch5_slISHW"
      }
    },
    {
      "cell_type": "code",
      "source": [
        "from sklearn.kernel_ridge import KernelRidge\n",
        "model = KernelRidge(alpha=0.1, kernel= 'rbf')\n",
        "model.fit(xtrain, ytrain.ravel())\n",
        "\n",
        "print('Train: ', model.score(xtrain, ytrain.ravel()))\n",
        "print('Test: ', model.score(xtest, ytest.ravel()))\n",
        "\n",
        "x_new = np.linspace(-3, 3, 100).reshape(-1, 1)\n",
        "y_pred = model.predict(x_new)\n",
        "\n",
        "plt.plot(x_new, y_pred,'k-',  linewidth=3)\n",
        "plt.plot(xtrain, ytrain, \"b.\")\n",
        "plt.plot(xtest, ytest, \"r.\")\n",
        "plt.xlabel(\"$x$\", fontsize=18)\n",
        "plt.ylabel(\"$y$\", fontsize=18)\n",
        "plt.axis([-3, 3, 0, 10])\n",
        "plt.show()"
      ],
      "metadata": {
        "id": "FQhv93JvIAlj"
      },
      "execution_count": null,
      "outputs": []
    },
    {
      "cell_type": "markdown",
      "source": [
        "# MLP"
      ],
      "metadata": {
        "id": "6yjq5lnEIUXJ"
      }
    },
    {
      "cell_type": "code",
      "source": [
        "from sklearn.neural_network import MLPRegressor\n",
        "model = MLPRegressor(hidden_layer_sizes=(10000,20), solver='adam', activation='relu', batch_size=10)\n",
        "model.fit(xtrain, ytrain.ravel())\n",
        "\n",
        "print('Train: ', model.score(xtrain, ytrain.ravel()))\n",
        "print('Test: ', model.score(xtest, ytest.ravel()))\n",
        "\n",
        "x_new = np.linspace(-3, 3, 100).reshape(-1, 1)\n",
        "y_pred = model.predict(x_new)\n",
        "\n",
        "plt.plot(x_new, y_pred,'k-',  linewidth=3)\n",
        "plt.plot(xtrain, ytrain, \"b.\")\n",
        "plt.plot(xtest, ytest, \"r.\")\n",
        "plt.xlabel(\"$x$\", fontsize=18)\n",
        "plt.ylabel(\"$y$\", fontsize=18)\n",
        "plt.axis([-3, 3, 0, 10])\n",
        "plt.show()"
      ],
      "metadata": {
        "id": "Q42ZQfRWIDeS"
      },
      "execution_count": null,
      "outputs": []
    }
  ]
}