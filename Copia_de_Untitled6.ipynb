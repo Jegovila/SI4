{
  "nbformat": 4,
  "nbformat_minor": 0,
  "metadata": {
    "colab": {
      "provenance": [],
      "gpuType": "T4",
      "authorship_tag": "ABX9TyP4STiC8qk1TiVrL4VjGMjY",
      "include_colab_link": true
    },
    "kernelspec": {
      "name": "python3",
      "display_name": "Python 3"
    },
    "language_info": {
      "name": "python"
    },
    "accelerator": "GPU"
  },
  "cells": [
    {
      "cell_type": "markdown",
      "metadata": {
        "id": "view-in-github",
        "colab_type": "text"
      },
      "source": [
        "<a href=\"https://colab.research.google.com/github/Jegovila/SI4/blob/main/Copia_de_Untitled6.ipynb\" target=\"_parent\"><img src=\"https://colab.research.google.com/assets/colab-badge.svg\" alt=\"Open In Colab\"/></a>"
      ]
    },
    {
      "cell_type": "code",
      "execution_count": null,
      "metadata": {
        "id": "bgnbF_AkzEXX"
      },
      "outputs": [],
      "source": [
        "lista = [1, 2, 3]"
      ]
    },
    {
      "cell_type": "markdown",
      "source": [
        "Hola mundo"
      ],
      "metadata": {
        "id": "M7uHWzTtzrBI"
      }
    },
    {
      "cell_type": "code",
      "source": [
        "print(\"hola mundo\")"
      ],
      "metadata": {
        "colab": {
          "base_uri": "https://localhost:8080/"
        },
        "id": "UBXd0CP6zr8K",
        "outputId": "a2a0681c-a8e0-4de9-89fa-497c45db029c"
      },
      "execution_count": null,
      "outputs": [
        {
          "output_type": "stream",
          "name": "stdout",
          "text": [
            "hola mundo\n"
          ]
        }
      ]
    },
    {
      "cell_type": "code",
      "source": [
        "2 +3"
      ],
      "metadata": {
        "id": "wzTK0qjnzwsI",
        "colab": {
          "base_uri": "https://localhost:8080/"
        },
        "outputId": "04e9ac36-b37c-41d6-80cc-fac878262d98"
      },
      "execution_count": 1,
      "outputs": [
        {
          "output_type": "execute_result",
          "data": {
            "text/plain": [
              "5"
            ]
          },
          "metadata": {},
          "execution_count": 1
        }
      ]
    },
    {
      "cell_type": "code",
      "source": [],
      "metadata": {
        "id": "c1St8XnJ0Pdf"
      },
      "execution_count": null,
      "outputs": []
    }
  ]
}