{
  "nbformat": 4,
  "nbformat_minor": 0,
  "metadata": {
    "colab": {
      "provenance": [],
      "gpuType": "T4",
      "authorship_tag": "ABX9TyNtLFuj5SWRAwBFVGjQM7Qw",
      "include_colab_link": true
    },
    "kernelspec": {
      "name": "python3",
      "display_name": "Python 3"
    },
    "language_info": {
      "name": "python"
    },
    "accelerator": "GPU"
  },
  "cells": [
    {
      "cell_type": "markdown",
      "metadata": {
        "id": "view-in-github",
        "colab_type": "text"
      },
      "source": [
        "<a href=\"https://colab.research.google.com/github/Jegovila/SI4/blob/main/6%20Red%20Neuronal%20Densa/C%C3%B3digos/Python/3%20Clasificacion%20binaria/Clasificaci%C3%B3n_Binaria.ipynb\" target=\"_parent\"><img src=\"https://colab.research.google.com/assets/colab-badge.svg\" alt=\"Open In Colab\"/></a>"
      ]
    },
    {
      "cell_type": "code",
      "execution_count": null,
      "metadata": {
        "id": "-d_onhwWvW6P"
      },
      "outputs": [],
      "source": [
        "!wget -nc \"https://raw.githubusercontent.com/Jegovila/SI4/main/6%20Red%20Neuronal%20Densa/C%C3%B3digos/Python/3%20Clasificacion%20binaria/df_clasificacion_1.csv\"\n",
        "!wget -nc \"https://raw.githubusercontent.com/Jegovila/SI4/main/6%20Red%20Neuronal%20Densa/C%C3%B3digos/Python/3%20Clasificacion%20binaria/df_clasificacion_2.csv\"\n",
        "!wget -nc \"https://raw.githubusercontent.com/Jegovila/SI4/main/6%20Red%20Neuronal%20Densa/C%C3%B3digos/Python/3%20Clasificacion%20binaria/df_clasificacion_3.csv\""
      ]
    },
    {
      "cell_type": "code",
      "source": [
        "import numpy as np\n",
        "import pandas as pd\n",
        "import matplotlib.pyplot as plt"
      ],
      "metadata": {
        "id": "V-qYW4LivaPG"
      },
      "execution_count": 2,
      "outputs": []
    },
    {
      "cell_type": "code",
      "source": [
        "from keras.models import Sequential\n",
        "from keras.layers import Dense\n",
        "\n",
        "from sklearn import metrics\n",
        "from sklearn.model_selection import train_test_split"
      ],
      "metadata": {
        "id": "5CXHICsyvvDb"
      },
      "execution_count": 3,
      "outputs": []
    },
    {
      "cell_type": "code",
      "source": [
        "df = pd.read_csv('df_clasificacion_3.csv') # 1, 2, 3\n",
        "\n",
        "x = np.asanyarray(df.drop(columns=['y']))\n",
        "y = np.asanyarray(df['y'])"
      ],
      "metadata": {
        "id": "m3ZRHRtQvxHB"
      },
      "execution_count": 4,
      "outputs": []
    },
    {
      "cell_type": "code",
      "source": [
        "plt.figure\n",
        "plt.grid()\n",
        "plt.title('Clasificacion')\n",
        "\n",
        "plt.plot(x[y==0,0],x[y==0,1],'ro',fillstyle='none',markersize=10)\n",
        "plt.plot(x[y==1,0],x[y==1,1],'bo',fillstyle='none',markersize=10)\n",
        "\n",
        "plt.legend(['y==0','y==1'])\n",
        "plt.xlabel('x1')\n",
        "plt.ylabel('x2')\n",
        "plt.show()"
      ],
      "metadata": {
        "id": "Q3X2_tBEvzFP"
      },
      "execution_count": null,
      "outputs": []
    },
    {
      "cell_type": "code",
      "source": [
        "xtrain, xtest, ytrain, ytest = train_test_split(x,y,test_size=0.2)"
      ],
      "metadata": {
        "id": "R0O-YP0Vwu4c"
      },
      "execution_count": 6,
      "outputs": []
    },
    {
      "cell_type": "code",
      "source": [
        "model = Sequential()\n",
        "\n",
        "model.add(Dense(100,activation='relu',input_shape=[x.shape[1]]))\n",
        "model.add(Dense(50,activation='relu'))\n",
        "model.add(Dense(25,activation='relu'))\n",
        "model.add(Dense(1,activation='sigmoid'))\n",
        "\n",
        "model.compile(loss='binary_crossentropy',optimizer='adam',metrics=['accuracy'])"
      ],
      "metadata": {
        "id": "yOT9QGJew9oL"
      },
      "execution_count": 7,
      "outputs": []
    },
    {
      "cell_type": "markdown",
      "source": [
        "loss <- funcion de perdida\n",
        "\n",
        "categorical_crossentropy <- clasificacion multiclase\n",
        "\n",
        "binary_crossentropy <- clasificacion binaria\n",
        "\n",
        "mean_squared_error <- regresion"
      ],
      "metadata": {
        "id": "Cgx42Vtqw-86"
      }
    },
    {
      "cell_type": "code",
      "source": [
        "hist = model.fit(xtrain,ytrain,batch_size=4,epochs=100,verbose=1,validation_data=(xtest,ytest))"
      ],
      "metadata": {
        "id": "i6DCAhc2xDOF"
      },
      "execution_count": null,
      "outputs": []
    },
    {
      "cell_type": "markdown",
      "source": [
        "\n",
        "loss, accuracy <- para entrenamiento\n",
        "\n",
        "val_loss, val_accuracy <- para validacion"
      ],
      "metadata": {
        "id": "i6PQtt6PxETF"
      }
    },
    {
      "cell_type": "markdown",
      "source": [
        "Accuracy"
      ],
      "metadata": {
        "id": "6jQxI5NOxL-d"
      }
    },
    {
      "cell_type": "code",
      "source": [
        "plt.figure()\n",
        "plt.grid()\n",
        "plt.plot(hist.history['accuracy'],lw=2)\n",
        "plt.plot(hist.history['val_accuracy'],lw=2)\n",
        "plt.title('model accuracy')\n",
        "plt.ylabel('accuracy')\n",
        "plt.xlabel('epoch')\n",
        "plt.legend(['train', 'test'], loc='upper left')\n",
        "plt.show()"
      ],
      "metadata": {
        "id": "Ja1nzKJzxGQQ"
      },
      "execution_count": null,
      "outputs": []
    },
    {
      "cell_type": "markdown",
      "source": [
        "Loss"
      ],
      "metadata": {
        "id": "v1Bl-gJMxOs3"
      }
    },
    {
      "cell_type": "code",
      "source": [
        "plt.figure()\n",
        "plt.grid()\n",
        "plt.plot(hist.history['loss'],lw=2)\n",
        "plt.plot(hist.history['val_loss'],lw=2)\n",
        "plt.title('model loss')\n",
        "plt.ylabel('loss')\n",
        "plt.xlabel('epoch')\n",
        "plt.legend(['train', 'test'], loc='upper left')\n",
        "plt.show()"
      ],
      "metadata": {
        "id": "CY00NS3YxKtg"
      },
      "execution_count": null,
      "outputs": []
    },
    {
      "cell_type": "code",
      "source": [
        "yp = model.predict(x)\n",
        "yp = (yp.ravel()>0.5)*1"
      ],
      "metadata": {
        "id": "QGyDu9lcxQoB"
      },
      "execution_count": null,
      "outputs": []
    },
    {
      "cell_type": "markdown",
      "source": [
        "Display"
      ],
      "metadata": {
        "id": "YSBz5XfQxTbV"
      }
    },
    {
      "cell_type": "code",
      "source": [
        "plt.figure()\n",
        "plt.title('Clasificacion')\n",
        "\n",
        "x_min, x_max = x[:, 0].min() - 0.1, x[:,0].max() + 0.1\n",
        "y_min, y_max = x[:, 1].min() - 0.1, x[:, 1].max() + 0.1\n",
        "\n",
        "xx, yy = np.meshgrid(np.linspace(x_min,x_max, 100),np.linspace(y_min, y_max, 100))\n",
        "\n",
        "x_in = np.c_[xx.ravel(), yy.ravel()]\n",
        "\n",
        "y_pred = model.predict(x_in)\n",
        "y_pred = np.round(y_pred).reshape(xx.shape)\n",
        "\n",
        "plt.contourf(xx, yy, y_pred, cmap=plt.cm.RdYlBu, alpha=0.5)\n",
        "plt.scatter(x[:,0], x[:, 1], c=y, s=40, cmap=plt.cm.RdYlBu)\n",
        "plt.xlim(xx.min(), xx.max())\n",
        "plt.ylim(yy.min(), yy.max())\n",
        "\n",
        "plt.xlabel('x1')\n",
        "plt.ylabel('x2')\n",
        "plt.show()"
      ],
      "metadata": {
        "id": "H7MhrE7YxUbS"
      },
      "execution_count": null,
      "outputs": []
    },
    {
      "cell_type": "code",
      "source": [
        "# Métricas\n",
        "print('Metricas: \\n', metrics.classification_report(y,yp))\n",
        "\n",
        "# Matriz de Confusión\n",
        "print('Confusion matrix: \\n', metrics.confusion_matrix(y,yp))"
      ],
      "metadata": {
        "id": "meGX2rYfxVun"
      },
      "execution_count": null,
      "outputs": []
    }
  ]
}