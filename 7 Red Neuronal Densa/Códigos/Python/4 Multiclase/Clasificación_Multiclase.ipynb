{
  "nbformat": 4,
  "nbformat_minor": 0,
  "metadata": {
    "colab": {
      "provenance": [],
      "authorship_tag": "ABX9TyMXw6DrzFsIzjQvmqS5Gjo7",
      "include_colab_link": true
    },
    "kernelspec": {
      "name": "python3",
      "display_name": "Python 3"
    },
    "language_info": {
      "name": "python"
    }
  },
  "cells": [
    {
      "cell_type": "markdown",
      "metadata": {
        "id": "view-in-github",
        "colab_type": "text"
      },
      "source": [
        "<a href=\"https://colab.research.google.com/github/Jegovila/SI4/blob/main/6%20Red%20Neuronal%20Densa/C%C3%B3digos/Python/4%20Multiclase/Clasificaci%C3%B3n_Multiclase.ipynb\" target=\"_parent\"><img src=\"https://colab.research.google.com/assets/colab-badge.svg\" alt=\"Open In Colab\"/></a>"
      ]
    },
    {
      "cell_type": "code",
      "source": [
        "!wget -nc \"https://raw.githubusercontent.com/Jegovila/SI4/main/6%20Red%20Neuronal%20Densa/C%C3%B3digos/Python/4%20Multiclase/Sensor.csv\""
      ],
      "metadata": {
        "id": "gI0ys7a_zOPJ"
      },
      "execution_count": null,
      "outputs": []
    },
    {
      "cell_type": "code",
      "execution_count": 2,
      "metadata": {
        "id": "L0gpnYynzFJ0"
      },
      "outputs": [],
      "source": [
        "import numpy as np\n",
        "import pandas as pd\n",
        "import matplotlib.pyplot as plt"
      ]
    },
    {
      "cell_type": "code",
      "source": [
        "from tensorflow import keras\n",
        "from keras.models import Sequential\n",
        "from keras.layers import Dense\n",
        "\n",
        "from sklearn import metrics\n",
        "from sklearn.model_selection import train_test_split"
      ],
      "metadata": {
        "id": "iqW9R7oUzKkE"
      },
      "execution_count": 3,
      "outputs": []
    },
    {
      "cell_type": "code",
      "source": [
        "df = pd.read_csv('Sensor.csv')\n",
        "\n",
        "x = np.asanyarray(df.drop(columns=['D']))\n",
        "y = np.asanyarray(df['D'])\n",
        "\n",
        "xtrain, xtest, ytrain, ytest = train_test_split(x,y,test_size=0.2)\n",
        "\n",
        "ytrain = keras.utils.to_categorical(ytrain, 9)\n",
        "ytest = keras.utils.to_categorical(ytest, 9)"
      ],
      "metadata": {
        "id": "bySj08_jzsUy"
      },
      "execution_count": 4,
      "outputs": []
    },
    {
      "cell_type": "code",
      "source": [
        "model = Sequential()\n",
        "\n",
        "model.add(Dense(100,activation='relu',input_shape=[x.shape[1]]))\n",
        "model.add(Dense(50,activation='relu'))\n",
        "model.add(Dense(25,activation='relu'))\n",
        "model.add(Dense(9,activation='softmax'))\n",
        "\n",
        "model.compile(loss='categorical_crossentropy',optimizer='adam',metrics=['accuracy'])"
      ],
      "metadata": {
        "id": "3T_zwUtxzubc"
      },
      "execution_count": 5,
      "outputs": []
    },
    {
      "cell_type": "markdown",
      "source": [
        "loss <- funcion de perdida\n",
        "\n",
        "categorical_crossentropy <- clasificacion multiclase\n",
        "\n",
        "binary_crossentropy <- clasificacion binaria\n",
        "\n",
        "mean_squared_error <- regresion"
      ],
      "metadata": {
        "id": "uBEhR76uzwqw"
      }
    },
    {
      "cell_type": "code",
      "source": [
        "hist = model.fit(xtrain,ytrain,batch_size=100,epochs=100,verbose=1,validation_data=(xtest,ytest))"
      ],
      "metadata": {
        "id": "qhpUlNzdz0tL"
      },
      "execution_count": null,
      "outputs": []
    },
    {
      "cell_type": "markdown",
      "source": [
        "loss, accuracy <- para entrenamiento\n",
        "\n",
        "val_loss, val_accuracy <- para validacion"
      ],
      "metadata": {
        "id": "ehG8SOCHz2Gf"
      }
    },
    {
      "cell_type": "markdown",
      "source": [
        "Accuracy"
      ],
      "metadata": {
        "id": "vcy98_Ilz4LI"
      }
    },
    {
      "cell_type": "code",
      "source": [
        "plt.figure()\n",
        "plt.grid()\n",
        "plt.plot(hist.history['accuracy'],lw=2)\n",
        "plt.plot(hist.history['val_accuracy'],lw=2)\n",
        "plt.title('model accuracy')\n",
        "plt.ylabel('accuracy')\n",
        "plt.xlabel('epoch')\n",
        "plt.legend(['train', 'test'], loc='upper left')\n",
        "plt.show()"
      ],
      "metadata": {
        "id": "7yR3dvWbz6Dm"
      },
      "execution_count": null,
      "outputs": []
    },
    {
      "cell_type": "markdown",
      "source": [
        "Loss"
      ],
      "metadata": {
        "id": "pOerksiJz6_1"
      }
    },
    {
      "cell_type": "code",
      "source": [
        "plt.figure()\n",
        "plt.grid()\n",
        "plt.plot(hist.history['loss'],lw=2)\n",
        "plt.plot(hist.history['val_loss'],lw=2)\n",
        "plt.title('model loss')\n",
        "plt.ylabel('loss')\n",
        "plt.xlabel('epoch')\n",
        "plt.legend(['train', 'test'], loc='upper left')\n",
        "plt.show()"
      ],
      "metadata": {
        "id": "07nrGZbbz8t4"
      },
      "execution_count": null,
      "outputs": []
    },
    {
      "cell_type": "code",
      "source": [
        "yp = model.predict(x)\n",
        "yp = np.argmax(yp,axis=1)\n",
        "\n",
        "# Métricas\n",
        "print('Metricas: \\n', metrics.classification_report(y,yp))\n",
        "\n",
        "# Matriz de Confusión\n",
        "print('Confusion matrix: \\n', metrics.confusion_matrix(y,yp))"
      ],
      "metadata": {
        "id": "3d6VqKczz-aZ"
      },
      "execution_count": null,
      "outputs": []
    }
  ]
}