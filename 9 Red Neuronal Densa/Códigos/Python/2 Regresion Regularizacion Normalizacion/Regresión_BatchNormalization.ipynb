{
  "nbformat": 4,
  "nbformat_minor": 0,
  "metadata": {
    "colab": {
      "provenance": [],
      "gpuType": "T4",
      "include_colab_link": true
    },
    "kernelspec": {
      "name": "python3",
      "display_name": "Python 3"
    },
    "language_info": {
      "name": "python"
    },
    "accelerator": "GPU"
  },
  "cells": [
    {
      "cell_type": "markdown",
      "metadata": {
        "id": "view-in-github",
        "colab_type": "text"
      },
      "source": [
        "<a href=\"https://colab.research.google.com/github/Jegovila/SI4/blob/main/9%20Red%20Neuronal%20Densa/C%C3%B3digos/Python/2%20Regresion%20Regularizacion%20Normalizacion/Regresi%C3%B3n_BatchNormalization.ipynb\" target=\"_parent\"><img src=\"https://colab.research.google.com/assets/colab-badge.svg\" alt=\"Open In Colab\"/></a>"
      ]
    },
    {
      "cell_type": "code",
      "source": [
        "!wget -nc \"https://raw.githubusercontent.com/Jegovila/SI4/main/9%20Red%20Neuronal%20Densa/C%C3%B3digos/Python/2%20Regresion%20Regularizacion%20Normalizacion/regresion_nolineal.csv\""
      ],
      "metadata": {
        "id": "VGIA1_FYrysi"
      },
      "execution_count": null,
      "outputs": []
    },
    {
      "cell_type": "code",
      "execution_count": 2,
      "metadata": {
        "id": "hsBLZgl4rk2z"
      },
      "outputs": [],
      "source": [
        "import numpy as np\n",
        "import pandas as pd\n",
        "import matplotlib.pyplot as plt"
      ]
    },
    {
      "cell_type": "code",
      "source": [
        "from keras.models import Sequential\n",
        "from keras.layers import Dense, Dropout, BatchNormalization\n",
        "from sklearn.model_selection import train_test_split\n",
        "from sklearn.metrics import r2_score\n",
        "from sklearn.preprocessing import MinMaxScaler"
      ],
      "metadata": {
        "id": "RwyKO83vroYL"
      },
      "execution_count": 10,
      "outputs": []
    },
    {
      "cell_type": "code",
      "source": [
        "df = pd.read_csv('regresion_nolineal.csv') # 1, 2, 3\n",
        "\n",
        "x = np.asanyarray(df[['time']])\n",
        "y = np.asanyarray(df[['temp']])\n",
        "\n",
        "x = MinMaxScaler().fit_transform(x)\n",
        "\n",
        "xtrain, xtest, ytrain, ytest = train_test_split(x,y,test_size=0.2)"
      ],
      "metadata": {
        "id": "eEBWqwTWrxNn"
      },
      "execution_count": 11,
      "outputs": []
    },
    {
      "cell_type": "code",
      "source": [
        "model = Sequential()\n",
        "\n",
        "model.add(Dense(100,activation='relu',input_shape=[x.shape[1]]))\n",
        "#model.add(BatchNormalization())\n",
        "model.add(Dense(50,activation='relu'))\n",
        "model.add(Dense(30,activation='relu'))\n",
        "#model.add(Dropout(0.2))\n",
        "model.add(Dense(1,activation='linear'))\n",
        "\n",
        "model.compile(loss='mean_squared_error',optimizer='adam')"
      ],
      "metadata": {
        "id": "-OJIqFItr6iz"
      },
      "execution_count": 24,
      "outputs": []
    },
    {
      "cell_type": "markdown",
      "source": [
        "loss <- funcion de perdida\n",
        "\n",
        "categorical_crossentropy <- clasificacion multiclase\n",
        "\n",
        "binary_crossentropy <- clasificacion binaria\n",
        "\n",
        "mean_squared_error <- regresion"
      ],
      "metadata": {
        "id": "WjwpOrUkr8HB"
      }
    },
    {
      "cell_type": "code",
      "source": [
        "hist = model.fit(xtrain,ytrain,batch_size=1024,epochs=400,verbose=1,validation_data=(xtest,ytest))"
      ],
      "metadata": {
        "id": "fOQMm5cqsAIe"
      },
      "execution_count": null,
      "outputs": []
    },
    {
      "cell_type": "markdown",
      "source": [
        "loss <- para entrenamiento\n",
        "\n",
        "val_loss <- para validacion"
      ],
      "metadata": {
        "id": "c8zqdN_lsCDh"
      }
    },
    {
      "cell_type": "code",
      "source": [
        "plt.figure()\n",
        "plt.grid()\n",
        "plt.plot(hist.history['loss'],lw=2)\n",
        "plt.plot(hist.history['val_loss'],lw=2)\n",
        "plt.title('model loss')\n",
        "plt.ylabel('loss')\n",
        "plt.xlabel('epoch')\n",
        "plt.legend(['train', 'test'], loc='upper left')\n",
        "plt.show()"
      ],
      "metadata": {
        "id": "AH0LaQATsESg"
      },
      "execution_count": null,
      "outputs": []
    },
    {
      "cell_type": "markdown",
      "source": [
        "Métricas de Regresión"
      ],
      "metadata": {
        "id": "ruJWTeGwsGDO"
      }
    },
    {
      "cell_type": "code",
      "source": [
        "e_train = r2_score(ytrain,model.predict(xtrain))\n",
        "e_test = r2_score(ytest,model.predict(xtest))\n",
        "\n",
        "print('Train score: ', e_train)\n",
        "print('Test score: ', e_test)"
      ],
      "metadata": {
        "id": "F9Hr7xP_sHjy"
      },
      "execution_count": null,
      "outputs": []
    },
    {
      "cell_type": "markdown",
      "source": [
        "Gráfica"
      ],
      "metadata": {
        "id": "ty_qn1chsI_M"
      }
    },
    {
      "cell_type": "code",
      "source": [
        "yp = model.predict(x)\n",
        "plt.figure()\n",
        "plt.grid()\n",
        "plt.title('Regresion no lineal')\n",
        "plt.xlabel('time')\n",
        "plt.ylabel('temp')\n",
        "\n",
        "plt.plot(x,y,'bo')\n",
        "plt.plot(x,yp,'r-')\n",
        "plt.legend(['Entrenamiento','Generalizacion'])\n",
        "plt.show()"
      ],
      "metadata": {
        "id": "yWT8nPuAsKYJ"
      },
      "execution_count": null,
      "outputs": []
    }
  ]
}