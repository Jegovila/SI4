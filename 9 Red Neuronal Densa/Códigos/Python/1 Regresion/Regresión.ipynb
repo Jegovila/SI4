{
  "nbformat": 4,
  "nbformat_minor": 0,
  "metadata": {
    "colab": {
      "provenance": [],
      "authorship_tag": "ABX9TyOg2KUAjRpeHtMj3eZUVqUa",
      "include_colab_link": true
    },
    "kernelspec": {
      "name": "python3",
      "display_name": "Python 3"
    },
    "language_info": {
      "name": "python"
    }
  },
  "cells": [
    {
      "cell_type": "markdown",
      "metadata": {
        "id": "view-in-github",
        "colab_type": "text"
      },
      "source": [
        "<a href=\"https://colab.research.google.com/github/Jegovila/SI4/blob/main/8%20Red%20Neuronal%20Densa/C%C3%B3digos/Python/1%20Regresion/Regresi%C3%B3n.ipynb\" target=\"_parent\"><img src=\"https://colab.research.google.com/assets/colab-badge.svg\" alt=\"Open In Colab\"/></a>"
      ]
    },
    {
      "cell_type": "code",
      "execution_count": null,
      "metadata": {
        "id": "aNVYJrxHzLKV"
      },
      "outputs": [],
      "source": [
        "!wget -nc \"https://raw.githubusercontent.com/Jegovila/SI4/main/8%20Red%20Neuronal%20Densa/C%C3%B3digos/Python/1%20Regresion/df_regresion_nolineal_1.csv\"\n",
        "!wget -nc \"https://raw.githubusercontent.com/Jegovila/SI4/main/8%20Red%20Neuronal%20Densa/C%C3%B3digos/Python/1%20Regresion/df_regresion_nolineal_2.csv\"\n",
        "!wget -nc \"https://raw.githubusercontent.com/Jegovila/SI4/main/8%20Red%20Neuronal%20Densa/C%C3%B3digos/Python/1%20Regresion/df_regresion_nolineal_3.csv\""
      ]
    },
    {
      "cell_type": "code",
      "source": [
        "import numpy as np\n",
        "import pandas as pd\n",
        "import matplotlib.pyplot as plt\n",
        "\n",
        "from keras.models import Sequential\n",
        "from keras.layers import Dense\n",
        "from sklearn.model_selection import train_test_split\n",
        "from sklearn.metrics import r2_score"
      ],
      "metadata": {
        "id": "hnXALttBzPyO"
      },
      "execution_count": null,
      "outputs": []
    },
    {
      "cell_type": "code",
      "source": [
        "df = pd.read_csv('df_regresion_nolineal_3.csv') # 1, 2, 3\n",
        "\n",
        "x = np.asanyarray(df[['x']])\n",
        "y = np.asanyarray(df[['y']])\n",
        "\n",
        "xtrain, xtest, ytrain, ytest = train_test_split(x,y,test_size=0.2)"
      ],
      "metadata": {
        "id": "q_F6uJN_zVf0"
      },
      "execution_count": null,
      "outputs": []
    },
    {
      "cell_type": "code",
      "source": [
        "model = Sequential()\n",
        "model.add(Dense(100,activation='relu',input_shape=[x.shape[1]]))\n",
        "model.add(Dense(50,activation='relu'))\n",
        "model.add(Dense(25,activation='relu'))\n",
        "model.add(Dense(1,activation='linear'))"
      ],
      "metadata": {
        "id": "gKQIf_gjzXDr"
      },
      "execution_count": null,
      "outputs": []
    },
    {
      "cell_type": "markdown",
      "source": [
        "loss -> funcion de perdida:\n",
        "\n",
        "categorical_crossentropy -> clasificacion multiclase\n",
        "\n",
        "binary_crossentropy -> clasificacion binaria\n",
        "\n",
        "mean_squared_error -> regresion"
      ],
      "metadata": {
        "id": "IBXZkhEszZgC"
      }
    },
    {
      "cell_type": "code",
      "source": [
        "model.compile(loss='mean_squared_error',optimizer='adam')"
      ],
      "metadata": {
        "id": "AvMLhVcmzjQJ"
      },
      "execution_count": null,
      "outputs": []
    },
    {
      "cell_type": "code",
      "source": [
        "hist = model.fit(xtrain,ytrain,batch_size=2,epochs=100,verbose=1,validation_data=(xtest,ytest))"
      ],
      "metadata": {
        "id": "MdC8wDC1zrOL"
      },
      "execution_count": null,
      "outputs": []
    },
    {
      "cell_type": "markdown",
      "source": [
        "loss -> Para entrenamiento\n",
        "\n",
        "val_loss -> para validación"
      ],
      "metadata": {
        "id": "SpOIHG--zsmN"
      }
    },
    {
      "cell_type": "code",
      "source": [
        "plt.figure()\n",
        "plt.grid()\n",
        "plt.plot(hist.history['loss'],lw=2)\n",
        "plt.plot(hist.history['val_loss'],lw=2)\n",
        "plt.title('model loss')\n",
        "plt.ylabel('loss')\n",
        "plt.xlabel('epoch')\n",
        "plt.legend(['train', 'test'], loc='upper left')\n",
        "plt.show()"
      ],
      "metadata": {
        "id": "I9FFU3Nb0Kpu"
      },
      "execution_count": null,
      "outputs": []
    },
    {
      "cell_type": "markdown",
      "source": [
        "Métricas de regresión"
      ],
      "metadata": {
        "id": "JTF0KjNz0Lwn"
      }
    },
    {
      "cell_type": "code",
      "source": [
        "e_train = r2_score(ytrain,model.predict(xtrain))\n",
        "e_test = r2_score(ytest,model.predict(xtest))\n",
        "\n",
        "print('Train score: ', e_train)\n",
        "print('Test score: ', e_test)"
      ],
      "metadata": {
        "id": "s7tlI17W0PI2"
      },
      "execution_count": null,
      "outputs": []
    },
    {
      "cell_type": "markdown",
      "source": [
        "Gráficas"
      ],
      "metadata": {
        "id": "XbXuPDcx8lXZ"
      }
    },
    {
      "cell_type": "code",
      "source": [
        "yp = model.predict(x)\n",
        "\n",
        "plt.figure()\n",
        "plt.grid()\n",
        "plt.title('Regresion no lineal')\n",
        "plt.xlabel('x')\n",
        "plt.ylabel('y')\n",
        "\n",
        "plt.plot(x,y,'bo')\n",
        "plt.plot(x,yp,'r-')\n",
        "plt.legend(['Entrenamiento','Generalizacion'])\n",
        "plt.show()"
      ],
      "metadata": {
        "id": "WS8yh9zw8nEl"
      },
      "execution_count": null,
      "outputs": []
    }
  ]
}