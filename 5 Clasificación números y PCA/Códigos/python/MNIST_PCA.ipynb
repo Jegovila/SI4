{
  "nbformat": 4,
  "nbformat_minor": 0,
  "metadata": {
    "colab": {
      "provenance": [],
      "authorship_tag": "ABX9TyNdBIVysq3pGHK1Irm0tSzg",
      "include_colab_link": true
    },
    "kernelspec": {
      "name": "python3",
      "display_name": "Python 3"
    },
    "language_info": {
      "name": "python"
    }
  },
  "cells": [
    {
      "cell_type": "markdown",
      "metadata": {
        "id": "view-in-github",
        "colab_type": "text"
      },
      "source": [
        "<a href=\"https://colab.research.google.com/github/Jegovila/SI4/blob/main/5%20Clasificaci%C3%B3n%20n%C3%BAmeros%20y%20PCA/C%C3%B3digos/python/MNIST_PCA.ipynb\" target=\"_parent\"><img src=\"https://colab.research.google.com/assets/colab-badge.svg\" alt=\"Open In Colab\"/></a>"
      ]
    },
    {
      "cell_type": "code",
      "execution_count": null,
      "metadata": {
        "id": "P3PC6XzZN0zK"
      },
      "outputs": [],
      "source": [
        "!wget -nc \"https://media.githubusercontent.com/media/Jegovila/SI4/main/5%20Clasificaci%C3%B3n%20n%C3%BAmeros%20y%20PCA/C%C3%B3digos/python/mnist_784.csv\"\n",
        "!wget -nc \"https://github.com/Jegovila/SI4/raw/main/5%20Clasificaci%C3%B3n%20n%C3%BAmeros%20y%20PCA/C%C3%B3digos/python/MLP_MNIST.sav\"\n",
        "!wget -nc \"https://raw.githubusercontent.com/Jegovila/SI4/main/5%20Clasificaci%C3%B3n%20n%C3%BAmeros%20y%20PCA/C%C3%B3digos/python/photo.jpg\""
      ]
    },
    {
      "cell_type": "code",
      "source": [
        "import pandas as pd\n",
        "import numpy as np\n",
        "import matplotlib.pyplot as plt\n",
        "import cv2\n",
        "\n",
        "from sklearn.model_selection import train_test_split\n",
        "from sklearn.pipeline import Pipeline\n",
        "from sklearn.preprocessing import StandardScaler\n",
        "from sklearn.decomposition import PCA\n",
        "from sklearn import metrics\n",
        "\n",
        "from sklearn.neural_network import MLPClassifier\n",
        "import pickle"
      ],
      "metadata": {
        "id": "oD9qvw-lN9gq"
      },
      "execution_count": 2,
      "outputs": []
    },
    {
      "cell_type": "code",
      "source": [
        "data = pd.read_csv('mnist_784.csv')\n",
        "print(data)\n",
        "\n",
        "n = 70000 # datos\n",
        "m = 28 # 28x28=784\n",
        "\n",
        "x = np.asanyarray(data.drop(columns=['class']))\n",
        "y = np.asanyarray(data[['class']])\n",
        "\n",
        "x_train, x_test, y_train, y_test = train_test_split(x,y,test_size=0.25)"
      ],
      "metadata": {
        "id": "VQqsja1uODYt"
      },
      "execution_count": null,
      "outputs": []
    },
    {
      "cell_type": "markdown",
      "source": [
        "¿Cuántos componentes?"
      ],
      "metadata": {
        "id": "FPsWpw8XoqEa"
      }
    },
    {
      "cell_type": "code",
      "source": [
        "scaler = StandardScaler()\n",
        "X = data.drop('class',axis=1)\n",
        "X = scaler.fit_transform(X)\n",
        "\n",
        "dfx = pd.DataFrame(data=X,columns=data.columns[1:])\n",
        "pca = PCA(n_components=None)\n",
        "pca.fit(dfx)\n",
        "print(pca.explained_variance_)\n",
        "\n",
        "plt.plot(pca.explained_variance_ratio_.cumsum(), marker = \"o\", linestyle=\"--\")\n",
        "plt.title(\"Explained variance by Components\")\n",
        "plt.xlabel(\"Number of Components\")\n",
        "plt.ylabel(\"Sum\")"
      ],
      "metadata": {
        "id": "VO2TUDqmornX"
      },
      "execution_count": null,
      "outputs": []
    },
    {
      "cell_type": "code",
      "source": [
        "th = 0.8\n",
        "print(\"Con \", np.min(np.argwhere(pca.explained_variance_ratio_.cumsum() > th)), \" Componentes, se supera el \", th, \" de variabilidad.\")"
      ],
      "metadata": {
        "id": "gazyfF1MqGtP"
      },
      "execution_count": null,
      "outputs": []
    },
    {
      "cell_type": "markdown",
      "source": [
        "### Entrenar"
      ],
      "metadata": {
        "id": "_zMPy8sVcFix"
      }
    },
    {
      "cell_type": "code",
      "source": [
        "print('\\n MLP:')\n",
        "model_MLP = Pipeline([('SS',StandardScaler()),\n",
        "                  ('PCA',PCA(n_components=50)),\n",
        "                  ('MLP',MLPClassifier(hidden_layer_sizes=(100,100),solver='adam',\n",
        "                                       activation='relu',batch_size=200,\n",
        "                                       max_iter=2000,alpha=0.0001))])\n",
        "\n",
        "model_MLP.fit(x_train,y_train.ravel())\n",
        "\n",
        "print('Train score: ',model_MLP.score(x_train, y_train))\n",
        "print('Test score: ',model_MLP.score(x_test, y_test))"
      ],
      "metadata": {
        "id": "Q88lEcg8bJOT"
      },
      "execution_count": null,
      "outputs": []
    },
    {
      "cell_type": "code",
      "source": [
        "ypred = model_MLP.predict(x_test)\n",
        "\n",
        "print('Metricas: \\n', metrics.classification_report(y_test,ypred))\n",
        "print('Confusion matrix: \\n', metrics.confusion_matrix(y_test,ypred))"
      ],
      "metadata": {
        "id": "tzVqplywbe6T"
      },
      "execution_count": null,
      "outputs": []
    },
    {
      "cell_type": "markdown",
      "source": [
        "Solo si queremos guardar el modelo"
      ],
      "metadata": {
        "id": "SG_BHFh3cm49"
      }
    },
    {
      "cell_type": "code",
      "source": [
        "pickle.dump(model_MLP,open('MLP_MNIST.sav','wb'))"
      ],
      "metadata": {
        "id": "96pU_sonbjfD"
      },
      "execution_count": null,
      "outputs": []
    },
    {
      "cell_type": "markdown",
      "source": [
        "### Cargar modelo"
      ],
      "metadata": {
        "id": "r18oU-IxcJDz"
      }
    },
    {
      "cell_type": "markdown",
      "source": [
        "Si en lugar de entrenar queremos utilizar un modelo previo"
      ],
      "metadata": {
        "id": "5XYoHfGBcqjx"
      }
    },
    {
      "cell_type": "code",
      "source": [
        "model_MLP = pickle.load(open('MLP_MNIST.sav', 'rb'))"
      ],
      "metadata": {
        "id": "7yO2mQVSb75_"
      },
      "execution_count": null,
      "outputs": []
    },
    {
      "cell_type": "markdown",
      "source": [
        "### Leer webcam y tomar foto"
      ],
      "metadata": {
        "id": "e017GFQccxg-"
      }
    },
    {
      "cell_type": "code",
      "source": [
        "from IPython.display import display, Javascript\n",
        "from google.colab.output import eval_js\n",
        "from base64 import b64decode\n",
        "\n",
        "def take_photo(filename='photo.jpg', quality=0.8):\n",
        "  js = Javascript('''\n",
        "    async function takePhoto(quality) {\n",
        "      const div = document.createElement('div');\n",
        "      const capture = document.createElement('button');\n",
        "      capture.textContent = 'Capture';\n",
        "      div.appendChild(capture);\n",
        "\n",
        "      const video = document.createElement('video');\n",
        "      video.style.display = 'block';\n",
        "      const stream = await navigator.mediaDevices.getUserMedia({video: true});\n",
        "\n",
        "      document.body.appendChild(div);\n",
        "      div.appendChild(video);\n",
        "      video.srcObject = stream;\n",
        "      await video.play();\n",
        "\n",
        "      // Resize the output to fit the video element.\n",
        "      google.colab.output.setIframeHeight(document.documentElement.scrollHeight, true);\n",
        "\n",
        "      // Wait for Capture to be clicked.\n",
        "      await new Promise((resolve) => capture.onclick = resolve);\n",
        "\n",
        "      const canvas = document.createElement('canvas');\n",
        "      canvas.width = video.videoWidth;\n",
        "      canvas.height = video.videoHeight;\n",
        "      canvas.getContext('2d').drawImage(video, 0, 0);\n",
        "      stream.getVideoTracks()[0].stop();\n",
        "      div.remove();\n",
        "      return canvas.toDataURL('image/jpeg', quality);\n",
        "    }\n",
        "    ''')\n",
        "  display(js)\n",
        "  data = eval_js('takePhoto({})'.format(quality))\n",
        "  binary = b64decode(data.split(',')[1])\n",
        "  with open(filename, 'wb') as f:\n",
        "    f.write(binary)\n",
        "  return filename"
      ],
      "metadata": {
        "id": "p885Rih3c_DY"
      },
      "execution_count": null,
      "outputs": []
    },
    {
      "cell_type": "code",
      "source": [
        "from IPython.display import Image\n",
        "try:\n",
        "  filename = take_photo()\n",
        "  print('Saved to {}'.format(filename))\n",
        "\n",
        "  # Show the image which was just taken.\n",
        "  display(Image(filename))\n",
        "except Exception as err:\n",
        "  # Errors will be thrown if the user does not have a webcam or if they do not\n",
        "  # grant the page permission to access it.\n",
        "  print(str(err))"
      ],
      "metadata": {
        "id": "gP8_kvnCds3G"
      },
      "execution_count": null,
      "outputs": []
    },
    {
      "cell_type": "markdown",
      "source": [
        "Detección del Aruco"
      ],
      "metadata": {
        "id": "cfce9Cn-eWvr"
      }
    },
    {
      "cell_type": "markdown",
      "source": [
        "El aruco nos va a servir para recortar la imagen y solo tomar el número para la predicción."
      ],
      "metadata": {
        "id": "-UwOJLenetve"
      }
    },
    {
      "cell_type": "code",
      "source": [
        "dictionary = cv2.aruco.getPredefinedDictionary(cv2.aruco.DICT_4X4_100)\n",
        "parameters =  cv2.aruco.DetectorParameters()\n",
        "detector = cv2.aruco.ArucoDetector(dictionary, parameters)"
      ],
      "metadata": {
        "id": "M9bsELOddRHT"
      },
      "execution_count": null,
      "outputs": []
    },
    {
      "cell_type": "markdown",
      "source": [
        "Predicción"
      ],
      "metadata": {
        "id": "fTDNlGibeZrR"
      }
    },
    {
      "cell_type": "code",
      "source": [
        "frame = cv2.imread(\"photo.jpg\")\n",
        "corners, ids, _ = detector.detectMarkers(frame)\n",
        "\n",
        "if len(corners) > 0 and len(ids)==1:\n",
        "    points = np.asarray(corners)\n",
        "    points = points.reshape(4,2)\n",
        "    points = points.astype(int)\n",
        "\n",
        "    p3 = points[2,:]\n",
        "    p4 = points[3,:]\n",
        "\n",
        "    d = 2*(abs(p3[0]-p4[0]))\n",
        "\n",
        "    # frame[y:y+h,x:x+w]\n",
        "    number = frame[p3[1]:p3[1]+d,p3[0]:p3[0]+d]\n",
        "\n",
        "    # rectangle(frame, (x, y), (x+w, y+h), (0, 0, 255), 10)\n",
        "    frame = cv2.rectangle(frame, (p3[0],p3[1]), (p3[0]+d,p3[1]+d), (0,255,0), 2)\n",
        "\n",
        "    number = cv2.cvtColor(number,cv2.COLOR_BGR2GRAY)\n",
        "    _ , number = cv2.threshold(number,100,255,cv2.THRESH_BINARY_INV)\n",
        "    number = cv2.resize(number,(28,28))\n",
        "\n",
        "    pattern = number.reshape(1,784)\n",
        "\n",
        "    prediction = model_MLP.predict(pattern)\n",
        "    print(prediction)\n",
        "\n",
        "    number = cv2.resize(number,(100,100))\n",
        "    plt.imshow(number, cmap=\"gray\")"
      ],
      "metadata": {
        "id": "i2KSWvmadVhJ"
      },
      "execution_count": null,
      "outputs": []
    }
  ]
}