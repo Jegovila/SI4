{
  "nbformat": 4,
  "nbformat_minor": 0,
  "metadata": {
    "colab": {
      "provenance": [],
      "authorship_tag": "ABX9TyPAaKmqYXE6444vVRlQofKp",
      "include_colab_link": true
    },
    "kernelspec": {
      "name": "python3",
      "display_name": "Python 3"
    },
    "language_info": {
      "name": "python"
    }
  },
  "cells": [
    {
      "cell_type": "markdown",
      "metadata": {
        "id": "view-in-github",
        "colab_type": "text"
      },
      "source": [
        "<a href=\"https://colab.research.google.com/github/Jegovila/SI4/blob/main/5%20Clasificaci%C3%B3n%20n%C3%BAmeros%20y%20PCA/C%C3%B3digos/python/PCA.ipynb\" target=\"_parent\"><img src=\"https://colab.research.google.com/assets/colab-badge.svg\" alt=\"Open In Colab\"/></a>"
      ]
    },
    {
      "cell_type": "code",
      "execution_count": null,
      "metadata": {
        "id": "ZzKxq2edpwkP"
      },
      "outputs": [],
      "source": [
        "!wget -nc \"https://raw.githubusercontent.com/Jegovila/SI4/main/5%20Clasificaci%C3%B3n%20n%C3%BAmeros%20y%20PCA/C%C3%B3digos/python/wine.csv\""
      ]
    },
    {
      "cell_type": "code",
      "source": [
        "import numpy as np\n",
        "import pandas as pd\n",
        "import matplotlib.pyplot as plt\n",
        "import seaborn as sns"
      ],
      "metadata": {
        "id": "nNvYoXXCrECI"
      },
      "execution_count": 2,
      "outputs": []
    },
    {
      "cell_type": "code",
      "source": [
        "df = pd.read_csv(\"wine.csv\")\n",
        "df"
      ],
      "metadata": {
        "id": "WE7VlXq2rKta"
      },
      "execution_count": null,
      "outputs": []
    },
    {
      "cell_type": "code",
      "source": [
        "df.iloc[:,1:].describe()"
      ],
      "metadata": {
        "id": "7tr2xMujreu4"
      },
      "execution_count": null,
      "outputs": []
    },
    {
      "cell_type": "code",
      "source": [
        "for c in df.columns[1:]:\n",
        "    df.boxplot(c,by='Class',figsize=(7,4),fontsize=14)\n",
        "    plt.title(\"{}\\n\".format(c),fontsize=16)\n",
        "    plt.xlabel(\"Wine Class\", fontsize=16)"
      ],
      "metadata": {
        "id": "SaL95cWBtTH7"
      },
      "execution_count": null,
      "outputs": []
    },
    {
      "cell_type": "code",
      "source": [
        "#plt.figure(figsize=(10,6))\n",
        "plt.scatter(df['OD280/OD315 of diluted wines'],df['Flavanoids'],c=df['Class'],edgecolors='k',alpha=0.75,s=150)\n",
        "plt.grid(True)\n",
        "plt.title(\"Scatter plot of two features showing the \\ncorrelation and class seperation\",fontsize=15)\n",
        "plt.xlabel(\"OD280/OD315 of diluted wines\",fontsize=15)\n",
        "plt.ylabel(\"Flavanoids\",fontsize=15)\n",
        "plt.show()"
      ],
      "metadata": {
        "id": "clqXVSkewB1o"
      },
      "execution_count": null,
      "outputs": []
    },
    {
      "cell_type": "code",
      "source": [
        "def correlation_matrix(df):\n",
        "    from matplotlib import pyplot as plt\n",
        "    from matplotlib import cm as cm\n",
        "\n",
        "    fig = plt.figure(figsize=(8,6))\n",
        "    ax1 = fig.add_subplot(111)\n",
        "    cmap = cm.get_cmap('jet', 30)\n",
        "    cax = ax1.imshow(df.corr(), interpolation=\"nearest\", cmap=cmap)\n",
        "    ax1.grid(True)\n",
        "    plt.title('Wine data set features correlation\\n',fontsize=15)\n",
        "    labels=df.columns\n",
        "    ax1.set_xticklabels(labels,fontsize=9)\n",
        "    ax1.set_yticklabels(labels,fontsize=9)\n",
        "    # Add colorbar, make sure to specify tick locations to match desired ticklabels\n",
        "    fig.colorbar(cax, ticks=[0.1*i for i in range(-11,11)])\n",
        "    plt.show()\n",
        "\n",
        "correlation_matrix(df)"
      ],
      "metadata": {
        "id": "nGUVeBoazclA"
      },
      "execution_count": null,
      "outputs": []
    },
    {
      "cell_type": "markdown",
      "source": [
        "# PCA"
      ],
      "metadata": {
        "id": "vBIIMx0cz5BG"
      }
    },
    {
      "cell_type": "code",
      "source": [
        "from sklearn.preprocessing import StandardScaler"
      ],
      "metadata": {
        "id": "k10ElyM_z6Qc"
      },
      "execution_count": 17,
      "outputs": []
    },
    {
      "cell_type": "code",
      "source": [
        "scaler = StandardScaler()"
      ],
      "metadata": {
        "id": "Y4m-Q66xz8UY"
      },
      "execution_count": 25,
      "outputs": []
    },
    {
      "cell_type": "code",
      "source": [
        "X = df.drop('Class',axis=1)\n",
        "y = df['Class']"
      ],
      "metadata": {
        "id": "HQPT3RwBz96k"
      },
      "execution_count": 26,
      "outputs": []
    },
    {
      "cell_type": "code",
      "source": [
        "X = scaler.fit_transform(X)"
      ],
      "metadata": {
        "id": "4fJR8_lB0BnL"
      },
      "execution_count": 27,
      "outputs": []
    },
    {
      "cell_type": "code",
      "source": [
        "dfx = pd.DataFrame(data=X,columns=df.columns[1:])\n",
        "dfx"
      ],
      "metadata": {
        "id": "t0qEdcNB0hWc"
      },
      "execution_count": null,
      "outputs": []
    },
    {
      "cell_type": "markdown",
      "source": [
        "import PCA"
      ],
      "metadata": {
        "id": "XqI26TR71BTp"
      }
    },
    {
      "cell_type": "code",
      "source": [
        "from sklearn.decomposition import PCA"
      ],
      "metadata": {
        "id": "vXgxt8HI1AH0"
      },
      "execution_count": 37,
      "outputs": []
    },
    {
      "cell_type": "code",
      "source": [
        "pca = PCA(n_components=None)\n",
        "pca.fit(dfx)"
      ],
      "metadata": {
        "id": "qJUIiyDB1E4J"
      },
      "execution_count": 72,
      "outputs": []
    },
    {
      "cell_type": "code",
      "source": [
        "pca.explained_variance_ratio_"
      ],
      "metadata": {
        "id": "nb5zwNWy1dOU"
      },
      "execution_count": null,
      "outputs": []
    },
    {
      "cell_type": "code",
      "source": [
        "plt.plot(pca.explained_variance_ratio_.cumsum(), marker = \"o\", linestyle=\"--\")\n",
        "plt.title(\"Explained variance by Components\")\n",
        "plt.xlabel(\"Number of Components\")\n",
        "plt.ylabel(\"Sum\")"
      ],
      "metadata": {
        "id": "dBgAq41k1-gH"
      },
      "execution_count": null,
      "outputs": []
    },
    {
      "cell_type": "code",
      "source": [
        "dfx_trans = pca.transform(dfx)\n",
        "dfx_trans = pd.DataFrame(data=dfx_trans)\n",
        "dfx_trans.head(10)"
      ],
      "metadata": {
        "id": "GgG6WtQa5WjH"
      },
      "execution_count": null,
      "outputs": []
    },
    {
      "cell_type": "code",
      "source": [
        "plt.figure(figsize=(10,6))\n",
        "plt.scatter(dfx_trans[0],dfx_trans[1],c=df['Class'],edgecolors='k',alpha=0.75,s=150)\n",
        "plt.grid(True)\n",
        "plt.title(\"Class separation using first two principal components\\n\",fontsize=20)\n",
        "plt.xlabel(\"Principal component-1\",fontsize=15)\n",
        "plt.ylabel(\"Principal component-2\",fontsize=15)\n",
        "plt.show()"
      ],
      "metadata": {
        "id": "5VD8lC7B5QdP"
      },
      "execution_count": null,
      "outputs": []
    }
  ]
}